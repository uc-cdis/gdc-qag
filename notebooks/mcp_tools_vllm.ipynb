{
 "cells": [
  {
   "cell_type": "code",
   "execution_count": null,
   "id": "0",
   "metadata": {},
   "outputs": [],
   "source": [
    "# Download tool-calling template\n",
    "!wget https://github.com/vllm-project/vllm/blob/main/examples/tool_chat_template_llama3.1_json.jinja"
   ]
  },
  {
   "cell_type": "markdown",
   "id": "1",
   "metadata": {},
   "source": [
    "### start LLM inference server with tool calling enabled\n",
    "- test llama3.2* \n",
    "- see https://docs.vllm.ai/en/stable/features/tool_calling.html#llama-models-llama3_json"
   ]
  },
  {
   "cell_type": "code",
   "execution_count": null,
   "id": "2",
   "metadata": {},
   "outputs": [],
   "source": [
    "import threading\n",
    "import subprocess\n",
    "import time\n",
    "import requests\n",
    "\n",
    "p_vllm = subprocess.Popen([\n",
    "    \"vllm\", \"serve\",\n",
    "    \"meta-llama/Llama-3.2-3B-Instruct\",\n",
    "    \"--dtype\", \"float16\",\n",
    "    \"--max-model-len\", \"8184\",\n",
    "    \"--enforce-eager\",\n",
    "    \"--trust-remote-code\",\n",
    "    \"--enable-auto-tool-choice\",\n",
    "    \"--tool-call-parser\", \"llama3_json\",\n",
    "    '--chat-template', 'tool_chat_template_llama3.1_json.jinja'\n",
    "])\n",
    "\n",
    "# wait for vLLM to startup, takes about 3 minutes\n",
    "while True:\n",
    "    try:\n",
    "        response = requests.get(\"http://localhost:8000/v1/models\")\n",
    "        break\n",
    "    except:\n",
    "        time.sleep(1)\n",
    "\n",
    "response.json()"
   ]
  }
 ],
 "metadata": {
  "kernelspec": {
   "display_name": "Python (Poetry venv-3.9.2)",
   "language": "python",
   "name": "venv-3.9.2"
  },
  "language_info": {
   "codemirror_mode": {
    "name": "ipython",
    "version": 3
   },
   "file_extension": ".py",
   "mimetype": "text/x-python",
   "name": "python",
   "nbconvert_exporter": "python",
   "pygments_lexer": "ipython3",
   "version": "3.9.2"
  }
 },
 "nbformat": 4,
 "nbformat_minor": 5
}
