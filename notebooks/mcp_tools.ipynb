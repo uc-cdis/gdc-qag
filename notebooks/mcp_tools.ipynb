{
 "cells": [
  {
   "cell_type": "code",
   "execution_count": null,
   "id": "c6aa86be",
   "metadata": {},
   "outputs": [],
   "source": [
    "from langchain_mcp_adapters.client import MultiServerMCPClient"
   ]
  },
  {
   "cell_type": "code",
   "execution_count": 20,
   "id": "f353c1dc",
   "metadata": {},
   "outputs": [],
   "source": [
    "# MCP server URL with /sse\n",
    "mcp_url = \"https://uc-ctds-gdc-qag.hf.space/gradio_api/mcp/sse/\""
   ]
  },
  {
   "cell_type": "code",
   "execution_count": 21,
   "id": "c8a38838",
   "metadata": {},
   "outputs": [],
   "source": [
    "client = MultiServerMCPClient(\n",
    "    {\n",
    "        \"gdc_qag\": {\n",
    "            \"url\": mcp_url,\n",
    "            \"transport\": \"sse\",\n",
    "        }\n",
    "    }\n",
    ")"
   ]
  },
  {
   "cell_type": "code",
   "execution_count": 38,
   "id": "b37c388e",
   "metadata": {},
   "outputs": [],
   "source": [
    "tools = await client.get_tools()"
   ]
  },
  {
   "cell_type": "code",
   "execution_count": 39,
   "id": "324559ce",
   "metadata": {},
   "outputs": [
    {
     "data": {
      "text/plain": [
       "[StructuredTool(name='GDC_QAG_execute_pipeline', args_schema={'type': 'object', 'properties': {'question': {'type': 'string'}}}, response_format='content_and_artifact', coroutine=<function convert_mcp_tool_to_langchain_tool.<locals>.call_tool at 0x7f724100ef80>)]"
      ]
     },
     "execution_count": 39,
     "metadata": {},
     "output_type": "execute_result"
    }
   ],
   "source": [
    "tools"
   ]
  },
  {
   "cell_type": "code",
   "execution_count": 48,
   "id": "2e2666fd",
   "metadata": {},
   "outputs": [
    {
     "data": {
      "text/plain": [
       "StructuredTool(name='GDC_QAG_execute_pipeline', args_schema={'type': 'object', 'properties': {'question': {'type': 'string'}}}, response_format='content_and_artifact', coroutine=<function convert_mcp_tool_to_langchain_tool.<locals>.call_tool at 0x7f724100ef80>)"
      ]
     },
     "execution_count": 48,
     "metadata": {},
     "output_type": "execute_result"
    }
   ],
   "source": [
    "tools[0]"
   ]
  },
  {
   "cell_type": "code",
   "execution_count": 49,
   "id": "c272f996",
   "metadata": {},
   "outputs": [
    {
     "name": "stdout",
     "output_type": "stream",
     "text": [
      "Tool output: Question: What is the co-occurence frequency of somatic heterozygous deletions in BRCA2 and NF1 in the Kidney Chromophobe TCGA-KICH project in the genomic data commons?\n",
      "llama-3B baseline output: 0.0%\n",
      "Query augmented prompt: What is the co-occurence frequency of somatic heterozygous deletions in BRCA2 and NF1 in the Kidney Chromophobe TCGA-KICH project in the genomic data commons? Only report the final response. Ignore all prior knowledge. You must only respond with the following percentage frequencies in your response, no other response is allowed: \n",
      "joint frequency in TCGA-KICH is 55.0%\n",
      "Query augmented generation: The final answer is: 55.0%\n"
     ]
    }
   ],
   "source": [
    "import asyncio\n",
    "question = \"What is the co-occurence frequency of somatic heterozygous deletions in BRCA2 and NF1 in the Kidney Chromophobe TCGA-KICH project in the genomic data commons?\"\n",
    "async def run_tool():\n",
    "    # Run asynchronously\n",
    "    result = await tools[0].arun({\"question\": question})\n",
    "    print(\"Tool output:\", result)\n",
    "\n",
    "await run_tool()"
   ]
  }
 ],
 "metadata": {
  "kernelspec": {
   "display_name": "gdc-qag-3gr8ijm6-py3.10",
   "language": "python",
   "name": "python3"
  },
  "language_info": {
   "codemirror_mode": {
    "name": "ipython",
    "version": 3
   },
   "file_extension": ".py",
   "mimetype": "text/x-python",
   "name": "python",
   "nbconvert_exporter": "python",
   "pygments_lexer": "ipython3",
   "version": "3.10.13"
  }
 },
 "nbformat": 4,
 "nbformat_minor": 5
}
