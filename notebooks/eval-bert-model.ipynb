{
 "cells": [
  {
   "cell_type": "code",
   "execution_count": 79,
   "id": "65c55189",
   "metadata": {},
   "outputs": [],
   "source": [
    "import torch\n",
    "import requests\n",
    "import pandas as pd"
   ]
  },
  {
   "cell_type": "code",
   "execution_count": 80,
   "id": "900e2ea0",
   "metadata": {},
   "outputs": [],
   "source": [
    "from tqdm import tqdm\n",
    "tqdm.pandas()"
   ]
  },
  {
   "cell_type": "code",
   "execution_count": 134,
   "id": "7df00619",
   "metadata": {},
   "outputs": [
    {
     "name": "stderr",
     "output_type": "stream",
     "text": [
      "/tmp/ipykernel_1294388/222610467.py:1: FutureWarning: You are using `torch.load` with `weights_only=False` (the current default value), which uses the default pickle module implicitly. It is possible to construct malicious pickle data which will execute arbitrary code during unpickling (See https://github.com/pytorch/pytorch/blob/main/SECURITY.md#untrusted-models for more details). In a future release, the default value for `weights_only` will be flipped to `True`. This limits the functions that could be executed during unpickling. Arbitrary objects will no longer be allowed to be loaded via this mode unless they are explicitly allowlisted by the user via `torch.serialization.add_safe_globals`. We recommend you start setting `weights_only=True` for any use case where you don't have full control of the loaded file. Please open an issue on GitHub for any issues related to this experimental feature.\n",
      "  model = torch.load('/opt/gpudata/aartiv/qag/query_intent_model.pt')\n"
     ]
    },
    {
     "name": "stdout",
     "output_type": "stream",
     "text": [
      "Number of parameters: 109,486,085\n",
      "Approx size in memory: 417.66 MB\n"
     ]
    }
   ],
   "source": [
    "model = torch.load('/opt/gpudata/aartiv/qag/query_intent_model.pt')\n",
    "num_params = sum(p.numel() for p in model.parameters())\n",
    "param_size = sum(p.element_size() * p.numel() for p in model.parameters()) / (1024 ** 2)\n",
    "\n",
    "print(f\"Number of parameters: {num_params:,}\")\n",
    "print(f\"Approx size in memory: {param_size:.2f} MB\")"
   ]
  },
  {
   "cell_type": "code",
   "execution_count": 135,
   "id": "a8528e21",
   "metadata": {},
   "outputs": [
    {
     "data": {
      "text/plain": [
       "BertForSequenceClassification(\n",
       "  (bert): BertModel(\n",
       "    (embeddings): BertEmbeddings(\n",
       "      (word_embeddings): Embedding(30522, 768, padding_idx=0)\n",
       "      (position_embeddings): Embedding(512, 768)\n",
       "      (token_type_embeddings): Embedding(2, 768)\n",
       "      (LayerNorm): LayerNorm((768,), eps=1e-12, elementwise_affine=True)\n",
       "      (dropout): Dropout(p=0.1, inplace=False)\n",
       "    )\n",
       "    (encoder): BertEncoder(\n",
       "      (layer): ModuleList(\n",
       "        (0-11): 12 x BertLayer(\n",
       "          (attention): BertAttention(\n",
       "            (self): BertSdpaSelfAttention(\n",
       "              (query): Linear(in_features=768, out_features=768, bias=True)\n",
       "              (key): Linear(in_features=768, out_features=768, bias=True)\n",
       "              (value): Linear(in_features=768, out_features=768, bias=True)\n",
       "              (dropout): Dropout(p=0.1, inplace=False)\n",
       "            )\n",
       "            (output): BertSelfOutput(\n",
       "              (dense): Linear(in_features=768, out_features=768, bias=True)\n",
       "              (LayerNorm): LayerNorm((768,), eps=1e-12, elementwise_affine=True)\n",
       "              (dropout): Dropout(p=0.1, inplace=False)\n",
       "            )\n",
       "          )\n",
       "          (intermediate): BertIntermediate(\n",
       "            (dense): Linear(in_features=768, out_features=3072, bias=True)\n",
       "            (intermediate_act_fn): GELUActivation()\n",
       "          )\n",
       "          (output): BertOutput(\n",
       "            (dense): Linear(in_features=3072, out_features=768, bias=True)\n",
       "            (LayerNorm): LayerNorm((768,), eps=1e-12, elementwise_affine=True)\n",
       "            (dropout): Dropout(p=0.1, inplace=False)\n",
       "          )\n",
       "        )\n",
       "      )\n",
       "    )\n",
       "    (pooler): BertPooler(\n",
       "      (dense): Linear(in_features=768, out_features=768, bias=True)\n",
       "      (activation): Tanh()\n",
       "    )\n",
       "  )\n",
       "  (dropout): Dropout(p=0.1, inplace=False)\n",
       "  (classifier): Linear(in_features=768, out_features=5, bias=True)\n",
       ")"
      ]
     },
     "execution_count": 135,
     "metadata": {},
     "output_type": "execute_result"
    }
   ],
   "source": [
    "device = torch.device(\"cuda\" if torch.cuda.is_available() else \"cpu\")\n",
    "model.to(device)"
   ]
  },
  {
   "cell_type": "code",
   "execution_count": 136,
   "id": "b423f39c",
   "metadata": {},
   "outputs": [],
   "source": [
    "from transformers import BertTokenizer\n",
    "tokenizer = BertTokenizer.from_pretrained('bert-base-uncased')"
   ]
  },
  {
   "cell_type": "code",
   "execution_count": 140,
   "id": "5eeea64f",
   "metadata": {},
   "outputs": [],
   "source": [
    "def get_intent(query):    \n",
    "  # print('testing query: {}'.format(query))\n",
    "  inputs = tokenizer(query, return_tensors=\"pt\", truncation=True, padding=True)\n",
    "  inputs = {k:v.to(device) for k, v in inputs.items()}\n",
    "  # pass tokenized input through the model\n",
    "  outputs = model(**inputs)\n",
    "  # print('output logits {}'.format(outputs))\n",
    "  #outputs are logits, need to apply softmax to convert to probs\n",
    "  probs = torch.nn.functional.softmax(outputs.logits, dim=1)\n",
    "  # print('probs: {}'.format(probs))\n",
    "  predicted_label = torch.argmax(probs, dim=1).item()\n",
    "  return predicted_label\n"
   ]
  },
  {
   "cell_type": "markdown",
   "id": "c8da3f7d",
   "metadata": {},
   "source": [
    "### create external synthetic dataset"
   ]
  },
  {
   "cell_type": "code",
   "execution_count": 57,
   "id": "ce03f4a1",
   "metadata": {},
   "outputs": [],
   "source": [
    "curl_cmd = \"https://api.gdc.cancer.gov/ssms?expand=occurrence.case.project&from=1001&size=1000&pretty=true\""
   ]
  },
  {
   "cell_type": "code",
   "execution_count": 58,
   "id": "252c528f",
   "metadata": {},
   "outputs": [],
   "source": [
    "response = requests.get(curl_cmd)"
   ]
  },
  {
   "cell_type": "code",
   "execution_count": 59,
   "id": "9d42fd76",
   "metadata": {},
   "outputs": [
    {
     "data": {
      "text/plain": [
       "<Response [200]>"
      ]
     },
     "execution_count": 59,
     "metadata": {},
     "output_type": "execute_result"
    }
   ],
   "source": [
    "response"
   ]
  },
  {
   "cell_type": "code",
   "execution_count": 60,
   "id": "badf1c7e",
   "metadata": {},
   "outputs": [],
   "source": [
    "result = response.json()"
   ]
  },
  {
   "cell_type": "code",
   "execution_count": 61,
   "id": "94f40c2b",
   "metadata": {},
   "outputs": [
    {
     "data": {
      "text/plain": [
       "[{'id': 'fb33682a-d2f0-554f-bc50-9b73b45de914',\n",
       "  'start_position': 161391148,\n",
       "  'gene_aa_change': ['PSMD14 I205M'],\n",
       "  'cosmic_id': ['COSM257825'],\n",
       "  'chromosome': 'chr2',\n",
       "  'ssm_id': 'fb33682a-d2f0-554f-bc50-9b73b45de914',\n",
       "  'occurrence': [{'case': {'project': {'primary_site': ['Unknown',\n",
       "       'Connective, subcutaneous and other soft tissues',\n",
       "       'Rectosigmoid junction',\n",
       "       'Rectum',\n",
       "       'Colon'],\n",
       "      'disease_type': ['Cystic, Mucinous and Serous Neoplasms',\n",
       "       'Adenomas and Adenocarcinomas'],\n",
       "      'project_id': 'TCGA-READ',\n",
       "      'name': 'Rectum Adenocarcinoma'}}}],\n",
       "  'end_position': 161391148,\n",
       "  'reference_allele': 'T',\n",
       "  'ncbi_build': 'GRCh38',\n",
       "  'mutation_subtype': 'Single base substitution',\n",
       "  'mutation_type': 'Simple Somatic Mutation',\n",
       "  'genomic_dna_change': 'chr2:g.161391148T>G',\n",
       "  'tumor_allele': 'G'}]"
      ]
     },
     "execution_count": 61,
     "metadata": {},
     "output_type": "execute_result"
    }
   ],
   "source": [
    "result['data']['hits'][:1]"
   ]
  },
  {
   "cell_type": "code",
   "execution_count": 62,
   "id": "6661b223",
   "metadata": {},
   "outputs": [
    {
     "name": "stdout",
     "output_type": "stream",
     "text": [
      "1000\n"
     ]
    }
   ],
   "source": [
    "print(len(result['data']['hits']))"
   ]
  },
  {
   "cell_type": "code",
   "execution_count": 63,
   "id": "7d0ad530",
   "metadata": {},
   "outputs": [],
   "source": [
    "def write_genes_mutations_cancers_output(result):\n",
    "  with open('/opt/gpudata/aartiv/qag/data_for_intent_model/genes_mutations_cancers_eval.tsv', 'w') as out_file:\n",
    "    out_file.write('cosmic_id\\tgene\\tmutation\\tcancer\\n')\n",
    "    for info in result['data']['hits']:\n",
    "      try:\n",
    "        cosmic_ids = info['cosmic_id']\n",
    "        aa_changes = info['gene_aa_change']\n",
    "        for occurrence in info['occurrence']:\n",
    "          projects = occurrence['case']['project']['name']\n",
    "          for c_id in cosmic_ids:\n",
    "            for mut in aa_changes:\n",
    "              gene, m = mut.split(' ')\n",
    "              out_file.write('{}\\t{}\\t{}\\t{}\\n'.format(c_id, gene, m, projects ))\n",
    "      except:\n",
    "        pass"
   ]
  },
  {
   "cell_type": "code",
   "execution_count": 64,
   "id": "5f8aa70f",
   "metadata": {},
   "outputs": [],
   "source": [
    "write_genes_mutations_cancers_output(result)"
   ]
  },
  {
   "cell_type": "markdown",
   "id": "68471d19",
   "metadata": {},
   "source": [
    "### define templates"
   ]
  },
  {
   "cell_type": "code",
   "execution_count": 17,
   "id": "301ad54f",
   "metadata": {},
   "outputs": [],
   "source": [
    "template1_questions = [\n",
    "    'What percentage of [cancer] cases have the [gene_x] [mutation_x] mutation?',\n",
    "    'How widespread are [gene_x] [mutation_x] mutations in [cancer]?',\n",
    "    'How often is the [gene_x] [mutation_x] found in [cancer]?',\n",
    "    'What is the occurrence rate of [gene_x] [mutation_x] in [cancer] patients?',\n",
    "    'How prevalent is the [gene_x] [mutation_x] mutation in cases of [cancer]?',\n",
    "    'What is the incidence of the [gene_x] [mutation_x] mutation in [cancer]?',\n",
    "    'What is the frequency of [gene_x] [mutation_x] mutation in [cancer]?',\n",
    "    'How common is the [gene_x] [mutation_x] mutation in [cancer]?',\n",
    "    'What fraction of [cancer] patients have the [gene_x] [mutation_x] mutation?',\n",
    "    'How widespread is the [gene_x] [mutation_x] mutation in [cancer]?',\n",
    "    'What is the rate of occurrence of the [gene_x] [mutation_x] mutation in [cancer]?',\n",
    "    'How frequently is the [gene_x] [mutation_x] mutation detected in [cancer]?',\n",
    "    'what percentage of cases have mutations in both [gene_x] [mutation_x] and [gene_y] [mutation_y] mutations in [cancer]?',\n",
    "    'what proportion of [cancer] patients have mutations in both [gene_x] [mutation_x] and [gene_y] [mutation_y]?',\n",
    "    'What proportion of [cancer] patients exhibit the [gene_x] [mutation_x] mutation?',\n",
    "    'Can you tell me the rate of [gene_x] [mutation_x] mutation in [cancer]?',\n",
    "    'What is the percentage of [cancer] tumors with the [gene_x] [mutation_x] mutation?',\n",
    "    'What is the prevalence rate of [gene_x] [mutation_x] mutation in [cancer]?',\n",
    "    'How many [cancer] cases have the [gene_x] [mutation_x] mutation?',\n",
    "    'What is the prevalence rate of the [gene_x] [mutation_x] mutation in [cancer]?',\n",
    "    'What is the distribution of the [gene_x] [mutation_x] mutation in [cancer]?',\n",
    "    'How high is the prevalence of the [gene_x] [mutation_x] mutation in [cancer]?',\n",
    "    'What is the presence rate of the [gene_x] [mutation_x] mutation in [cancer]?',\n",
    "    'How pervasively is the [gene_x] [mutation_x] mutation present in [cancer]?',\n",
    "    'What is the occurrence of [gene_x] [mutation_x] mutation in [cancer]?',\n",
    "    'What is the [gene_x] [mutation_x] mutation rate in [cancer]?',\n",
    "    'How frequent is the [gene_x] [mutation_x] mutation in [cancer] cases?'\n",
    "]\n",
    "template1_answers = ['ssm_frequency'] * len(template1_questions)"
   ]
  },
  {
   "cell_type": "code",
   "execution_count": 18,
   "id": "ab05f4ac",
   "metadata": {},
   "outputs": [],
   "source": [
    "# template 2 = 'what is the prevalence of MSI High in cancer x?'\n",
    "template2_questions = [\n",
    "  'What is the frequency of microsatellite instability-high in [cancer]?',\n",
    "  'How common is MSI-H in [cancer] cases?',\n",
    "  'Can you provide the prevalence of microsatellite instability-high in [cancer] patients?',\n",
    "  'What percentage of [cancer] patients have MSI-H?',\n",
    "  'How often is microsatellite instability-high observed in [cancer]?',\n",
    "  'In [cancer], what is the occurrence rate of MSI-H?',\n",
    "  'What is the incidence of MSI-H in [cancer]?',\n",
    "  'How prevalent is microsatellite instability-high in [cancer]?',\n",
    "  'What proportion of [cancer] cases exhibit MSI-H?',\n",
    "  'How frequently is MSI High found in [cancer]?',\n",
    "  'What is the distribution rate of microsatellite instability-high among [cancer] patients?',\n",
    "  'How widespread is microsatellite instability-high in [cancer]?',\n",
    "  'Can you tell me how prevalent MSI High is in [cancer]?',\n",
    "  'What percentage of [cancer] cases are characterized by microsatellite instability-high (MSI-H)?',\n",
    "  'How common is MSI High status in cases of [cancer]?',\n",
    "  'What is the rate of microsatellite instability-high in [cancer] diagnoses?',\n",
    "  'Among [cancer] patients, what is the frequency of msi-h?',\n",
    "  'How often does msi-h occur in [cancer] patients?',\n",
    "  'What is the detection rate of msi-h in [cancer]?',\n",
    "  'How many [cancer] patients exhibit microsatellite instability-high?',\n",
    "  'What is the percentage occurrence of MSI High in [cancer]?',\n",
    "  'How frequently do [cancer] patients present with microsatellite instability-high?',\n",
    "  'What is the proportion of MSI High tumors in [cancer]?',\n",
    "  'Can you share the incidence rate of msi-high in [cancer]?',\n",
    "  'What fraction of [cancer] cases involve msi-high?'\n",
    "]\n",
    "template2_answers = ['msi_h_frequency'] * len(template2_questions)\n"
   ]
  },
  {
   "cell_type": "code",
   "execution_count": 19,
   "id": "a5dcdcdf",
   "metadata": {},
   "outputs": [],
   "source": [
    "# template 3 what is the freq of 1p19q or gene loss in GBM?\n",
    "template3_questions = [\n",
    "    'What is the incidence of [gene_x] loss in [cancer]?',\n",
    "    'What is the frequency of somatic [gene_x] heterozygous deletion in [cancer]?',\n",
    "    'What is the frequency of somatic [gene_x] homozygous deletion in [cancer]?',\n",
    "    'How common is [gene_x] and [gene_y] codeletion in [cancer] cases?',\n",
    "    'What percentage of [cancer] patients have somatic [gene_x] LOH?',\n",
    "    'How often is [gene_x] LOH observed in [cancer]?',\n",
    "    'In [cancer], what is the occurrence rate of [gene_x] loss?',\n",
    "    'What is the prevalence of [gene_x] and [gene_y] loss of heterozygosity in [cancer]?',\n",
    "    'How prevalent is [gene_x] gain in [cancer] patients?',\n",
    "    'How prevalent is somatic [gene_x] amplification in [cancer] patients?',\n",
    "    'What proportion of [cancer] cases exhibit [gene_x] and [gene_y] codeletion?',\n",
    "    'What is the joint frequency of somatic [gene_x] and [gene_y] homozygous deletions in [cancer]?',\n",
    "    'What is the frequency of somatic [gene_x] and [gene_y] heterozygous co-deletion in [cancer]?',\n",
    "    'How frequently is [gene_x] LOH found in [cancer]?',\n",
    "    'What is the distribution rate of [gene_x] and [gene_y] gain among [cancer] patients?',\n",
    "    'How widespread is [gene_x] LOH in [cancer]?',\n",
    "    'Can you tell me how prevalent [gene_x] and [gene_y] loss is in [cancer]?',\n",
    "    'What percentage of [cancer] are characterized by codeletion of [gene_x] and [gene_y]?',\n",
    "    'How common is [gene_y] LOH in [cancer] cases?',\n",
    "    'What is the rate of [gene_x] LOH in [cancer] diagnoses?',\n",
    "    'Among [cancer] patients, what is the frequency of [gene_y] gain?',\n",
    "    'How often does [gene_x] loss occur in [cancer] patients?',\n",
    "    'What is the detection rate of [gene_x] LOH in [cancer]?',\n",
    "    'How many [cancer] patients exhibit cogains in [gene_x] and [gene_y]?',\n",
    "    'What is the percentage occurrence of [gene_y] loss of heterozygosity in [cancer]?',\n",
    "    'How frequently do [cancer] patients present with [gene_y] loss of heterozygosity?',\n",
    "    'What is the proportion of [gene_y] and [gene_x] codeletion in [cancer]?',\n",
    "    'Can you share the incidence rate of [gene_x] loss in [cancer]?',\n",
    "    'What fraction of [cancer] cases involve [gene_x] loss?'\n",
    "]\n",
    "template3_answers = ['freq_cnv_loss_or_gain'] * len(template3_questions)\n"
   ]
  },
  {
   "cell_type": "code",
   "execution_count": 20,
   "id": "cd2e3a2c",
   "metadata": {},
   "outputs": [],
   "source": [
    "# template4 /analysis/top_cases_counts_by_genes used for cohort comparisons/survival analysis\n",
    "# number of cases w/ mutations in a gene or genes, and number of cases w/o mutations in genes\n",
    "# this template refers to any mutation in the gene, no specific ssm\n",
    "\n",
    "template4_questions = [\n",
    "    'What is the incidence of [gene_x] or [gene_y] mutations in cases of [cancer] in the genomic data commons?',\n",
    "    'How frequently are [gene_x] or [gene_y] mutations observed in [cancer]?',\n",
    "    'What percentage of [cancer] cases exhibit mutations in [gene_x] genes?',\n",
    "    'What proportion of [cancer] cases have mutated [gene_x] or [gene_y]?',\n",
    "    'How many patients with [cancer] carry mutations in either [gene_x] or [gene_y]?',\n",
    "    'What is the prevalence of mutations in [gene_x] or [gene_y] among [cancer] cases?',\n",
    "    'In cases of [cancer], how many exhibit [gene_x] mutations in the genomic data commons?',\n",
    "    'Are [gene_x] or [gene_y] mutations present in many [cancer] cases?',\n",
    "    'What is the rate of [gene_x] mutations in [cancer] tumors?',\n",
    "    'What is the number of [cancer] cases without [gene_x] and [gene_y] mutations?',\n",
    "    'How many [cancer] patients lack mutations in [gene_y] in the genomic data commons?',\n",
    "    'What proportion of [cancer] do not exhibit mutations in [gene_x] and [gene_y]?',\n",
    "    'How frequently are [cancer] without [gene_x] mutations observed?',\n",
    "    'What percentage of [cancer] cases do not have [gene_y] mutations?',\n",
    "    'How rare is it to find [cancer] without mutations in [gene_x] and [gene_y]?',\n",
    "    'How many [cancer] cases lack [gene_x] and [gene_y] gene mutations?',\n",
    "    'What fraction of [cancer] cases do not possess mutations in [gene_x] and [gene_y]?',\n",
    "    'Do a substantial number of [cancer] not have [gene_x] and [gene_y] mutations?',\n",
    "    'What share of [cancer] cases is without [gene_x] and [gene_y] mutations?'\n",
    "]\n",
    "template4_answers = ['top_cases_counts_by_genes'] * len(template4_questions)"
   ]
  },
  {
   "cell_type": "code",
   "execution_count": 21,
   "id": "824cdcfe",
   "metadata": {},
   "outputs": [],
   "source": [
    "# cnv and ssm combination\n",
    "template5_questions = [\n",
    "    'what is the frequency of cases with somatic mutations in [gene_x] and amplifications in [gene_y] in [cancer] in the genomic data commons?',\n",
    "    'what is the frequency of cases with amplifications in [gene_x] and mutations in [gene_y] in [cancer] in the genomic data commons?',\n",
    "    'How often do cases of [cancer] exhibit mutations in [gene_x] and homozyous deletions in [gene_y]?',\n",
    "    'What is the prevalence of [gene_x] somatic mutations and [gene_y] heterozygous deletions in [cancer] cases?',\n",
    "    'Can you tell me the frequency of [gene_x] mutations co-occurring with [gene_y] amplifications in [cancer]?',\n",
    "    'How common are mutations in [gene_x] and amplifications in [gene_y] among patients with [cancer]?',\n",
    "    'What percentage of [cancer] cases present with mutations in [gene_x] and somatic homozygous deletions in [gene_y]?',\n",
    "    'To what extent do [cancer] cases show somatic mutations in [gene_x] along with somatic amplifications in [gene_y]?',\n",
    "    'How frequently are [gene_x] somatic mutations and somatic [gene_y] amplifications found in [cancer] patients?',\n",
    "    'What is the incidence rate of mutations in [gene_x] paired with somatic heterozygous deletions in [gene_y] in [cancer]?',\n",
    "    'What portion of [cancer] cases have both [gene_x] mutations and [gene_y] gains?',\n",
    "    'How prevalent are simultaneous mutations in [gene_x] and gains in [gene_y] in [cancer]?',\n",
    "    'Could you provide the rate of [gene_x] mutations and [gene_y] deletions among [cancer] cases?',\n",
    "    'What is the occurrence of [gene_x] mutations alongside [gene_y] amplifications in [cancer]?',\n",
    "    'How often are concurrent somatic mutations in [gene_x] and deletions in [gene_y] observed in [cancer]?',\n",
    "    'What is the proportion of [cancer] cases with both [gene_x] mutations and [gene_y] amplifications?',\n",
    "    'In cases of [cancer], how common are mutations in [gene_x] and amplifications in [gene_y]?',\n",
    "    'What is the rate at which [gene_x] somatic mutations and somatic [gene_y] homozygous deletions coincide in [cancer]?',\n",
    "    'How frequently do [gene_x] mutations and [gene_y] amplifications occur together in [cancer] cases?',\n",
    "    'What share of [cancer] cases display both somatic [gene_x] mutations and somatic [gene_y] losses?',\n",
    "    'What is the joint frequency of somatic [gene_x] mutations and [gene_y] losses in [cancer]?',\n",
    "    'How prevalent is the co-occurrence of [gene_x] mutations and [gene_y] amplifications in [cancer]?',\n",
    "    'What is the frequency of mutations in [gene_x] coupled with gains in [gene_y] in [cancer]?'\n",
    "    'How often do mutations in [gene_x] and amplifications in [gene_y] happen in [cancer]?',\n",
    "    'What is the incidence of [gene_x] mutations along with [gene_y] losses in [cancer]?',\n",
    "    'How common are both [gene_x] mutations and [gene_y] amplifications within [cancer] cases?',\n",
    "    'Can you specify the frequency at which [gene_x] mutations and [gene_y] gains are seen in [cancer]?'\n",
    "]\n",
    "template5_answers = ['cnv_and_ssm'] * len(template5_questions)\n",
    "\n"
   ]
  },
  {
   "cell_type": "code",
   "execution_count": 22,
   "id": "0f486dfb",
   "metadata": {},
   "outputs": [],
   "source": [
    "all_template_questions = template1_questions + template2_questions + template3_questions + template4_questions + template5_questions\n",
    "all_template_answers = template1_answers + template2_answers + template3_answers + template4_answers + template5_answers"
   ]
  },
  {
   "cell_type": "code",
   "execution_count": 23,
   "id": "a435326c",
   "metadata": {},
   "outputs": [
    {
     "data": {
      "text/plain": [
       "(126, 126)"
      ]
     },
     "execution_count": 23,
     "metadata": {},
     "output_type": "execute_result"
    }
   ],
   "source": [
    "len(all_template_questions), len(all_template_answers)"
   ]
  },
  {
   "cell_type": "code",
   "execution_count": 84,
   "id": "5d07effa",
   "metadata": {},
   "outputs": [],
   "source": [
    "# Eval Dataset\n",
    "gdc_data_eval = pd.read_csv('/opt/gpudata/aartiv/qag/data_for_intent_model/genes_mutations_cancers_eval.tsv', sep='\\t')\n"
   ]
  },
  {
   "cell_type": "code",
   "execution_count": 85,
   "id": "1edc9760",
   "metadata": {},
   "outputs": [
    {
     "data": {
      "text/plain": [
       "(1456, 4)"
      ]
     },
     "execution_count": 85,
     "metadata": {},
     "output_type": "execute_result"
    }
   ],
   "source": [
    "gdc_data_eval.shape"
   ]
  },
  {
   "cell_type": "code",
   "execution_count": 86,
   "id": "95e6dba8",
   "metadata": {},
   "outputs": [
    {
     "data": {
      "text/html": [
       "<div>\n",
       "<style scoped>\n",
       "    .dataframe tbody tr th:only-of-type {\n",
       "        vertical-align: middle;\n",
       "    }\n",
       "\n",
       "    .dataframe tbody tr th {\n",
       "        vertical-align: top;\n",
       "    }\n",
       "\n",
       "    .dataframe thead th {\n",
       "        text-align: right;\n",
       "    }\n",
       "</style>\n",
       "<table border=\"1\" class=\"dataframe\">\n",
       "  <thead>\n",
       "    <tr style=\"text-align: right;\">\n",
       "      <th></th>\n",
       "      <th>cosmic_id</th>\n",
       "      <th>gene</th>\n",
       "      <th>mutation</th>\n",
       "      <th>cancer</th>\n",
       "    </tr>\n",
       "  </thead>\n",
       "  <tbody>\n",
       "    <tr>\n",
       "      <th>0</th>\n",
       "      <td>COSM257825</td>\n",
       "      <td>PSMD14</td>\n",
       "      <td>I205M</td>\n",
       "      <td>Rectum Adenocarcinoma</td>\n",
       "    </tr>\n",
       "    <tr>\n",
       "      <th>1</th>\n",
       "      <td>COSM3958761</td>\n",
       "      <td>ACOX1</td>\n",
       "      <td>A127S</td>\n",
       "      <td>Lung Adenocarcinoma</td>\n",
       "    </tr>\n",
       "    <tr>\n",
       "      <th>2</th>\n",
       "      <td>COSM3958761</td>\n",
       "      <td>ACOX1</td>\n",
       "      <td>P180=</td>\n",
       "      <td>Lung Adenocarcinoma</td>\n",
       "    </tr>\n",
       "    <tr>\n",
       "      <th>3</th>\n",
       "      <td>COSM3991550</td>\n",
       "      <td>NDUFAF5</td>\n",
       "      <td>E143D</td>\n",
       "      <td>Kidney Renal Papillary Cell Carcinoma</td>\n",
       "    </tr>\n",
       "    <tr>\n",
       "      <th>4</th>\n",
       "      <td>COSM4075175</td>\n",
       "      <td>CHERP</td>\n",
       "      <td>L124=</td>\n",
       "      <td>Stomach Adenocarcinoma</td>\n",
       "    </tr>\n",
       "  </tbody>\n",
       "</table>\n",
       "</div>"
      ],
      "text/plain": [
       "     cosmic_id     gene mutation                                 cancer\n",
       "0   COSM257825   PSMD14    I205M                  Rectum Adenocarcinoma\n",
       "1  COSM3958761    ACOX1    A127S                    Lung Adenocarcinoma\n",
       "2  COSM3958761    ACOX1    P180=                    Lung Adenocarcinoma\n",
       "3  COSM3991550  NDUFAF5    E143D  Kidney Renal Papillary Cell Carcinoma\n",
       "4  COSM4075175    CHERP    L124=                 Stomach Adenocarcinoma"
      ]
     },
     "execution_count": 86,
     "metadata": {},
     "output_type": "execute_result"
    }
   ],
   "source": [
    "gdc_data_eval.head()"
   ]
  },
  {
   "cell_type": "code",
   "execution_count": 87,
   "id": "643ee739",
   "metadata": {},
   "outputs": [],
   "source": [
    "gdc_data_eval['simple_mutation'] = gdc_data_eval['mutation'].apply(lambda x: x.isalnum())"
   ]
  },
  {
   "cell_type": "code",
   "execution_count": 88,
   "id": "042333d6",
   "metadata": {},
   "outputs": [],
   "source": [
    "dataset1 = gdc_data_eval[gdc_data_eval['simple_mutation']].copy()"
   ]
  },
  {
   "cell_type": "code",
   "execution_count": 89,
   "id": "31380148",
   "metadata": {},
   "outputs": [],
   "source": [
    "dataset1.drop_duplicates(['gene', 'mutation'], inplace=True)"
   ]
  },
  {
   "cell_type": "code",
   "execution_count": 90,
   "id": "fa4d09e8",
   "metadata": {},
   "outputs": [
    {
     "data": {
      "text/html": [
       "<div>\n",
       "<style scoped>\n",
       "    .dataframe tbody tr th:only-of-type {\n",
       "        vertical-align: middle;\n",
       "    }\n",
       "\n",
       "    .dataframe tbody tr th {\n",
       "        vertical-align: top;\n",
       "    }\n",
       "\n",
       "    .dataframe thead th {\n",
       "        text-align: right;\n",
       "    }\n",
       "</style>\n",
       "<table border=\"1\" class=\"dataframe\">\n",
       "  <thead>\n",
       "    <tr style=\"text-align: right;\">\n",
       "      <th></th>\n",
       "      <th>cosmic_id</th>\n",
       "      <th>gene</th>\n",
       "      <th>mutation</th>\n",
       "      <th>cancer</th>\n",
       "      <th>simple_mutation</th>\n",
       "    </tr>\n",
       "  </thead>\n",
       "  <tbody>\n",
       "    <tr>\n",
       "      <th>0</th>\n",
       "      <td>COSM257825</td>\n",
       "      <td>PSMD14</td>\n",
       "      <td>I205M</td>\n",
       "      <td>Rectum Adenocarcinoma</td>\n",
       "      <td>True</td>\n",
       "    </tr>\n",
       "    <tr>\n",
       "      <th>1</th>\n",
       "      <td>COSM3958761</td>\n",
       "      <td>ACOX1</td>\n",
       "      <td>A127S</td>\n",
       "      <td>Lung Adenocarcinoma</td>\n",
       "      <td>True</td>\n",
       "    </tr>\n",
       "    <tr>\n",
       "      <th>3</th>\n",
       "      <td>COSM3991550</td>\n",
       "      <td>NDUFAF5</td>\n",
       "      <td>E143D</td>\n",
       "      <td>Kidney Renal Papillary Cell Carcinoma</td>\n",
       "      <td>True</td>\n",
       "    </tr>\n",
       "    <tr>\n",
       "      <th>14</th>\n",
       "      <td>COSM1413622</td>\n",
       "      <td>KRTAP13-1</td>\n",
       "      <td>R82S</td>\n",
       "      <td>Colon Adenocarcinoma</td>\n",
       "      <td>True</td>\n",
       "    </tr>\n",
       "    <tr>\n",
       "      <th>15</th>\n",
       "      <td>COSM1558784</td>\n",
       "      <td>RPS6KA6</td>\n",
       "      <td>R310S</td>\n",
       "      <td>Lung Adenocarcinoma</td>\n",
       "      <td>True</td>\n",
       "    </tr>\n",
       "  </tbody>\n",
       "</table>\n",
       "</div>"
      ],
      "text/plain": [
       "      cosmic_id       gene mutation                                 cancer  \\\n",
       "0    COSM257825     PSMD14    I205M                  Rectum Adenocarcinoma   \n",
       "1   COSM3958761      ACOX1    A127S                    Lung Adenocarcinoma   \n",
       "3   COSM3991550    NDUFAF5    E143D  Kidney Renal Papillary Cell Carcinoma   \n",
       "14  COSM1413622  KRTAP13-1     R82S                   Colon Adenocarcinoma   \n",
       "15  COSM1558784    RPS6KA6    R310S                    Lung Adenocarcinoma   \n",
       "\n",
       "    simple_mutation  \n",
       "0              True  \n",
       "1              True  \n",
       "3              True  \n",
       "14             True  \n",
       "15             True  "
      ]
     },
     "execution_count": 90,
     "metadata": {},
     "output_type": "execute_result"
    }
   ],
   "source": [
    "dataset1.head()"
   ]
  },
  {
   "cell_type": "code",
   "execution_count": 91,
   "id": "4e31d7e0",
   "metadata": {},
   "outputs": [
    {
     "data": {
      "text/plain": [
       "(523, 5)"
      ]
     },
     "execution_count": 91,
     "metadata": {},
     "output_type": "execute_result"
    }
   ],
   "source": [
    "dataset1.shape"
   ]
  },
  {
   "cell_type": "code",
   "execution_count": 92,
   "id": "7bb6540d",
   "metadata": {},
   "outputs": [
    {
     "data": {
      "text/plain": [
       "65898"
      ]
     },
     "execution_count": 92,
     "metadata": {},
     "output_type": "execute_result"
    }
   ],
   "source": [
    "# total number of question/intent pairs\n",
    "len(all_template_questions)*dataset1.shape[0]"
   ]
  },
  {
   "cell_type": "code",
   "execution_count": 94,
   "id": "8f3ff9a5",
   "metadata": {},
   "outputs": [],
   "source": [
    "from numpy import random\n",
    "def generate_q_a(row, gene_list, mutation_list, template_index):\n",
    "  # generate question\n",
    "  gene_y = random.choice(gene_list)\n",
    "  mutation_y = random.choice(mutation_list)\n",
    "\n",
    "  try:\n",
    "    question = all_template_questions[template_index]\\\n",
    "      .replace(\"[mutation_x]\", row['mutation'])\\\n",
    "      .replace(\"[cancer]\", row['cancer']) \\\n",
    "      .replace(\"[gene_x]\", row['gene']) \\\n",
    "      .replace(\"[gene_y]\", gene_y)\\\n",
    "      .replace(\"[mutation_y]\", mutation_y)\n",
    "    intent = all_template_answers[template_index]\n",
    "\n",
    "  except Exception as e:\n",
    "    print('unable to generate question {}'.format(str(e)))\n",
    "\n",
    "  return question, intent\n"
   ]
  },
  {
   "cell_type": "code",
   "execution_count": 95,
   "id": "c67d0a81",
   "metadata": {},
   "outputs": [],
   "source": [
    "# for double gene/mutation questions, get the list to randomly sample second one from\n",
    "gene_list = list(dataset1['gene'])\n",
    "mutation_list = list(dataset1['mutation'])"
   ]
  },
  {
   "cell_type": "code",
   "execution_count": 96,
   "id": "af925cbc",
   "metadata": {},
   "outputs": [],
   "source": [
    "questions_intent_df = pd.DataFrame(columns=['gene', 'mutation', \n",
    "                                            'cancer', 'questions', \n",
    "                                            'intent'])"
   ]
  },
  {
   "cell_type": "code",
   "execution_count": 97,
   "id": "3bdc30c6",
   "metadata": {},
   "outputs": [],
   "source": [
    "# generate a question for every row in dataset1\n",
    "dataset1_copy = dataset1.copy()\n",
    "\n",
    "for template_index in range(len(all_template_questions)):\n",
    "  dataset1_copy[['questions', 'intent']] = dataset1_copy.apply(\n",
    "    lambda row: generate_q_a(row, gene_list, mutation_list, template_index),\n",
    "    axis=1,result_type='expand'\n",
    "    )\n",
    "  questions_intent_df = pd.concat(\n",
    "    [questions_intent_df, \n",
    "     dataset1_copy[['gene', 'mutation', 'cancer', 'questions', 'intent']]\n",
    "    ]\n",
    "  )"
   ]
  },
  {
   "cell_type": "code",
   "execution_count": 98,
   "id": "d45a91ef",
   "metadata": {},
   "outputs": [
    {
     "data": {
      "text/plain": [
       "(65898, 5)"
      ]
     },
     "execution_count": 98,
     "metadata": {},
     "output_type": "execute_result"
    }
   ],
   "source": [
    "questions_intent_df.shape"
   ]
  },
  {
   "cell_type": "code",
   "execution_count": 99,
   "id": "383a5444",
   "metadata": {},
   "outputs": [
    {
     "data": {
      "text/html": [
       "<div>\n",
       "<style scoped>\n",
       "    .dataframe tbody tr th:only-of-type {\n",
       "        vertical-align: middle;\n",
       "    }\n",
       "\n",
       "    .dataframe tbody tr th {\n",
       "        vertical-align: top;\n",
       "    }\n",
       "\n",
       "    .dataframe thead th {\n",
       "        text-align: right;\n",
       "    }\n",
       "</style>\n",
       "<table border=\"1\" class=\"dataframe\">\n",
       "  <thead>\n",
       "    <tr style=\"text-align: right;\">\n",
       "      <th></th>\n",
       "      <th>gene</th>\n",
       "      <th>mutation</th>\n",
       "      <th>cancer</th>\n",
       "      <th>questions</th>\n",
       "      <th>intent</th>\n",
       "    </tr>\n",
       "  </thead>\n",
       "  <tbody>\n",
       "    <tr>\n",
       "      <th>0</th>\n",
       "      <td>PSMD14</td>\n",
       "      <td>I205M</td>\n",
       "      <td>Rectum Adenocarcinoma</td>\n",
       "      <td>What percentage of Rectum Adenocarcinoma cases...</td>\n",
       "      <td>ssm_frequency</td>\n",
       "    </tr>\n",
       "    <tr>\n",
       "      <th>1</th>\n",
       "      <td>ACOX1</td>\n",
       "      <td>A127S</td>\n",
       "      <td>Lung Adenocarcinoma</td>\n",
       "      <td>What percentage of Lung Adenocarcinoma cases h...</td>\n",
       "      <td>ssm_frequency</td>\n",
       "    </tr>\n",
       "    <tr>\n",
       "      <th>3</th>\n",
       "      <td>NDUFAF5</td>\n",
       "      <td>E143D</td>\n",
       "      <td>Kidney Renal Papillary Cell Carcinoma</td>\n",
       "      <td>What percentage of Kidney Renal Papillary Cell...</td>\n",
       "      <td>ssm_frequency</td>\n",
       "    </tr>\n",
       "    <tr>\n",
       "      <th>14</th>\n",
       "      <td>KRTAP13-1</td>\n",
       "      <td>R82S</td>\n",
       "      <td>Colon Adenocarcinoma</td>\n",
       "      <td>What percentage of Colon Adenocarcinoma cases ...</td>\n",
       "      <td>ssm_frequency</td>\n",
       "    </tr>\n",
       "    <tr>\n",
       "      <th>15</th>\n",
       "      <td>RPS6KA6</td>\n",
       "      <td>R310S</td>\n",
       "      <td>Lung Adenocarcinoma</td>\n",
       "      <td>What percentage of Lung Adenocarcinoma cases h...</td>\n",
       "      <td>ssm_frequency</td>\n",
       "    </tr>\n",
       "  </tbody>\n",
       "</table>\n",
       "</div>"
      ],
      "text/plain": [
       "         gene mutation                                 cancer  \\\n",
       "0      PSMD14    I205M                  Rectum Adenocarcinoma   \n",
       "1       ACOX1    A127S                    Lung Adenocarcinoma   \n",
       "3     NDUFAF5    E143D  Kidney Renal Papillary Cell Carcinoma   \n",
       "14  KRTAP13-1     R82S                   Colon Adenocarcinoma   \n",
       "15    RPS6KA6    R310S                    Lung Adenocarcinoma   \n",
       "\n",
       "                                            questions         intent  \n",
       "0   What percentage of Rectum Adenocarcinoma cases...  ssm_frequency  \n",
       "1   What percentage of Lung Adenocarcinoma cases h...  ssm_frequency  \n",
       "3   What percentage of Kidney Renal Papillary Cell...  ssm_frequency  \n",
       "14  What percentage of Colon Adenocarcinoma cases ...  ssm_frequency  \n",
       "15  What percentage of Lung Adenocarcinoma cases h...  ssm_frequency  "
      ]
     },
     "execution_count": 99,
     "metadata": {},
     "output_type": "execute_result"
    }
   ],
   "source": [
    "questions_intent_df.head()"
   ]
  },
  {
   "cell_type": "code",
   "execution_count": 104,
   "id": "8796b1f4",
   "metadata": {},
   "outputs": [
    {
     "data": {
      "text/plain": [
       "20428.38"
      ]
     },
     "execution_count": 104,
     "metadata": {},
     "output_type": "execute_result"
    }
   ],
   "source": [
    "0.31*65898"
   ]
  },
  {
   "cell_type": "code",
   "execution_count": 113,
   "id": "531c0984",
   "metadata": {},
   "outputs": [],
   "source": [
    "from sklearn.model_selection import train_test_split\n",
    "stratified_sample, _ = train_test_split(\n",
    "    questions_intent_df,\n",
    "    test_size=0.69,               # Keep ~30%\n",
    "    stratify=questions_intent_df['intent'],        # stratify on this column\n",
    "    random_state=42              # For reproducibility\n",
    ")"
   ]
  },
  {
   "cell_type": "code",
   "execution_count": 114,
   "id": "ac68c75d",
   "metadata": {},
   "outputs": [
    {
     "data": {
      "text/plain": [
       "intent\n",
       "freq_cnv_loss_or_gain        15167\n",
       "ssm_frequency                14121\n",
       "cnv_and_ssm                  13598\n",
       "msi_h_frequency              13075\n",
       "top_cases_counts_by_genes     9937\n",
       "Name: count, dtype: int64"
      ]
     },
     "execution_count": 114,
     "metadata": {},
     "output_type": "execute_result"
    }
   ],
   "source": [
    "questions_intent_df['intent'].value_counts()"
   ]
  },
  {
   "cell_type": "code",
   "execution_count": 115,
   "id": "41c8c1c9",
   "metadata": {},
   "outputs": [
    {
     "data": {
      "text/plain": [
       "intent\n",
       "freq_cnv_loss_or_gain        0.230159\n",
       "ssm_frequency                0.214286\n",
       "cnv_and_ssm                  0.206349\n",
       "msi_h_frequency              0.198413\n",
       "top_cases_counts_by_genes    0.150794\n",
       "Name: proportion, dtype: float64"
      ]
     },
     "execution_count": 115,
     "metadata": {},
     "output_type": "execute_result"
    }
   ],
   "source": [
    "questions_intent_df['intent'].value_counts(normalize=True)"
   ]
  },
  {
   "cell_type": "code",
   "execution_count": 116,
   "id": "c7013405",
   "metadata": {},
   "outputs": [
    {
     "data": {
      "text/plain": [
       "intent\n",
       "freq_cnv_loss_or_gain        4702\n",
       "ssm_frequency                4378\n",
       "cnv_and_ssm                  4215\n",
       "msi_h_frequency              4053\n",
       "top_cases_counts_by_genes    3080\n",
       "Name: count, dtype: int64"
      ]
     },
     "execution_count": 116,
     "metadata": {},
     "output_type": "execute_result"
    }
   ],
   "source": [
    "stratified_sample['intent'].value_counts()"
   ]
  },
  {
   "cell_type": "code",
   "execution_count": 117,
   "id": "84b5bb0b",
   "metadata": {},
   "outputs": [
    {
     "data": {
      "text/plain": [
       "intent\n",
       "freq_cnv_loss_or_gain        0.230174\n",
       "ssm_frequency                0.214314\n",
       "cnv_and_ssm                  0.206334\n",
       "msi_h_frequency              0.198404\n",
       "top_cases_counts_by_genes    0.150773\n",
       "Name: proportion, dtype: float64"
      ]
     },
     "execution_count": 117,
     "metadata": {},
     "output_type": "execute_result"
    }
   ],
   "source": [
    "stratified_sample['intent'].value_counts(normalize=True)"
   ]
  },
  {
   "cell_type": "code",
   "execution_count": 118,
   "id": "13ff81dc",
   "metadata": {},
   "outputs": [
    {
     "data": {
      "text/plain": [
       "(20428, 5)"
      ]
     },
     "execution_count": 118,
     "metadata": {},
     "output_type": "execute_result"
    }
   ],
   "source": [
    "stratified_sample.shape"
   ]
  },
  {
   "cell_type": "code",
   "execution_count": 129,
   "id": "2d73406b",
   "metadata": {},
   "outputs": [],
   "source": [
    "intent_labels = {\n",
    "    'msi_h_frequency': 1.0,\n",
    "    'ssm_frequency': 0.0,\n",
    "    'freq_cnv_loss_or_gain': 2.0,\n",
    "    'top_cases_counts_by_genes': 3.0,\n",
    "    'cnv_and_ssm': 4.0\n",
    "}"
   ]
  },
  {
   "cell_type": "code",
   "execution_count": 130,
   "id": "12191ef4",
   "metadata": {},
   "outputs": [],
   "source": [
    "def attach_labels(intent):\n",
    "    return intent_labels[intent]"
   ]
  },
  {
   "cell_type": "code",
   "execution_count": 131,
   "id": "84807c18",
   "metadata": {},
   "outputs": [],
   "source": [
    "stratified_sample['true_label'] = stratified_sample['intent'].apply(lambda x: attach_labels(x))"
   ]
  },
  {
   "cell_type": "code",
   "execution_count": 132,
   "id": "70f622d0",
   "metadata": {},
   "outputs": [
    {
     "data": {
      "text/html": [
       "<div>\n",
       "<style scoped>\n",
       "    .dataframe tbody tr th:only-of-type {\n",
       "        vertical-align: middle;\n",
       "    }\n",
       "\n",
       "    .dataframe tbody tr th {\n",
       "        vertical-align: top;\n",
       "    }\n",
       "\n",
       "    .dataframe thead th {\n",
       "        text-align: right;\n",
       "    }\n",
       "</style>\n",
       "<table border=\"1\" class=\"dataframe\">\n",
       "  <thead>\n",
       "    <tr style=\"text-align: right;\">\n",
       "      <th></th>\n",
       "      <th>gene</th>\n",
       "      <th>mutation</th>\n",
       "      <th>cancer</th>\n",
       "      <th>questions</th>\n",
       "      <th>intent</th>\n",
       "      <th>true_label</th>\n",
       "    </tr>\n",
       "  </thead>\n",
       "  <tbody>\n",
       "    <tr>\n",
       "      <th>1292</th>\n",
       "      <td>BRF1</td>\n",
       "      <td>Q517K</td>\n",
       "      <td>Uterine Corpus Endometrial Carcinoma</td>\n",
       "      <td>In Uterine Corpus Endometrial Carcinoma, what ...</td>\n",
       "      <td>freq_cnv_loss_or_gain</td>\n",
       "      <td>2.0</td>\n",
       "    </tr>\n",
       "    <tr>\n",
       "      <th>477</th>\n",
       "      <td>RAD54L2</td>\n",
       "      <td>R706C</td>\n",
       "      <td>Uterine Corpus Endometrial Carcinoma</td>\n",
       "      <td>In Uterine Corpus Endometrial Carcinoma, what ...</td>\n",
       "      <td>msi_h_frequency</td>\n",
       "      <td>1.0</td>\n",
       "    </tr>\n",
       "    <tr>\n",
       "      <th>704</th>\n",
       "      <td>CDH16</td>\n",
       "      <td>P224H</td>\n",
       "      <td>Uterine Corpus Endometrial Carcinoma</td>\n",
       "      <td>Can you tell me the frequency of CDH16 mutatio...</td>\n",
       "      <td>cnv_and_ssm</td>\n",
       "      <td>4.0</td>\n",
       "    </tr>\n",
       "    <tr>\n",
       "      <th>293</th>\n",
       "      <td>ADSS1</td>\n",
       "      <td>R79K</td>\n",
       "      <td>Breast Invasive Carcinoma</td>\n",
       "      <td>Can you tell me the frequency of ADSS1 mutatio...</td>\n",
       "      <td>cnv_and_ssm</td>\n",
       "      <td>4.0</td>\n",
       "    </tr>\n",
       "    <tr>\n",
       "      <th>1048</th>\n",
       "      <td>SLC4A5</td>\n",
       "      <td>R634H</td>\n",
       "      <td>Bladder Urothelial Carcinoma</td>\n",
       "      <td>How many patients with Bladder Urothelial Carc...</td>\n",
       "      <td>top_cases_counts_by_genes</td>\n",
       "      <td>3.0</td>\n",
       "    </tr>\n",
       "  </tbody>\n",
       "</table>\n",
       "</div>"
      ],
      "text/plain": [
       "         gene mutation                                cancer  \\\n",
       "1292     BRF1    Q517K  Uterine Corpus Endometrial Carcinoma   \n",
       "477   RAD54L2    R706C  Uterine Corpus Endometrial Carcinoma   \n",
       "704     CDH16    P224H  Uterine Corpus Endometrial Carcinoma   \n",
       "293     ADSS1     R79K             Breast Invasive Carcinoma   \n",
       "1048   SLC4A5    R634H          Bladder Urothelial Carcinoma   \n",
       "\n",
       "                                              questions  \\\n",
       "1292  In Uterine Corpus Endometrial Carcinoma, what ...   \n",
       "477   In Uterine Corpus Endometrial Carcinoma, what ...   \n",
       "704   Can you tell me the frequency of CDH16 mutatio...   \n",
       "293   Can you tell me the frequency of ADSS1 mutatio...   \n",
       "1048  How many patients with Bladder Urothelial Carc...   \n",
       "\n",
       "                         intent  true_label  \n",
       "1292      freq_cnv_loss_or_gain         2.0  \n",
       "477             msi_h_frequency         1.0  \n",
       "704                 cnv_and_ssm         4.0  \n",
       "293                 cnv_and_ssm         4.0  \n",
       "1048  top_cases_counts_by_genes         3.0  "
      ]
     },
     "execution_count": 132,
     "metadata": {},
     "output_type": "execute_result"
    }
   ],
   "source": [
    "stratified_sample.head()"
   ]
  },
  {
   "cell_type": "code",
   "execution_count": 141,
   "id": "ba7e4d60",
   "metadata": {},
   "outputs": [
    {
     "name": "stderr",
     "output_type": "stream",
     "text": [
      "100%|██████████| 20428/20428 [03:29<00:00, 97.73it/s] \n"
     ]
    }
   ],
   "source": [
    "stratified_sample['predicted_label'] = stratified_sample['questions'].progress_apply(\n",
    "    lambda x: get_intent(x)\n",
    ")"
   ]
  },
  {
   "cell_type": "code",
   "execution_count": 142,
   "id": "65f64034",
   "metadata": {},
   "outputs": [
    {
     "data": {
      "text/html": [
       "<div>\n",
       "<style scoped>\n",
       "    .dataframe tbody tr th:only-of-type {\n",
       "        vertical-align: middle;\n",
       "    }\n",
       "\n",
       "    .dataframe tbody tr th {\n",
       "        vertical-align: top;\n",
       "    }\n",
       "\n",
       "    .dataframe thead th {\n",
       "        text-align: right;\n",
       "    }\n",
       "</style>\n",
       "<table border=\"1\" class=\"dataframe\">\n",
       "  <thead>\n",
       "    <tr style=\"text-align: right;\">\n",
       "      <th></th>\n",
       "      <th>gene</th>\n",
       "      <th>mutation</th>\n",
       "      <th>cancer</th>\n",
       "      <th>questions</th>\n",
       "      <th>intent</th>\n",
       "      <th>true_label</th>\n",
       "      <th>predicted_label</th>\n",
       "    </tr>\n",
       "  </thead>\n",
       "  <tbody>\n",
       "    <tr>\n",
       "      <th>1292</th>\n",
       "      <td>BRF1</td>\n",
       "      <td>Q517K</td>\n",
       "      <td>Uterine Corpus Endometrial Carcinoma</td>\n",
       "      <td>In Uterine Corpus Endometrial Carcinoma, what ...</td>\n",
       "      <td>freq_cnv_loss_or_gain</td>\n",
       "      <td>2.0</td>\n",
       "      <td>2</td>\n",
       "    </tr>\n",
       "    <tr>\n",
       "      <th>477</th>\n",
       "      <td>RAD54L2</td>\n",
       "      <td>R706C</td>\n",
       "      <td>Uterine Corpus Endometrial Carcinoma</td>\n",
       "      <td>In Uterine Corpus Endometrial Carcinoma, what ...</td>\n",
       "      <td>msi_h_frequency</td>\n",
       "      <td>1.0</td>\n",
       "      <td>1</td>\n",
       "    </tr>\n",
       "    <tr>\n",
       "      <th>704</th>\n",
       "      <td>CDH16</td>\n",
       "      <td>P224H</td>\n",
       "      <td>Uterine Corpus Endometrial Carcinoma</td>\n",
       "      <td>Can you tell me the frequency of CDH16 mutatio...</td>\n",
       "      <td>cnv_and_ssm</td>\n",
       "      <td>4.0</td>\n",
       "      <td>4</td>\n",
       "    </tr>\n",
       "    <tr>\n",
       "      <th>293</th>\n",
       "      <td>ADSS1</td>\n",
       "      <td>R79K</td>\n",
       "      <td>Breast Invasive Carcinoma</td>\n",
       "      <td>Can you tell me the frequency of ADSS1 mutatio...</td>\n",
       "      <td>cnv_and_ssm</td>\n",
       "      <td>4.0</td>\n",
       "      <td>4</td>\n",
       "    </tr>\n",
       "    <tr>\n",
       "      <th>1048</th>\n",
       "      <td>SLC4A5</td>\n",
       "      <td>R634H</td>\n",
       "      <td>Bladder Urothelial Carcinoma</td>\n",
       "      <td>How many patients with Bladder Urothelial Carc...</td>\n",
       "      <td>top_cases_counts_by_genes</td>\n",
       "      <td>3.0</td>\n",
       "      <td>3</td>\n",
       "    </tr>\n",
       "  </tbody>\n",
       "</table>\n",
       "</div>"
      ],
      "text/plain": [
       "         gene mutation                                cancer  \\\n",
       "1292     BRF1    Q517K  Uterine Corpus Endometrial Carcinoma   \n",
       "477   RAD54L2    R706C  Uterine Corpus Endometrial Carcinoma   \n",
       "704     CDH16    P224H  Uterine Corpus Endometrial Carcinoma   \n",
       "293     ADSS1     R79K             Breast Invasive Carcinoma   \n",
       "1048   SLC4A5    R634H          Bladder Urothelial Carcinoma   \n",
       "\n",
       "                                              questions  \\\n",
       "1292  In Uterine Corpus Endometrial Carcinoma, what ...   \n",
       "477   In Uterine Corpus Endometrial Carcinoma, what ...   \n",
       "704   Can you tell me the frequency of CDH16 mutatio...   \n",
       "293   Can you tell me the frequency of ADSS1 mutatio...   \n",
       "1048  How many patients with Bladder Urothelial Carc...   \n",
       "\n",
       "                         intent  true_label  predicted_label  \n",
       "1292      freq_cnv_loss_or_gain         2.0                2  \n",
       "477             msi_h_frequency         1.0                1  \n",
       "704                 cnv_and_ssm         4.0                4  \n",
       "293                 cnv_and_ssm         4.0                4  \n",
       "1048  top_cases_counts_by_genes         3.0                3  "
      ]
     },
     "execution_count": 142,
     "metadata": {},
     "output_type": "execute_result"
    }
   ],
   "source": [
    "stratified_sample.head()"
   ]
  },
  {
   "cell_type": "code",
   "execution_count": 143,
   "id": "87a77eb0",
   "metadata": {},
   "outputs": [],
   "source": [
    "model_predictions = stratified_sample['predicted_label']\n",
    "true_labels = stratified_sample['true_label']"
   ]
  },
  {
   "cell_type": "code",
   "execution_count": 144,
   "id": "4485ef18",
   "metadata": {},
   "outputs": [
    {
     "data": {
      "text/plain": [
       "(20428, 20428)"
      ]
     },
     "execution_count": 144,
     "metadata": {},
     "output_type": "execute_result"
    }
   ],
   "source": [
    "len(model_predictions), len(true_labels)"
   ]
  },
  {
   "cell_type": "code",
   "execution_count": 145,
   "id": "8523a72c",
   "metadata": {},
   "outputs": [],
   "source": [
    "from sklearn.metrics import classification_report, confusion_matrix"
   ]
  },
  {
   "cell_type": "code",
   "execution_count": 146,
   "id": "a2793b8b",
   "metadata": {},
   "outputs": [
    {
     "name": "stdout",
     "output_type": "stream",
     "text": [
      "              precision    recall  f1-score   support\n",
      "\n",
      "         0.0       1.00      1.00      1.00      4378\n",
      "         1.0       1.00      1.00      1.00      4053\n",
      "         2.0       1.00      1.00      1.00      4702\n",
      "         3.0       1.00      1.00      1.00      3080\n",
      "         4.0       1.00      1.00      1.00      4215\n",
      "\n",
      "    accuracy                           1.00     20428\n",
      "   macro avg       1.00      1.00      1.00     20428\n",
      "weighted avg       1.00      1.00      1.00     20428\n",
      "\n"
     ]
    }
   ],
   "source": [
    "print(classification_report(true_labels, model_predictions))"
   ]
  },
  {
   "cell_type": "code",
   "execution_count": 147,
   "id": "3ab44980",
   "metadata": {},
   "outputs": [
    {
     "name": "stdout",
     "output_type": "stream",
     "text": [
      "[[4378    0    0    0    0]\n",
      " [   0 4053    0    0    0]\n",
      " [   0    0 4702    0    0]\n",
      " [   0    0    0 3080    0]\n",
      " [   0    0    0    0 4215]]\n"
     ]
    }
   ],
   "source": [
    "print(confusion_matrix(true_labels, model_predictions))\n"
   ]
  },
  {
   "cell_type": "code",
   "execution_count": 148,
   "id": "3c21a2c5",
   "metadata": {},
   "outputs": [],
   "source": [
    "# write to CSV\n",
    "stratified_sample.to_csv('/opt/gpudata/aartiv/qag/data_for_intent_model/BERT_model_eval.csv', index=0)"
   ]
  },
  {
   "cell_type": "markdown",
   "id": "7ef07bae",
   "metadata": {},
   "source": [
    "### validation dataset\n",
    "- used during training to monitor overfitting"
   ]
  },
  {
   "cell_type": "code",
   "execution_count": 149,
   "id": "958b9799",
   "metadata": {},
   "outputs": [],
   "source": [
    "# load validation dataset\n",
    "validation_dataset = pd.read_csv('/opt/gpudata/aartiv/qag/eval_query_intent/val.csv', index_col=0)"
   ]
  },
  {
   "cell_type": "code",
   "execution_count": 122,
   "id": "d34879b2",
   "metadata": {},
   "outputs": [
    {
     "data": {
      "text/html": [
       "<div>\n",
       "<style scoped>\n",
       "    .dataframe tbody tr th:only-of-type {\n",
       "        vertical-align: middle;\n",
       "    }\n",
       "\n",
       "    .dataframe tbody tr th {\n",
       "        vertical-align: top;\n",
       "    }\n",
       "\n",
       "    .dataframe thead th {\n",
       "        text-align: right;\n",
       "    }\n",
       "</style>\n",
       "<table border=\"1\" class=\"dataframe\">\n",
       "  <thead>\n",
       "    <tr style=\"text-align: right;\">\n",
       "      <th></th>\n",
       "      <th>gene</th>\n",
       "      <th>mutation</th>\n",
       "      <th>cancer</th>\n",
       "      <th>questions</th>\n",
       "      <th>intent</th>\n",
       "      <th>label</th>\n",
       "    </tr>\n",
       "  </thead>\n",
       "  <tbody>\n",
       "    <tr>\n",
       "      <th>127</th>\n",
       "      <td>HTR3B</td>\n",
       "      <td>S206I</td>\n",
       "      <td>Uterine Corpus Endometrial Carcinoma</td>\n",
       "      <td>In Uterine Corpus Endometrial Carcinoma, what ...</td>\n",
       "      <td>msi_h_frequency</td>\n",
       "      <td>1.0</td>\n",
       "    </tr>\n",
       "    <tr>\n",
       "      <th>72</th>\n",
       "      <td>PAK3</td>\n",
       "      <td>E334K</td>\n",
       "      <td>Skin Cutaneous Melanoma</td>\n",
       "      <td>How many Skin Cutaneous Melanoma cases have th...</td>\n",
       "      <td>ssm_frequency</td>\n",
       "      <td>0.0</td>\n",
       "    </tr>\n",
       "    <tr>\n",
       "      <th>1348</th>\n",
       "      <td>MAST4</td>\n",
       "      <td>P1991S</td>\n",
       "      <td>Uterine Corpus Endometrial Carcinoma</td>\n",
       "      <td>How widespread is MAST4 LOH in Uterine Corpus ...</td>\n",
       "      <td>freq_cnv_loss_or_gain</td>\n",
       "      <td>2.0</td>\n",
       "    </tr>\n",
       "    <tr>\n",
       "      <th>999</th>\n",
       "      <td>PTPRO</td>\n",
       "      <td>E67K</td>\n",
       "      <td>Pancreatic Adenocarcinoma</td>\n",
       "      <td>What percentage of Pancreatic Adenocarcinoma c...</td>\n",
       "      <td>top_cases_counts_by_genes</td>\n",
       "      <td>3.0</td>\n",
       "    </tr>\n",
       "    <tr>\n",
       "      <th>1326</th>\n",
       "      <td>NRAP</td>\n",
       "      <td>S808L</td>\n",
       "      <td>Uterine Corpus Endometrial Carcinoma</td>\n",
       "      <td>What fraction of Uterine Corpus Endometrial Ca...</td>\n",
       "      <td>top_cases_counts_by_genes</td>\n",
       "      <td>3.0</td>\n",
       "    </tr>\n",
       "  </tbody>\n",
       "</table>\n",
       "</div>"
      ],
      "text/plain": [
       "       gene mutation                                cancer  \\\n",
       "127   HTR3B    S206I  Uterine Corpus Endometrial Carcinoma   \n",
       "72     PAK3    E334K               Skin Cutaneous Melanoma   \n",
       "1348  MAST4   P1991S  Uterine Corpus Endometrial Carcinoma   \n",
       "999   PTPRO     E67K             Pancreatic Adenocarcinoma   \n",
       "1326   NRAP    S808L  Uterine Corpus Endometrial Carcinoma   \n",
       "\n",
       "                                              questions  \\\n",
       "127   In Uterine Corpus Endometrial Carcinoma, what ...   \n",
       "72    How many Skin Cutaneous Melanoma cases have th...   \n",
       "1348  How widespread is MAST4 LOH in Uterine Corpus ...   \n",
       "999   What percentage of Pancreatic Adenocarcinoma c...   \n",
       "1326  What fraction of Uterine Corpus Endometrial Ca...   \n",
       "\n",
       "                         intent  label  \n",
       "127             msi_h_frequency    1.0  \n",
       "72                ssm_frequency    0.0  \n",
       "1348      freq_cnv_loss_or_gain    2.0  \n",
       "999   top_cases_counts_by_genes    3.0  \n",
       "1326  top_cases_counts_by_genes    3.0  "
      ]
     },
     "execution_count": 122,
     "metadata": {},
     "output_type": "execute_result"
    }
   ],
   "source": [
    "validation_dataset.head()"
   ]
  },
  {
   "cell_type": "code",
   "execution_count": 128,
   "id": "ea4ec0d4",
   "metadata": {},
   "outputs": [
    {
     "data": {
      "text/plain": [
       "{'label': {'msi_h_frequency': 1.0,\n",
       "  'ssm_frequency': 0.0,\n",
       "  'freq_cnv_loss_or_gain': 2.0,\n",
       "  'top_cases_counts_by_genes': 3.0,\n",
       "  'cnv_and_ssm': 4.0}}"
      ]
     },
     "execution_count": 128,
     "metadata": {},
     "output_type": "execute_result"
    }
   ],
   "source": [
    "validation_dataset[['intent', 'label']].drop_duplicates().set_index(['intent']).to_dict()"
   ]
  },
  {
   "cell_type": "code",
   "execution_count": null,
   "id": "8a77ad25",
   "metadata": {},
   "outputs": [],
   "source": [
    "validation_dataset['predicted_label'] = validation_dataset['questions'].progress_apply(\n",
    "    lambda x: get_intent(x)\n",
    ")"
   ]
  },
  {
   "cell_type": "code",
   "execution_count": 17,
   "id": "14bbb7c1",
   "metadata": {},
   "outputs": [],
   "source": [
    "model_predictions = validation_dataset['predicted_label']\n",
    "true_labels = validation_dataset['label']"
   ]
  },
  {
   "cell_type": "code",
   "execution_count": 18,
   "id": "b07714ca",
   "metadata": {},
   "outputs": [
    {
     "data": {
      "text/plain": [
       "(19127, 19127)"
      ]
     },
     "execution_count": 18,
     "metadata": {},
     "output_type": "execute_result"
    }
   ],
   "source": [
    "len(model_predictions), len(true_labels)"
   ]
  },
  {
   "cell_type": "code",
   "execution_count": 21,
   "id": "0bc8be80",
   "metadata": {},
   "outputs": [
    {
     "name": "stdout",
     "output_type": "stream",
     "text": [
      "              precision    recall  f1-score   support\n",
      "\n",
      "         0.0       1.00      1.00      1.00      4108\n",
      "         1.0       1.00      1.00      1.00      3756\n",
      "         2.0       1.00      1.00      1.00      4442\n",
      "         3.0       1.00      1.00      1.00      2888\n",
      "         4.0       1.00      1.00      1.00      3933\n",
      "\n",
      "    accuracy                           1.00     19127\n",
      "   macro avg       1.00      1.00      1.00     19127\n",
      "weighted avg       1.00      1.00      1.00     19127\n",
      "\n"
     ]
    }
   ],
   "source": [
    "print(classification_report(true_labels, model_predictions))\n"
   ]
  },
  {
   "cell_type": "code",
   "execution_count": 22,
   "id": "bffdb9d0",
   "metadata": {},
   "outputs": [
    {
     "name": "stdout",
     "output_type": "stream",
     "text": [
      "[[4108    0    0    0    0]\n",
      " [   0 3756    0    0    0]\n",
      " [   0    0 4442    0    0]\n",
      " [   0    0    0 2888    0]\n",
      " [   0    0    0    0 3933]]\n"
     ]
    }
   ],
   "source": [
    "print(confusion_matrix(true_labels, model_predictions))\n"
   ]
  },
  {
   "cell_type": "code",
   "execution_count": 150,
   "id": "fdd2b68f",
   "metadata": {},
   "outputs": [],
   "source": [
    "train_dataset = pd.read_csv('/opt/gpudata/aartiv/qag/eval_query_intent/train.csv', index_col=0)"
   ]
  },
  {
   "cell_type": "code",
   "execution_count": 151,
   "id": "f8ef3004",
   "metadata": {},
   "outputs": [
    {
     "data": {
      "text/html": [
       "<div>\n",
       "<style scoped>\n",
       "    .dataframe tbody tr th:only-of-type {\n",
       "        vertical-align: middle;\n",
       "    }\n",
       "\n",
       "    .dataframe tbody tr th {\n",
       "        vertical-align: top;\n",
       "    }\n",
       "\n",
       "    .dataframe thead th {\n",
       "        text-align: right;\n",
       "    }\n",
       "</style>\n",
       "<table border=\"1\" class=\"dataframe\">\n",
       "  <thead>\n",
       "    <tr style=\"text-align: right;\">\n",
       "      <th></th>\n",
       "      <th>gene</th>\n",
       "      <th>mutation</th>\n",
       "      <th>cancer</th>\n",
       "      <th>questions</th>\n",
       "      <th>intent</th>\n",
       "      <th>label</th>\n",
       "    </tr>\n",
       "  </thead>\n",
       "  <tbody>\n",
       "    <tr>\n",
       "      <th>694</th>\n",
       "      <td>RIMS2</td>\n",
       "      <td>R619W</td>\n",
       "      <td>Skin Cutaneous Melanoma</td>\n",
       "      <td>How many Skin Cutaneous Melanoma cases have th...</td>\n",
       "      <td>ssm_frequency</td>\n",
       "      <td>0.0</td>\n",
       "    </tr>\n",
       "    <tr>\n",
       "      <th>1090</th>\n",
       "      <td>OR13C3</td>\n",
       "      <td>M147I</td>\n",
       "      <td>Skin Cutaneous Melanoma</td>\n",
       "      <td>Can you provide the prevalence of microsatelli...</td>\n",
       "      <td>msi_h_frequency</td>\n",
       "      <td>1.0</td>\n",
       "    </tr>\n",
       "    <tr>\n",
       "      <th>341</th>\n",
       "      <td>TENT5A</td>\n",
       "      <td>S401F</td>\n",
       "      <td>Skin Cutaneous Melanoma</td>\n",
       "      <td>What is the occurrence rate of TENT5A S401F in...</td>\n",
       "      <td>ssm_frequency</td>\n",
       "      <td>0.0</td>\n",
       "    </tr>\n",
       "    <tr>\n",
       "      <th>996</th>\n",
       "      <td>PTPRO</td>\n",
       "      <td>E249K</td>\n",
       "      <td>Pancreatic Adenocarcinoma</td>\n",
       "      <td>What percentage of Pancreatic Adenocarcinoma c...</td>\n",
       "      <td>cnv_and_ssm</td>\n",
       "      <td>4.0</td>\n",
       "    </tr>\n",
       "    <tr>\n",
       "      <th>201</th>\n",
       "      <td>GRTP1</td>\n",
       "      <td>A110V</td>\n",
       "      <td>Skin Cutaneous Melanoma</td>\n",
       "      <td>What percentage of Skin Cutaneous Melanoma cas...</td>\n",
       "      <td>top_cases_counts_by_genes</td>\n",
       "      <td>3.0</td>\n",
       "    </tr>\n",
       "  </tbody>\n",
       "</table>\n",
       "</div>"
      ],
      "text/plain": [
       "        gene mutation                     cancer  \\\n",
       "694    RIMS2    R619W    Skin Cutaneous Melanoma   \n",
       "1090  OR13C3    M147I    Skin Cutaneous Melanoma   \n",
       "341   TENT5A    S401F    Skin Cutaneous Melanoma   \n",
       "996    PTPRO    E249K  Pancreatic Adenocarcinoma   \n",
       "201    GRTP1    A110V    Skin Cutaneous Melanoma   \n",
       "\n",
       "                                              questions  \\\n",
       "694   How many Skin Cutaneous Melanoma cases have th...   \n",
       "1090  Can you provide the prevalence of microsatelli...   \n",
       "341   What is the occurrence rate of TENT5A S401F in...   \n",
       "996   What percentage of Pancreatic Adenocarcinoma c...   \n",
       "201   What percentage of Skin Cutaneous Melanoma cas...   \n",
       "\n",
       "                         intent  label  \n",
       "694               ssm_frequency    0.0  \n",
       "1090            msi_h_frequency    1.0  \n",
       "341               ssm_frequency    0.0  \n",
       "996                 cnv_and_ssm    4.0  \n",
       "201   top_cases_counts_by_genes    3.0  "
      ]
     },
     "execution_count": 151,
     "metadata": {},
     "output_type": "execute_result"
    }
   ],
   "source": [
    "train_dataset.head()"
   ]
  },
  {
   "cell_type": "code",
   "execution_count": null,
   "id": "86894a89",
   "metadata": {},
   "outputs": [],
   "source": [
    "### check for overlap between train_dataset and test dataset and ensure none\n",
    "overlap = pd.merge(\n",
    "    train_dataset,\n",
    "    stratified_sample,\n",
    "    on=['gene', 'mutation'],\n",
    "    how='inner'\n",
    ")\n"
   ]
  },
  {
   "cell_type": "code",
   "execution_count": 153,
   "id": "fa55b48d",
   "metadata": {},
   "outputs": [
    {
     "data": {
      "text/plain": [
       "(0, 11)"
      ]
     },
     "execution_count": 153,
     "metadata": {},
     "output_type": "execute_result"
    }
   ],
   "source": [
    "overlap.shape"
   ]
  },
  {
   "cell_type": "code",
   "execution_count": 154,
   "id": "a470c94a",
   "metadata": {},
   "outputs": [],
   "source": [
    "overlap = pd.merge(\n",
    "    validation_dataset,\n",
    "    stratified_sample,\n",
    "    on=['gene', 'mutation'],\n",
    "    how='inner'\n",
    ")"
   ]
  },
  {
   "cell_type": "code",
   "execution_count": 155,
   "id": "874f2bcd",
   "metadata": {},
   "outputs": [
    {
     "data": {
      "text/plain": [
       "(0, 11)"
      ]
     },
     "execution_count": 155,
     "metadata": {},
     "output_type": "execute_result"
    }
   ],
   "source": [
    "overlap.shape"
   ]
  }
 ],
 "metadata": {
  "kernelspec": {
   "display_name": "Python Poetry venv-3.10.13",
   "language": "python",
   "name": "venv-3.10.13"
  },
  "language_info": {
   "codemirror_mode": {
    "name": "ipython",
    "version": 3
   },
   "file_extension": ".py",
   "mimetype": "text/x-python",
   "name": "python",
   "nbconvert_exporter": "python",
   "pygments_lexer": "ipython3",
   "version": "3.10.13"
  }
 },
 "nbformat": 4,
 "nbformat_minor": 5
}
