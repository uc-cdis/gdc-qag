{
 "cells": [
  {
   "cell_type": "markdown",
   "id": "e20a3b53",
   "metadata": {},
   "source": [
    "### openai-batch notebook for gpt-4o-2024-08-06 results"
   ]
  },
  {
   "cell_type": "code",
   "execution_count": null,
   "id": "3fe95e68",
   "metadata": {},
   "outputs": [],
   "source": [
    "import json\n",
    "import os"
   ]
  },
  {
   "cell_type": "code",
   "execution_count": null,
   "id": "e28cf948",
   "metadata": {},
   "outputs": [],
   "source": [
    "from dotenv import load_dotenv\n",
    "load_dotenv(\".env\")\n",
    "api_key = os.getenv(\"OPENAI_API_KEY\")"
   ]
  },
  {
   "cell_type": "code",
   "execution_count": null,
   "id": "d5cdb83b",
   "metadata": {},
   "outputs": [],
   "source": [
    "\"\"\"\n",
    "check what models the key has access to\n",
    "\n",
    "curl https://api.openai.com/v1/models \\\n",
    "  -H \"Authorization: Bearer $OPENAI_API_KEY\"\n",
    "\n",
    "\"\"\""
   ]
  },
  {
   "cell_type": "code",
   "execution_count": null,
   "id": "a0b3a9d0",
   "metadata": {},
   "outputs": [],
   "source": [
    "# all questions\n",
    "input_file = '../csvs/questions.csv'\n",
    "output_file = '../csvs/questions.jsonl'"
   ]
  },
  {
   "cell_type": "code",
   "execution_count": null,
   "id": "e53a54f6",
   "metadata": {},
   "outputs": [],
   "source": [
    "def define_general_prompt():\n",
    "    general_prompt = \"\"\"\n",
    "    \n",
    "    'Only use results from the genomic data commons in your response and provide frequencies \\\n",
    "     as a percentage in the result. Report the result in the following output JSON format, strictly using \\\n",
    "     the structure \"The final answer is: <frequency %>\", followed by top references to publications from which you \\\n",
    "     obtained your response:\n",
    "\n",
    "    {\n",
    "        result: The final answer is: <frequency %>\n",
    "        references: <list of references>\n",
    "    }\n",
    "\n",
    "    \"\"\"\n",
    "    return general_prompt"
   ]
  },
  {
   "cell_type": "code",
   "execution_count": null,
   "id": "3fe0fdc0",
   "metadata": {},
   "outputs": [],
   "source": [
    "general_prompt = define_general_prompt()"
   ]
  },
  {
   "cell_type": "code",
   "execution_count": null,
   "id": "c535b917",
   "metadata": {},
   "outputs": [],
   "source": [
    "general_prompt"
   ]
  },
  {
   "cell_type": "code",
   "execution_count": null,
   "id": "d9574f06",
   "metadata": {},
   "outputs": [],
   "source": [
    "def get_jsonl(input_file, output_file):\n",
    "    with open(input_file, \"r\") as infile, open(output_file, \"w\") as outfile:\n",
    "        next(infile)  # skip the header line\n",
    "        for i, line in enumerate(infile, 1):\n",
    "            question = line.strip().strip(\"'\\\"\")  # remove quotes and newline\n",
    "            jsonl = {\n",
    "                \"custom_id\": f\"request-{i}\",\n",
    "                \"method\": \"POST\",\n",
    "                \"url\": \"/v1/chat/completions\",\n",
    "                \"body\": {\n",
    "                    \"model\": \"gpt-4o-2024-08-06\",\n",
    "                    \"temperature\": 0,\n",
    "                    \"seed\": 2000,\n",
    "                    \"response_format\": {\"type\": \"json_object\"},\n",
    "                    \"messages\": [\n",
    "                        {\"role\": \"system\", \"content\": general_prompt},\n",
    "                        {\"role\": \"user\", \"content\": question}\n",
    "                    ]\n",
    "                }\n",
    "            }\n",
    "            outfile.write(json.dumps(jsonl) + \"\\n\")\n"
   ]
  },
  {
   "cell_type": "markdown",
   "id": "ad369e08",
   "metadata": {},
   "source": [
    "### process results from batch"
   ]
  },
  {
   "cell_type": "markdown",
   "id": "dab0b142",
   "metadata": {},
   "source": [
    "#### any errors from batch, reprocess them\n",
    "- look at error.jsonl and process the error queries separately\n",
    "- sometimes errors result due to the suffix \"-batch\" added to model name which doesn't exist\n",
    "- openai probably does this to get discounts in batch API\n",
    "- rerunning error queries fixes it and model name doesnt change"
   ]
  },
  {
   "cell_type": "code",
   "execution_count": null,
   "id": "0975ed83",
   "metadata": {},
   "outputs": [],
   "source": [
    "import pandas as pd\n",
    "pd.set_option('display.max_colwidth', None)\n",
    "questions = pd.read_csv('../csvs/questions.csv')\n",
    "error_questions = questions.iloc[[5, 6, 24, 80, 141, 169, 238, 246, 247, 265, 272, 287, 289, 309, 311, 407, 408, 416, 458, 485, 488]]"
   ]
  },
  {
   "cell_type": "code",
   "execution_count": null,
   "id": "96fdf716",
   "metadata": {},
   "outputs": [],
   "source": [
    "error_questions.to_csv('../csvs/error_questions_gpt4.csv', index=0)"
   ]
  },
  {
   "cell_type": "code",
   "execution_count": null,
   "id": "f3dd5418",
   "metadata": {},
   "outputs": [],
   "source": [
    "get_jsonl(input_file='../csvs/error_questions_gpt4.csv', output_file='../csvs/error_questions_gpt4.jsonl')"
   ]
  },
  {
   "cell_type": "markdown",
   "id": "3667a183",
   "metadata": {},
   "source": [
    "### process results"
   ]
  },
  {
   "cell_type": "code",
   "execution_count": null,
   "id": "72adbe91",
   "metadata": {},
   "outputs": [],
   "source": [
    "results = []\n",
    "references_list = []\n",
    "\n",
    "with open(\"/opt/gpudata/aartiv/qag/gpt-4o-2024-08-06/batch_gpt4o_latest.jsonl\", \"r\") as file:\n",
    "    for line in file:\n",
    "        record = json.loads(line)\n",
    "\n",
    "        try:\n",
    "            # step 1: get the assistant message content (which is a JSON string)\n",
    "            content_str = record[\"response\"][\"body\"][\"choices\"][0][\"message\"][\"content\"]\n",
    "\n",
    "            # step 2: parse that content string as JSON\n",
    "            content_json = json.loads(content_str)\n",
    "\n",
    "            # step 3: extract result and references\n",
    "            result = content_json.get(\"result\")\n",
    "            references = content_json.get(\"references\", [])\n",
    "\n",
    "            results.append(result)\n",
    "            references_list.append(references)\n",
    "\n",
    "        except (KeyError, json.JSONDecodeError) as e:\n",
    "            print(\"Error parsing line:\", e)\n",
    "            results.append(None)\n",
    "            references_list.append([])\n",
    "\n",
    "# Output examples\n",
    "print(\"Results:\\n\", results)\n",
    "print(\"\\nReferences:\\n\", references_list)\n"
   ]
  },
  {
   "cell_type": "code",
   "execution_count": null,
   "id": "8f07b0d2",
   "metadata": {},
   "outputs": [],
   "source": [
    "import pandas as pd\n",
    "questions = pd.read_csv(\n",
    "    '../csvs/questions.csv'\n",
    ")\n",
    "questions['gpt-4o-2024-08-06_base_output'] = results\n",
    "questions['gpt-4o-2024-08-06_references'] = references_list"
   ]
  },
  {
   "cell_type": "code",
   "execution_count": null,
   "id": "707e7870",
   "metadata": {},
   "outputs": [],
   "source": [
    "questions.head(n=2)"
   ]
  },
  {
   "cell_type": "code",
   "execution_count": null,
   "id": "19113356",
   "metadata": {},
   "outputs": [],
   "source": [
    "questions.shape"
   ]
  },
  {
   "cell_type": "code",
   "execution_count": null,
   "id": "54797940",
   "metadata": {},
   "outputs": [],
   "source": [
    "questions.to_csv('../csvs/gpt4o_base_results.csv', index=0)"
   ]
  }
 ],
 "metadata": {
  "kernelspec": {
   "display_name": "Python Poetry venv-3.10.13",
   "language": "python",
   "name": "venv-3.10.13"
  },
  "language_info": {
   "codemirror_mode": {
    "name": "ipython",
    "version": 3
   },
   "file_extension": ".py",
   "mimetype": "text/x-python",
   "name": "python",
   "nbconvert_exporter": "python",
   "pygments_lexer": "ipython3",
   "version": "3.10.13"
  }
 },
 "nbformat": 4,
 "nbformat_minor": 5
}
