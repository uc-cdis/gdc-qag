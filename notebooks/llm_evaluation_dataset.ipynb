{
  "cells": [
    {
      "cell_type": "markdown",
      "metadata": {},
      "source": [
        "### Generate synthetic questions to evaluate LLMs more broadly for specific cancer questions ###\n"
      ]
    },
    {
      "cell_type": "code",
      "execution_count": 1,
      "metadata": {},
      "outputs": [],
      "source": [
        "import os\n",
        "os.environ[\"CUDA_VISIBLE_DEVICES\"] = \"0\" # note the GPU index as a string "
      ]
    },
    {
      "cell_type": "markdown",
      "metadata": {},
      "source": [
        "# Import libraries"
      ]
    },
    {
      "cell_type": "code",
      "execution_count": 1,
      "metadata": {
        "id": "kLikjieAJtEt"
      },
      "outputs": [],
      "source": [
        "import requests\n",
        "import pandas as pd\n",
        "import numpy as np\n",
        "import io"
      ]
    },
    {
      "cell_type": "markdown",
      "metadata": {},
      "source": [
        "# Construct data from the CIVIC db for eval questions\n",
        "- At the heart of CIViC is the clinical evidence statement. The clinical evidence statement is a piece of information that has been manually curated from trustable medical literature about a molecular profile (variant) or genomic ‘event’ that has implications for protein function, oncogenicity, cancer predisposition, diagnosis (aka molecular classification), prognosis, or predictive response to therapy. For example, “Patients with BRAF V600 mutations respond well to the drug dabrafenib”. A molecular profile is comprised of one or more variant(s) which may be a single nucleotide substitution, a small insertion or deletion, an RNA gene fusion, a chromosomal rearrangement, an RNA expression pattern (e.g. over-expression), etc. Each clinical evidence statement corresponds to a single citable publication.\n",
        "- Evidence Items follow a structured knowledge model with required fields: Molecular Profile Name (Gene/Variant), Source, Variant Origin, Disease, Evidence Statement, Evidence Type, Evidence Level, Evidence Direction, Significance, and Trust Rating) with additional optional fields (Associated Phenotypes, etc). For some Evidence Types, additional required or optional fields become available (e.g., Predictive Evidence Types require a Therapy/Drug Name)."
      ]
    },
    {
      "cell_type": "code",
      "execution_count": 2,
      "metadata": {},
      "outputs": [],
      "source": [
        "curl_cmd = 'https://civicdb.org/downloads/nightly/nightly-ClinicalEvidenceSummaries.tsv'"
      ]
    },
    {
      "cell_type": "code",
      "execution_count": 3,
      "metadata": {},
      "outputs": [],
      "source": [
        "response = requests.get(curl_cmd)"
      ]
    },
    {
      "cell_type": "code",
      "execution_count": 4,
      "metadata": {},
      "outputs": [
        {
          "data": {
            "text/plain": [
              "200"
            ]
          },
          "execution_count": 4,
          "metadata": {},
          "output_type": "execute_result"
        }
      ],
      "source": [
        "response.status_code"
      ]
    },
    {
      "cell_type": "code",
      "execution_count": 5,
      "metadata": {},
      "outputs": [],
      "source": [
        "tsv_data = io.StringIO(response.content.decode('utf-8'))"
      ]
    },
    {
      "cell_type": "code",
      "execution_count": 8,
      "metadata": {},
      "outputs": [],
      "source": [
        "evidence_info = pd.read_csv(tsv_data, sep='\\t')"
      ]
    },
    {
      "cell_type": "code",
      "execution_count": 9,
      "metadata": {},
      "outputs": [
        {
          "data": {
            "text/html": [
              "<div>\n",
              "<style scoped>\n",
              "    .dataframe tbody tr th:only-of-type {\n",
              "        vertical-align: middle;\n",
              "    }\n",
              "\n",
              "    .dataframe tbody tr th {\n",
              "        vertical-align: top;\n",
              "    }\n",
              "\n",
              "    .dataframe thead th {\n",
              "        text-align: right;\n",
              "    }\n",
              "</style>\n",
              "<table border=\"1\" class=\"dataframe\">\n",
              "  <thead>\n",
              "    <tr style=\"text-align: right;\">\n",
              "      <th></th>\n",
              "      <th>molecular_profile</th>\n",
              "      <th>molecular_profile_id</th>\n",
              "      <th>disease</th>\n",
              "      <th>doid</th>\n",
              "      <th>phenotypes</th>\n",
              "      <th>therapies</th>\n",
              "      <th>therapy_interaction_type</th>\n",
              "      <th>evidence_type</th>\n",
              "      <th>evidence_direction</th>\n",
              "      <th>evidence_level</th>\n",
              "      <th>...</th>\n",
              "      <th>citation</th>\n",
              "      <th>nct_ids</th>\n",
              "      <th>rating</th>\n",
              "      <th>evidence_status</th>\n",
              "      <th>evidence_id</th>\n",
              "      <th>variant_origin</th>\n",
              "      <th>last_review_date</th>\n",
              "      <th>evidence_civic_url</th>\n",
              "      <th>molecular_profile_civic_url</th>\n",
              "      <th>is_flagged</th>\n",
              "    </tr>\n",
              "  </thead>\n",
              "  <tbody>\n",
              "    <tr>\n",
              "      <th>0</th>\n",
              "      <td>JAK2 V617F</td>\n",
              "      <td>64</td>\n",
              "      <td>Lymphoid Leukemia</td>\n",
              "      <td>1037.0</td>\n",
              "      <td>NaN</td>\n",
              "      <td>NaN</td>\n",
              "      <td>NaN</td>\n",
              "      <td>Diagnostic</td>\n",
              "      <td>Supports</td>\n",
              "      <td>B</td>\n",
              "      <td>...</td>\n",
              "      <td>Levine et al., 2005</td>\n",
              "      <td>NaN</td>\n",
              "      <td>4.0</td>\n",
              "      <td>accepted</td>\n",
              "      <td>1</td>\n",
              "      <td>Somatic</td>\n",
              "      <td>2023-01-09 21:46:26 UTC</td>\n",
              "      <td>https://civicdb.org/links/evidence_items/1</td>\n",
              "      <td>https://civicdb.org/links/molecular_profiles/64</td>\n",
              "      <td>False</td>\n",
              "    </tr>\n",
              "    <tr>\n",
              "      <th>1</th>\n",
              "      <td>PDGFRA D842V</td>\n",
              "      <td>99</td>\n",
              "      <td>Gastrointestinal Stromal Tumor</td>\n",
              "      <td>9253.0</td>\n",
              "      <td>NaN</td>\n",
              "      <td>NaN</td>\n",
              "      <td>NaN</td>\n",
              "      <td>Diagnostic</td>\n",
              "      <td>Supports</td>\n",
              "      <td>B</td>\n",
              "      <td>...</td>\n",
              "      <td>Lasota et al., 2004</td>\n",
              "      <td>NaN</td>\n",
              "      <td>3.0</td>\n",
              "      <td>accepted</td>\n",
              "      <td>2</td>\n",
              "      <td>Somatic</td>\n",
              "      <td>2023-01-09 21:46:27 UTC</td>\n",
              "      <td>https://civicdb.org/links/evidence_items/2</td>\n",
              "      <td>https://civicdb.org/links/molecular_profiles/99</td>\n",
              "      <td>False</td>\n",
              "    </tr>\n",
              "    <tr>\n",
              "      <th>2</th>\n",
              "      <td>DNMT3A R882</td>\n",
              "      <td>32</td>\n",
              "      <td>Acute Myeloid Leukemia</td>\n",
              "      <td>9119.0</td>\n",
              "      <td>NaN</td>\n",
              "      <td>NaN</td>\n",
              "      <td>NaN</td>\n",
              "      <td>Diagnostic</td>\n",
              "      <td>Supports</td>\n",
              "      <td>B</td>\n",
              "      <td>...</td>\n",
              "      <td>LaRochelle et al., 2011</td>\n",
              "      <td>NaN</td>\n",
              "      <td>2.0</td>\n",
              "      <td>accepted</td>\n",
              "      <td>3</td>\n",
              "      <td>Somatic</td>\n",
              "      <td>2023-01-09 21:46:25 UTC</td>\n",
              "      <td>https://civicdb.org/links/evidence_items/3</td>\n",
              "      <td>https://civicdb.org/links/molecular_profiles/32</td>\n",
              "      <td>False</td>\n",
              "    </tr>\n",
              "    <tr>\n",
              "      <th>3</th>\n",
              "      <td>DNMT3A R882</td>\n",
              "      <td>32</td>\n",
              "      <td>Acute Myeloid Leukemia</td>\n",
              "      <td>9119.0</td>\n",
              "      <td>NaN</td>\n",
              "      <td>NaN</td>\n",
              "      <td>NaN</td>\n",
              "      <td>Diagnostic</td>\n",
              "      <td>Supports</td>\n",
              "      <td>B</td>\n",
              "      <td>...</td>\n",
              "      <td>Ribeiro et al., 2012</td>\n",
              "      <td>NaN</td>\n",
              "      <td>3.0</td>\n",
              "      <td>accepted</td>\n",
              "      <td>4</td>\n",
              "      <td>Somatic</td>\n",
              "      <td>2023-01-09 21:46:25 UTC</td>\n",
              "      <td>https://civicdb.org/links/evidence_items/4</td>\n",
              "      <td>https://civicdb.org/links/molecular_profiles/32</td>\n",
              "      <td>False</td>\n",
              "    </tr>\n",
              "    <tr>\n",
              "      <th>4</th>\n",
              "      <td>JAK2 V617F</td>\n",
              "      <td>64</td>\n",
              "      <td>Chronic Myeloid Leukemia</td>\n",
              "      <td>8552.0</td>\n",
              "      <td>NaN</td>\n",
              "      <td>NaN</td>\n",
              "      <td>NaN</td>\n",
              "      <td>Diagnostic</td>\n",
              "      <td>Supports</td>\n",
              "      <td>B</td>\n",
              "      <td>...</td>\n",
              "      <td>Levine et al., 2005</td>\n",
              "      <td>NaN</td>\n",
              "      <td>4.0</td>\n",
              "      <td>accepted</td>\n",
              "      <td>5</td>\n",
              "      <td>Somatic</td>\n",
              "      <td>2023-01-09 21:46:26 UTC</td>\n",
              "      <td>https://civicdb.org/links/evidence_items/5</td>\n",
              "      <td>https://civicdb.org/links/molecular_profiles/64</td>\n",
              "      <td>False</td>\n",
              "    </tr>\n",
              "  </tbody>\n",
              "</table>\n",
              "<p>5 rows × 25 columns</p>\n",
              "</div>"
            ],
            "text/plain": [
              "  molecular_profile  molecular_profile_id                         disease  \\\n",
              "0        JAK2 V617F                    64               Lymphoid Leukemia   \n",
              "1      PDGFRA D842V                    99  Gastrointestinal Stromal Tumor   \n",
              "2       DNMT3A R882                    32          Acute Myeloid Leukemia   \n",
              "3       DNMT3A R882                    32          Acute Myeloid Leukemia   \n",
              "4        JAK2 V617F                    64        Chronic Myeloid Leukemia   \n",
              "\n",
              "     doid phenotypes therapies therapy_interaction_type evidence_type  \\\n",
              "0  1037.0        NaN       NaN                      NaN    Diagnostic   \n",
              "1  9253.0        NaN       NaN                      NaN    Diagnostic   \n",
              "2  9119.0        NaN       NaN                      NaN    Diagnostic   \n",
              "3  9119.0        NaN       NaN                      NaN    Diagnostic   \n",
              "4  8552.0        NaN       NaN                      NaN    Diagnostic   \n",
              "\n",
              "  evidence_direction evidence_level  ...                 citation nct_ids  \\\n",
              "0           Supports              B  ...      Levine et al., 2005     NaN   \n",
              "1           Supports              B  ...      Lasota et al., 2004     NaN   \n",
              "2           Supports              B  ...  LaRochelle et al., 2011     NaN   \n",
              "3           Supports              B  ...     Ribeiro et al., 2012     NaN   \n",
              "4           Supports              B  ...      Levine et al., 2005     NaN   \n",
              "\n",
              "  rating evidence_status  evidence_id variant_origin         last_review_date  \\\n",
              "0    4.0        accepted            1        Somatic  2023-01-09 21:46:26 UTC   \n",
              "1    3.0        accepted            2        Somatic  2023-01-09 21:46:27 UTC   \n",
              "2    2.0        accepted            3        Somatic  2023-01-09 21:46:25 UTC   \n",
              "3    3.0        accepted            4        Somatic  2023-01-09 21:46:25 UTC   \n",
              "4    4.0        accepted            5        Somatic  2023-01-09 21:46:26 UTC   \n",
              "\n",
              "                           evidence_civic_url  \\\n",
              "0  https://civicdb.org/links/evidence_items/1   \n",
              "1  https://civicdb.org/links/evidence_items/2   \n",
              "2  https://civicdb.org/links/evidence_items/3   \n",
              "3  https://civicdb.org/links/evidence_items/4   \n",
              "4  https://civicdb.org/links/evidence_items/5   \n",
              "\n",
              "                       molecular_profile_civic_url  is_flagged  \n",
              "0  https://civicdb.org/links/molecular_profiles/64       False  \n",
              "1  https://civicdb.org/links/molecular_profiles/99       False  \n",
              "2  https://civicdb.org/links/molecular_profiles/32       False  \n",
              "3  https://civicdb.org/links/molecular_profiles/32       False  \n",
              "4  https://civicdb.org/links/molecular_profiles/64       False  \n",
              "\n",
              "[5 rows x 25 columns]"
            ]
          },
          "execution_count": 9,
          "metadata": {},
          "output_type": "execute_result"
        }
      ],
      "source": [
        "evidence_info.head()"
      ]
    },
    {
      "cell_type": "code",
      "execution_count": 10,
      "metadata": {},
      "outputs": [
        {
          "data": {
            "text/plain": [
              "Index(['molecular_profile', 'molecular_profile_id', 'disease', 'doid',\n",
              "       'phenotypes', 'therapies', 'therapy_interaction_type', 'evidence_type',\n",
              "       'evidence_direction', 'evidence_level', 'significance',\n",
              "       'evidence_statement', 'citation_id', 'source_type', 'asco_abstract_id',\n",
              "       'citation', 'nct_ids', 'rating', 'evidence_status', 'evidence_id',\n",
              "       'variant_origin', 'last_review_date', 'evidence_civic_url',\n",
              "       'molecular_profile_civic_url', 'is_flagged'],\n",
              "      dtype='object')"
            ]
          },
          "execution_count": 10,
          "metadata": {},
          "output_type": "execute_result"
        }
      ],
      "source": [
        "evidence_info.columns"
      ]
    },
    {
      "cell_type": "code",
      "execution_count": 11,
      "metadata": {},
      "outputs": [
        {
          "data": {
            "text/plain": [
              "(4528, 25)"
            ]
          },
          "execution_count": 11,
          "metadata": {},
          "output_type": "execute_result"
        }
      ],
      "source": [
        "evidence_info.shape"
      ]
    },
    {
      "cell_type": "code",
      "execution_count": 12,
      "metadata": {},
      "outputs": [
        {
          "data": {
            "text/plain": [
              "array(['accepted'], dtype=object)"
            ]
          },
          "execution_count": 12,
          "metadata": {},
          "output_type": "execute_result"
        }
      ],
      "source": [
        "evidence_info['evidence_status'].unique()"
      ]
    },
    {
      "cell_type": "code",
      "execution_count": 13,
      "metadata": {},
      "outputs": [
        {
          "data": {
            "text/plain": [
              "array(['B', 'D', 'C', 'E', 'A'], dtype=object)"
            ]
          },
          "execution_count": 13,
          "metadata": {},
          "output_type": "execute_result"
        }
      ],
      "source": [
        "evidence_info['evidence_level'].unique()"
      ]
    },
    {
      "cell_type": "code",
      "execution_count": 14,
      "metadata": {},
      "outputs": [
        {
          "data": {
            "text/plain": [
              "evidence_level\n",
              "C    1573\n",
              "B    1501\n",
              "D    1228\n",
              "A     194\n",
              "E      32\n",
              "Name: count, dtype: int64"
            ]
          },
          "execution_count": 14,
          "metadata": {},
          "output_type": "execute_result"
        }
      ],
      "source": [
        "evidence_info['evidence_level'].value_counts()"
      ]
    },
    {
      "cell_type": "code",
      "execution_count": 15,
      "metadata": {},
      "outputs": [],
      "source": [
        "# exclude fusion and frameshift mutations (frameshifts are hard to match with GDC annotations)\n",
        "ssms_df = evidence_info[\n",
        "     (~evidence_info['molecular_profile'].str.contains('Fusion')) & \\\n",
        "     (~evidence_info['molecular_profile'].str.contains('FS'))\n",
        "    ]"
      ]
    },
    {
      "cell_type": "code",
      "execution_count": 16,
      "metadata": {},
      "outputs": [
        {
          "data": {
            "text/plain": [
              "(3521, 25)"
            ]
          },
          "execution_count": 16,
          "metadata": {},
          "output_type": "execute_result"
        }
      ],
      "source": [
        "ssms_df.shape"
      ]
    },
    {
      "cell_type": "code",
      "execution_count": 17,
      "metadata": {},
      "outputs": [
        {
          "data": {
            "text/plain": [
              "array(['JAK2 V617F', 'PDGFRA D842V', 'DNMT3A R882', ...,\n",
              "       'C19MC Amplification', 'C19MC TTYH1::C19MC fusion',\n",
              "       'C19MC v::C19MC fusion'], dtype=object)"
            ]
          },
          "execution_count": 17,
          "metadata": {},
          "output_type": "execute_result"
        }
      ],
      "source": [
        "ssms_df['molecular_profile'].unique()"
      ]
    },
    {
      "cell_type": "code",
      "execution_count": 18,
      "metadata": {},
      "outputs": [
        {
          "name": "stderr",
          "output_type": "stream",
          "text": [
            "/tmp/ipykernel_353538/3576029399.py:1: SettingWithCopyWarning: \n",
            "A value is trying to be set on a copy of a slice from a DataFrame\n",
            "\n",
            "See the caveats in the documentation: https://pandas.pydata.org/pandas-docs/stable/user_guide/indexing.html#returning-a-view-versus-a-copy\n",
            "  ssms_df.drop_duplicates(['molecular_profile'], inplace=True)\n"
          ]
        }
      ],
      "source": [
        "ssms_df.drop_duplicates(['molecular_profile'], inplace=True)"
      ]
    },
    {
      "cell_type": "code",
      "execution_count": 19,
      "metadata": {},
      "outputs": [
        {
          "data": {
            "text/plain": [
              "(1478, 25)"
            ]
          },
          "execution_count": 19,
          "metadata": {},
          "output_type": "execute_result"
        }
      ],
      "source": [
        "ssms_df.shape"
      ]
    },
    {
      "cell_type": "markdown",
      "metadata": {},
      "source": [
        "### combination mutation data\n",
        "- how many ssm + ssm\n",
        "- ssm + cnv\n",
        "- cnv + cnv"
      ]
    },
    {
      "cell_type": "code",
      "execution_count": 20,
      "metadata": {},
      "outputs": [
        {
          "data": {
            "text/html": [
              "<div>\n",
              "<style scoped>\n",
              "    .dataframe tbody tr th:only-of-type {\n",
              "        vertical-align: middle;\n",
              "    }\n",
              "\n",
              "    .dataframe tbody tr th {\n",
              "        vertical-align: top;\n",
              "    }\n",
              "\n",
              "    .dataframe thead th {\n",
              "        text-align: right;\n",
              "    }\n",
              "</style>\n",
              "<table border=\"1\" class=\"dataframe\">\n",
              "  <thead>\n",
              "    <tr style=\"text-align: right;\">\n",
              "      <th></th>\n",
              "      <th>molecular_profile</th>\n",
              "      <th>molecular_profile_id</th>\n",
              "      <th>disease</th>\n",
              "      <th>doid</th>\n",
              "      <th>phenotypes</th>\n",
              "      <th>therapies</th>\n",
              "      <th>therapy_interaction_type</th>\n",
              "      <th>evidence_type</th>\n",
              "      <th>evidence_direction</th>\n",
              "      <th>evidence_level</th>\n",
              "      <th>...</th>\n",
              "      <th>citation</th>\n",
              "      <th>nct_ids</th>\n",
              "      <th>rating</th>\n",
              "      <th>evidence_status</th>\n",
              "      <th>evidence_id</th>\n",
              "      <th>variant_origin</th>\n",
              "      <th>last_review_date</th>\n",
              "      <th>evidence_civic_url</th>\n",
              "      <th>molecular_profile_civic_url</th>\n",
              "      <th>is_flagged</th>\n",
              "    </tr>\n",
              "  </thead>\n",
              "  <tbody>\n",
              "    <tr>\n",
              "      <th>64</th>\n",
              "      <td>BRAF V600E AND BRAF V600M</td>\n",
              "      <td>4170</td>\n",
              "      <td>Melanoma</td>\n",
              "      <td>1909.0</td>\n",
              "      <td>NaN</td>\n",
              "      <td>Dabrafenib</td>\n",
              "      <td>NaN</td>\n",
              "      <td>Predictive</td>\n",
              "      <td>Supports</td>\n",
              "      <td>C</td>\n",
              "      <td>...</td>\n",
              "      <td>Ponti et al., 2012</td>\n",
              "      <td>NaN</td>\n",
              "      <td>1.0</td>\n",
              "      <td>accepted</td>\n",
              "      <td>73</td>\n",
              "      <td>Somatic</td>\n",
              "      <td>2023-01-11 17:59:40 UTC</td>\n",
              "      <td>https://civicdb.org/links/evidence_items/73</td>\n",
              "      <td>https://civicdb.org/links/molecular_profiles/4170</td>\n",
              "      <td>False</td>\n",
              "    </tr>\n",
              "    <tr>\n",
              "      <th>78</th>\n",
              "      <td>BRAF V600E AND NF1 Loss</td>\n",
              "      <td>5379</td>\n",
              "      <td>Melanoma</td>\n",
              "      <td>1909.0</td>\n",
              "      <td>NaN</td>\n",
              "      <td>Vemurafenib</td>\n",
              "      <td>NaN</td>\n",
              "      <td>Predictive</td>\n",
              "      <td>Supports</td>\n",
              "      <td>D</td>\n",
              "      <td>...</td>\n",
              "      <td>Nissan et al., 2014</td>\n",
              "      <td>NaN</td>\n",
              "      <td>3.0</td>\n",
              "      <td>accepted</td>\n",
              "      <td>90</td>\n",
              "      <td>Somatic</td>\n",
              "      <td>2025-02-25 23:34:09 UTC</td>\n",
              "      <td>https://civicdb.org/links/evidence_items/90</td>\n",
              "      <td>https://civicdb.org/links/molecular_profiles/5379</td>\n",
              "      <td>False</td>\n",
              "    </tr>\n",
              "    <tr>\n",
              "      <th>80</th>\n",
              "      <td>BRAF V600E AND BRAF Amplification</td>\n",
              "      <td>4173</td>\n",
              "      <td>Colorectal Cancer</td>\n",
              "      <td>9256.0</td>\n",
              "      <td>NaN</td>\n",
              "      <td>Selumetinib</td>\n",
              "      <td>NaN</td>\n",
              "      <td>Predictive</td>\n",
              "      <td>Supports</td>\n",
              "      <td>E</td>\n",
              "      <td>...</td>\n",
              "      <td>Corcoran et al., 2010</td>\n",
              "      <td>NaN</td>\n",
              "      <td>4.0</td>\n",
              "      <td>accepted</td>\n",
              "      <td>92</td>\n",
              "      <td>Somatic</td>\n",
              "      <td>2023-01-12 04:51:38 UTC</td>\n",
              "      <td>https://civicdb.org/links/evidence_items/92</td>\n",
              "      <td>https://civicdb.org/links/molecular_profiles/4173</td>\n",
              "      <td>False</td>\n",
              "    </tr>\n",
              "    <tr>\n",
              "      <th>216</th>\n",
              "      <td>FLT3 ITD AND FLT3 D835Y</td>\n",
              "      <td>4616</td>\n",
              "      <td>Acute Myeloid Leukemia</td>\n",
              "      <td>9119.0</td>\n",
              "      <td>NaN</td>\n",
              "      <td>Sorafenib</td>\n",
              "      <td>NaN</td>\n",
              "      <td>Predictive</td>\n",
              "      <td>Supports</td>\n",
              "      <td>C</td>\n",
              "      <td>...</td>\n",
              "      <td>Man et al., 2012</td>\n",
              "      <td>NaN</td>\n",
              "      <td>4.0</td>\n",
              "      <td>accepted</td>\n",
              "      <td>247</td>\n",
              "      <td>Somatic</td>\n",
              "      <td>2023-10-17 15:51:35 UTC</td>\n",
              "      <td>https://civicdb.org/links/evidence_items/247</td>\n",
              "      <td>https://civicdb.org/links/molecular_profiles/4616</td>\n",
              "      <td>False</td>\n",
              "    </tr>\n",
              "    <tr>\n",
              "      <th>518</th>\n",
              "      <td>TYMS 5' TANDEM REPEAT</td>\n",
              "      <td>261</td>\n",
              "      <td>Colorectal Cancer</td>\n",
              "      <td>9256.0</td>\n",
              "      <td>NaN</td>\n",
              "      <td>Irinotecan,Fluorouracil</td>\n",
              "      <td>Combination</td>\n",
              "      <td>Predictive</td>\n",
              "      <td>Supports</td>\n",
              "      <td>B</td>\n",
              "      <td>...</td>\n",
              "      <td>Martinez-Balibrea et al., 2010</td>\n",
              "      <td>NaN</td>\n",
              "      <td>3.0</td>\n",
              "      <td>accepted</td>\n",
              "      <td>678</td>\n",
              "      <td>Rare Germline</td>\n",
              "      <td>2023-01-09 21:46:30 UTC</td>\n",
              "      <td>https://civicdb.org/links/evidence_items/678</td>\n",
              "      <td>https://civicdb.org/links/molecular_profiles/261</td>\n",
              "      <td>False</td>\n",
              "    </tr>\n",
              "  </tbody>\n",
              "</table>\n",
              "<p>5 rows × 25 columns</p>\n",
              "</div>"
            ],
            "text/plain": [
              "                     molecular_profile  molecular_profile_id  \\\n",
              "64           BRAF V600E AND BRAF V600M                  4170   \n",
              "78             BRAF V600E AND NF1 Loss                  5379   \n",
              "80   BRAF V600E AND BRAF Amplification                  4173   \n",
              "216            FLT3 ITD AND FLT3 D835Y                  4616   \n",
              "518              TYMS 5' TANDEM REPEAT                   261   \n",
              "\n",
              "                    disease    doid phenotypes                therapies  \\\n",
              "64                 Melanoma  1909.0        NaN               Dabrafenib   \n",
              "78                 Melanoma  1909.0        NaN              Vemurafenib   \n",
              "80        Colorectal Cancer  9256.0        NaN              Selumetinib   \n",
              "216  Acute Myeloid Leukemia  9119.0        NaN                Sorafenib   \n",
              "518       Colorectal Cancer  9256.0        NaN  Irinotecan,Fluorouracil   \n",
              "\n",
              "    therapy_interaction_type evidence_type evidence_direction evidence_level  \\\n",
              "64                       NaN    Predictive           Supports              C   \n",
              "78                       NaN    Predictive           Supports              D   \n",
              "80                       NaN    Predictive           Supports              E   \n",
              "216                      NaN    Predictive           Supports              C   \n",
              "518              Combination    Predictive           Supports              B   \n",
              "\n",
              "     ...                        citation nct_ids rating evidence_status  \\\n",
              "64   ...              Ponti et al., 2012     NaN    1.0        accepted   \n",
              "78   ...             Nissan et al., 2014     NaN    3.0        accepted   \n",
              "80   ...           Corcoran et al., 2010     NaN    4.0        accepted   \n",
              "216  ...                Man et al., 2012     NaN    4.0        accepted   \n",
              "518  ...  Martinez-Balibrea et al., 2010     NaN    3.0        accepted   \n",
              "\n",
              "     evidence_id variant_origin         last_review_date  \\\n",
              "64            73        Somatic  2023-01-11 17:59:40 UTC   \n",
              "78            90        Somatic  2025-02-25 23:34:09 UTC   \n",
              "80            92        Somatic  2023-01-12 04:51:38 UTC   \n",
              "216          247        Somatic  2023-10-17 15:51:35 UTC   \n",
              "518          678  Rare Germline  2023-01-09 21:46:30 UTC   \n",
              "\n",
              "                               evidence_civic_url  \\\n",
              "64    https://civicdb.org/links/evidence_items/73   \n",
              "78    https://civicdb.org/links/evidence_items/90   \n",
              "80    https://civicdb.org/links/evidence_items/92   \n",
              "216  https://civicdb.org/links/evidence_items/247   \n",
              "518  https://civicdb.org/links/evidence_items/678   \n",
              "\n",
              "                           molecular_profile_civic_url  is_flagged  \n",
              "64   https://civicdb.org/links/molecular_profiles/4170       False  \n",
              "78   https://civicdb.org/links/molecular_profiles/5379       False  \n",
              "80   https://civicdb.org/links/molecular_profiles/4173       False  \n",
              "216  https://civicdb.org/links/molecular_profiles/4616       False  \n",
              "518   https://civicdb.org/links/molecular_profiles/261       False  \n",
              "\n",
              "[5 rows x 25 columns]"
            ]
          },
          "execution_count": 20,
          "metadata": {},
          "output_type": "execute_result"
        }
      ],
      "source": [
        "ssms_df[ssms_df['molecular_profile'].str.contains('AND')].head()"
      ]
    },
    {
      "cell_type": "markdown",
      "metadata": {},
      "source": [
        "### decompose molecular profile into:\n",
        "- gene\n",
        "- mutation\n",
        "- disease"
      ]
    },
    {
      "cell_type": "code",
      "execution_count": 21,
      "metadata": {},
      "outputs": [],
      "source": [
        "ssms_df_copy = ssms_df.copy()\n",
        "ssms_df_copy['gene'] = ssms_df_copy['molecular_profile'].str.split(' ').str[0]\n",
        "ssms_df_copy['mutation'] = ssms_df_copy['molecular_profile'].str.split(' ').str[1]"
      ]
    },
    {
      "cell_type": "code",
      "execution_count": 22,
      "metadata": {},
      "outputs": [
        {
          "data": {
            "text/plain": [
              "(1478, 27)"
            ]
          },
          "execution_count": 22,
          "metadata": {},
          "output_type": "execute_result"
        }
      ],
      "source": [
        "ssms_df_copy.shape"
      ]
    },
    {
      "cell_type": "code",
      "execution_count": 23,
      "metadata": {},
      "outputs": [
        {
          "data": {
            "text/html": [
              "<div>\n",
              "<style scoped>\n",
              "    .dataframe tbody tr th:only-of-type {\n",
              "        vertical-align: middle;\n",
              "    }\n",
              "\n",
              "    .dataframe tbody tr th {\n",
              "        vertical-align: top;\n",
              "    }\n",
              "\n",
              "    .dataframe thead th {\n",
              "        text-align: right;\n",
              "    }\n",
              "</style>\n",
              "<table border=\"1\" class=\"dataframe\">\n",
              "  <thead>\n",
              "    <tr style=\"text-align: right;\">\n",
              "      <th></th>\n",
              "      <th>molecular_profile</th>\n",
              "      <th>molecular_profile_id</th>\n",
              "      <th>disease</th>\n",
              "      <th>doid</th>\n",
              "      <th>phenotypes</th>\n",
              "      <th>therapies</th>\n",
              "      <th>therapy_interaction_type</th>\n",
              "      <th>evidence_type</th>\n",
              "      <th>evidence_direction</th>\n",
              "      <th>evidence_level</th>\n",
              "      <th>...</th>\n",
              "      <th>rating</th>\n",
              "      <th>evidence_status</th>\n",
              "      <th>evidence_id</th>\n",
              "      <th>variant_origin</th>\n",
              "      <th>last_review_date</th>\n",
              "      <th>evidence_civic_url</th>\n",
              "      <th>molecular_profile_civic_url</th>\n",
              "      <th>is_flagged</th>\n",
              "      <th>gene</th>\n",
              "      <th>mutation</th>\n",
              "    </tr>\n",
              "  </thead>\n",
              "  <tbody>\n",
              "    <tr>\n",
              "      <th>0</th>\n",
              "      <td>JAK2 V617F</td>\n",
              "      <td>64</td>\n",
              "      <td>Lymphoid Leukemia</td>\n",
              "      <td>1037.0</td>\n",
              "      <td>NaN</td>\n",
              "      <td>NaN</td>\n",
              "      <td>NaN</td>\n",
              "      <td>Diagnostic</td>\n",
              "      <td>Supports</td>\n",
              "      <td>B</td>\n",
              "      <td>...</td>\n",
              "      <td>4.0</td>\n",
              "      <td>accepted</td>\n",
              "      <td>1</td>\n",
              "      <td>Somatic</td>\n",
              "      <td>2023-01-09 21:46:26 UTC</td>\n",
              "      <td>https://civicdb.org/links/evidence_items/1</td>\n",
              "      <td>https://civicdb.org/links/molecular_profiles/64</td>\n",
              "      <td>False</td>\n",
              "      <td>JAK2</td>\n",
              "      <td>V617F</td>\n",
              "    </tr>\n",
              "    <tr>\n",
              "      <th>1</th>\n",
              "      <td>PDGFRA D842V</td>\n",
              "      <td>99</td>\n",
              "      <td>Gastrointestinal Stromal Tumor</td>\n",
              "      <td>9253.0</td>\n",
              "      <td>NaN</td>\n",
              "      <td>NaN</td>\n",
              "      <td>NaN</td>\n",
              "      <td>Diagnostic</td>\n",
              "      <td>Supports</td>\n",
              "      <td>B</td>\n",
              "      <td>...</td>\n",
              "      <td>3.0</td>\n",
              "      <td>accepted</td>\n",
              "      <td>2</td>\n",
              "      <td>Somatic</td>\n",
              "      <td>2023-01-09 21:46:27 UTC</td>\n",
              "      <td>https://civicdb.org/links/evidence_items/2</td>\n",
              "      <td>https://civicdb.org/links/molecular_profiles/99</td>\n",
              "      <td>False</td>\n",
              "      <td>PDGFRA</td>\n",
              "      <td>D842V</td>\n",
              "    </tr>\n",
              "    <tr>\n",
              "      <th>2</th>\n",
              "      <td>DNMT3A R882</td>\n",
              "      <td>32</td>\n",
              "      <td>Acute Myeloid Leukemia</td>\n",
              "      <td>9119.0</td>\n",
              "      <td>NaN</td>\n",
              "      <td>NaN</td>\n",
              "      <td>NaN</td>\n",
              "      <td>Diagnostic</td>\n",
              "      <td>Supports</td>\n",
              "      <td>B</td>\n",
              "      <td>...</td>\n",
              "      <td>2.0</td>\n",
              "      <td>accepted</td>\n",
              "      <td>3</td>\n",
              "      <td>Somatic</td>\n",
              "      <td>2023-01-09 21:46:25 UTC</td>\n",
              "      <td>https://civicdb.org/links/evidence_items/3</td>\n",
              "      <td>https://civicdb.org/links/molecular_profiles/32</td>\n",
              "      <td>False</td>\n",
              "      <td>DNMT3A</td>\n",
              "      <td>R882</td>\n",
              "    </tr>\n",
              "    <tr>\n",
              "      <th>7</th>\n",
              "      <td>KRAS G12</td>\n",
              "      <td>76</td>\n",
              "      <td>Acute Leukemia</td>\n",
              "      <td>12603.0</td>\n",
              "      <td>NaN</td>\n",
              "      <td>NaN</td>\n",
              "      <td>NaN</td>\n",
              "      <td>Diagnostic</td>\n",
              "      <td>Supports</td>\n",
              "      <td>B</td>\n",
              "      <td>...</td>\n",
              "      <td>3.0</td>\n",
              "      <td>accepted</td>\n",
              "      <td>8</td>\n",
              "      <td>Somatic</td>\n",
              "      <td>2023-01-09 21:46:26 UTC</td>\n",
              "      <td>https://civicdb.org/links/evidence_items/8</td>\n",
              "      <td>https://civicdb.org/links/molecular_profiles/76</td>\n",
              "      <td>False</td>\n",
              "      <td>KRAS</td>\n",
              "      <td>G12</td>\n",
              "    </tr>\n",
              "    <tr>\n",
              "      <th>8</th>\n",
              "      <td>NRAS Q61</td>\n",
              "      <td>94</td>\n",
              "      <td>Melanoma</td>\n",
              "      <td>1909.0</td>\n",
              "      <td>NaN</td>\n",
              "      <td>NaN</td>\n",
              "      <td>NaN</td>\n",
              "      <td>Diagnostic</td>\n",
              "      <td>Supports</td>\n",
              "      <td>B</td>\n",
              "      <td>...</td>\n",
              "      <td>3.0</td>\n",
              "      <td>accepted</td>\n",
              "      <td>10</td>\n",
              "      <td>Somatic</td>\n",
              "      <td>2023-01-09 21:46:27 UTC</td>\n",
              "      <td>https://civicdb.org/links/evidence_items/10</td>\n",
              "      <td>https://civicdb.org/links/molecular_profiles/94</td>\n",
              "      <td>False</td>\n",
              "      <td>NRAS</td>\n",
              "      <td>Q61</td>\n",
              "    </tr>\n",
              "  </tbody>\n",
              "</table>\n",
              "<p>5 rows × 27 columns</p>\n",
              "</div>"
            ],
            "text/plain": [
              "  molecular_profile  molecular_profile_id                         disease  \\\n",
              "0        JAK2 V617F                    64               Lymphoid Leukemia   \n",
              "1      PDGFRA D842V                    99  Gastrointestinal Stromal Tumor   \n",
              "2       DNMT3A R882                    32          Acute Myeloid Leukemia   \n",
              "7          KRAS G12                    76                  Acute Leukemia   \n",
              "8          NRAS Q61                    94                        Melanoma   \n",
              "\n",
              "      doid phenotypes therapies therapy_interaction_type evidence_type  \\\n",
              "0   1037.0        NaN       NaN                      NaN    Diagnostic   \n",
              "1   9253.0        NaN       NaN                      NaN    Diagnostic   \n",
              "2   9119.0        NaN       NaN                      NaN    Diagnostic   \n",
              "7  12603.0        NaN       NaN                      NaN    Diagnostic   \n",
              "8   1909.0        NaN       NaN                      NaN    Diagnostic   \n",
              "\n",
              "  evidence_direction evidence_level  ... rating evidence_status evidence_id  \\\n",
              "0           Supports              B  ...    4.0        accepted           1   \n",
              "1           Supports              B  ...    3.0        accepted           2   \n",
              "2           Supports              B  ...    2.0        accepted           3   \n",
              "7           Supports              B  ...    3.0        accepted           8   \n",
              "8           Supports              B  ...    3.0        accepted          10   \n",
              "\n",
              "  variant_origin         last_review_date  \\\n",
              "0        Somatic  2023-01-09 21:46:26 UTC   \n",
              "1        Somatic  2023-01-09 21:46:27 UTC   \n",
              "2        Somatic  2023-01-09 21:46:25 UTC   \n",
              "7        Somatic  2023-01-09 21:46:26 UTC   \n",
              "8        Somatic  2023-01-09 21:46:27 UTC   \n",
              "\n",
              "                            evidence_civic_url  \\\n",
              "0   https://civicdb.org/links/evidence_items/1   \n",
              "1   https://civicdb.org/links/evidence_items/2   \n",
              "2   https://civicdb.org/links/evidence_items/3   \n",
              "7   https://civicdb.org/links/evidence_items/8   \n",
              "8  https://civicdb.org/links/evidence_items/10   \n",
              "\n",
              "                       molecular_profile_civic_url  is_flagged    gene  \\\n",
              "0  https://civicdb.org/links/molecular_profiles/64       False    JAK2   \n",
              "1  https://civicdb.org/links/molecular_profiles/99       False  PDGFRA   \n",
              "2  https://civicdb.org/links/molecular_profiles/32       False  DNMT3A   \n",
              "7  https://civicdb.org/links/molecular_profiles/76       False    KRAS   \n",
              "8  https://civicdb.org/links/molecular_profiles/94       False    NRAS   \n",
              "\n",
              "   mutation  \n",
              "0     V617F  \n",
              "1     D842V  \n",
              "2      R882  \n",
              "7       G12  \n",
              "8       Q61  \n",
              "\n",
              "[5 rows x 27 columns]"
            ]
          },
          "execution_count": 23,
          "metadata": {},
          "output_type": "execute_result"
        }
      ],
      "source": [
        "ssms_df_copy.head()"
      ]
    },
    {
      "cell_type": "markdown",
      "metadata": {},
      "source": [
        "### check if a mutation is an ssm\n",
        "- add an `is_ssm` flag"
      ]
    },
    {
      "cell_type": "code",
      "execution_count": 24,
      "metadata": {},
      "outputs": [],
      "source": [
        "ssms_df_copy['is_ssm'] = ssms_df_copy['mutation'].str.contains('[A-Z]\\d+[A-Z]')"
      ]
    },
    {
      "cell_type": "code",
      "execution_count": 25,
      "metadata": {},
      "outputs": [
        {
          "data": {
            "text/plain": [
              "is_ssm\n",
              "False    771\n",
              "True     707\n",
              "Name: count, dtype: int64"
            ]
          },
          "execution_count": 25,
          "metadata": {},
          "output_type": "execute_result"
        }
      ],
      "source": [
        "ssms_df_copy['is_ssm'].value_counts()"
      ]
    },
    {
      "cell_type": "markdown",
      "metadata": {},
      "source": [
        "### V1 eval dataset test\n",
        "- test fully specified ssms"
      ]
    },
    {
      "cell_type": "code",
      "execution_count": 26,
      "metadata": {},
      "outputs": [
        {
          "data": {
            "text/plain": [
              "(707, 28)"
            ]
          },
          "execution_count": 26,
          "metadata": {},
          "output_type": "execute_result"
        }
      ],
      "source": [
        "ssms_df_copy[ssms_df_copy['is_ssm'] == True].shape"
      ]
    },
    {
      "cell_type": "code",
      "execution_count": 27,
      "metadata": {},
      "outputs": [],
      "source": [
        "ssms_df_copy[ssms_df_copy['is_ssm'] == True].to_csv('/opt/gpudata/aartiv/rag_rig/civic_full_ssms.csv')"
      ]
    },
    {
      "cell_type": "code",
      "execution_count": 28,
      "metadata": {},
      "outputs": [],
      "source": [
        "\n",
        "data_for_eval = pd.read_csv('/opt/gpudata/aartiv/rag_rig/civic_full_ssms.csv', sep=',', index_col=0)\n"
      ]
    },
    {
      "cell_type": "code",
      "execution_count": 29,
      "metadata": {},
      "outputs": [
        {
          "data": {
            "text/plain": [
              "(707, 28)"
            ]
          },
          "execution_count": 29,
          "metadata": {},
          "output_type": "execute_result"
        }
      ],
      "source": [
        "data_for_eval.shape"
      ]
    },
    {
      "cell_type": "code",
      "execution_count": 30,
      "metadata": {},
      "outputs": [
        {
          "data": {
            "text/html": [
              "<div>\n",
              "<style scoped>\n",
              "    .dataframe tbody tr th:only-of-type {\n",
              "        vertical-align: middle;\n",
              "    }\n",
              "\n",
              "    .dataframe tbody tr th {\n",
              "        vertical-align: top;\n",
              "    }\n",
              "\n",
              "    .dataframe thead th {\n",
              "        text-align: right;\n",
              "    }\n",
              "</style>\n",
              "<table border=\"1\" class=\"dataframe\">\n",
              "  <thead>\n",
              "    <tr style=\"text-align: right;\">\n",
              "      <th></th>\n",
              "      <th>molecular_profile</th>\n",
              "      <th>molecular_profile_id</th>\n",
              "      <th>disease</th>\n",
              "      <th>doid</th>\n",
              "      <th>phenotypes</th>\n",
              "      <th>therapies</th>\n",
              "      <th>therapy_interaction_type</th>\n",
              "      <th>evidence_type</th>\n",
              "      <th>evidence_direction</th>\n",
              "      <th>evidence_level</th>\n",
              "      <th>...</th>\n",
              "      <th>evidence_status</th>\n",
              "      <th>evidence_id</th>\n",
              "      <th>variant_origin</th>\n",
              "      <th>last_review_date</th>\n",
              "      <th>evidence_civic_url</th>\n",
              "      <th>molecular_profile_civic_url</th>\n",
              "      <th>is_flagged</th>\n",
              "      <th>gene</th>\n",
              "      <th>mutation</th>\n",
              "      <th>is_ssm</th>\n",
              "    </tr>\n",
              "  </thead>\n",
              "  <tbody>\n",
              "    <tr>\n",
              "      <th>0</th>\n",
              "      <td>JAK2 V617F</td>\n",
              "      <td>64</td>\n",
              "      <td>Lymphoid Leukemia</td>\n",
              "      <td>1037.0</td>\n",
              "      <td>NaN</td>\n",
              "      <td>NaN</td>\n",
              "      <td>NaN</td>\n",
              "      <td>Diagnostic</td>\n",
              "      <td>Supports</td>\n",
              "      <td>B</td>\n",
              "      <td>...</td>\n",
              "      <td>accepted</td>\n",
              "      <td>1</td>\n",
              "      <td>Somatic</td>\n",
              "      <td>2023-01-09 21:46:26 UTC</td>\n",
              "      <td>https://civicdb.org/links/evidence_items/1</td>\n",
              "      <td>https://civicdb.org/links/molecular_profiles/64</td>\n",
              "      <td>False</td>\n",
              "      <td>JAK2</td>\n",
              "      <td>V617F</td>\n",
              "      <td>True</td>\n",
              "    </tr>\n",
              "    <tr>\n",
              "      <th>1</th>\n",
              "      <td>PDGFRA D842V</td>\n",
              "      <td>99</td>\n",
              "      <td>Gastrointestinal Stromal Tumor</td>\n",
              "      <td>9253.0</td>\n",
              "      <td>NaN</td>\n",
              "      <td>NaN</td>\n",
              "      <td>NaN</td>\n",
              "      <td>Diagnostic</td>\n",
              "      <td>Supports</td>\n",
              "      <td>B</td>\n",
              "      <td>...</td>\n",
              "      <td>accepted</td>\n",
              "      <td>2</td>\n",
              "      <td>Somatic</td>\n",
              "      <td>2023-01-09 21:46:27 UTC</td>\n",
              "      <td>https://civicdb.org/links/evidence_items/2</td>\n",
              "      <td>https://civicdb.org/links/molecular_profiles/99</td>\n",
              "      <td>False</td>\n",
              "      <td>PDGFRA</td>\n",
              "      <td>D842V</td>\n",
              "      <td>True</td>\n",
              "    </tr>\n",
              "    <tr>\n",
              "      <th>10</th>\n",
              "      <td>MAP2K1 P124S</td>\n",
              "      <td>82</td>\n",
              "      <td>Melanoma</td>\n",
              "      <td>1909.0</td>\n",
              "      <td>NaN</td>\n",
              "      <td>Selumetinib</td>\n",
              "      <td>NaN</td>\n",
              "      <td>Predictive</td>\n",
              "      <td>Supports</td>\n",
              "      <td>D</td>\n",
              "      <td>...</td>\n",
              "      <td>accepted</td>\n",
              "      <td>12</td>\n",
              "      <td>Somatic</td>\n",
              "      <td>2023-01-09 21:46:27 UTC</td>\n",
              "      <td>https://civicdb.org/links/evidence_items/12</td>\n",
              "      <td>https://civicdb.org/links/molecular_profiles/82</td>\n",
              "      <td>False</td>\n",
              "      <td>MAP2K1</td>\n",
              "      <td>P124S</td>\n",
              "      <td>True</td>\n",
              "    </tr>\n",
              "    <tr>\n",
              "      <th>11</th>\n",
              "      <td>MAP2K1 Q56P</td>\n",
              "      <td>83</td>\n",
              "      <td>Melanoma</td>\n",
              "      <td>1909.0</td>\n",
              "      <td>NaN</td>\n",
              "      <td>Selumetinib</td>\n",
              "      <td>NaN</td>\n",
              "      <td>Predictive</td>\n",
              "      <td>Supports</td>\n",
              "      <td>D</td>\n",
              "      <td>...</td>\n",
              "      <td>accepted</td>\n",
              "      <td>13</td>\n",
              "      <td>Somatic</td>\n",
              "      <td>2023-01-09 21:46:27 UTC</td>\n",
              "      <td>https://civicdb.org/links/evidence_items/13</td>\n",
              "      <td>https://civicdb.org/links/molecular_profiles/83</td>\n",
              "      <td>False</td>\n",
              "      <td>MAP2K1</td>\n",
              "      <td>Q56P</td>\n",
              "      <td>True</td>\n",
              "    </tr>\n",
              "    <tr>\n",
              "      <th>15</th>\n",
              "      <td>ARAF S214C</td>\n",
              "      <td>10</td>\n",
              "      <td>Lung Non-small Cell Carcinoma</td>\n",
              "      <td>3908.0</td>\n",
              "      <td>NaN</td>\n",
              "      <td>Sorafenib</td>\n",
              "      <td>NaN</td>\n",
              "      <td>Predictive</td>\n",
              "      <td>Supports</td>\n",
              "      <td>C</td>\n",
              "      <td>...</td>\n",
              "      <td>accepted</td>\n",
              "      <td>17</td>\n",
              "      <td>Somatic</td>\n",
              "      <td>2023-01-09 21:46:24 UTC</td>\n",
              "      <td>https://civicdb.org/links/evidence_items/17</td>\n",
              "      <td>https://civicdb.org/links/molecular_profiles/10</td>\n",
              "      <td>False</td>\n",
              "      <td>ARAF</td>\n",
              "      <td>S214C</td>\n",
              "      <td>True</td>\n",
              "    </tr>\n",
              "    <tr>\n",
              "      <th>19</th>\n",
              "      <td>NRAS G13D</td>\n",
              "      <td>93</td>\n",
              "      <td>Melanoma</td>\n",
              "      <td>1909.0</td>\n",
              "      <td>NaN</td>\n",
              "      <td>Tanespimycin</td>\n",
              "      <td>NaN</td>\n",
              "      <td>Predictive</td>\n",
              "      <td>Supports</td>\n",
              "      <td>C</td>\n",
              "      <td>...</td>\n",
              "      <td>accepted</td>\n",
              "      <td>21</td>\n",
              "      <td>Somatic</td>\n",
              "      <td>2023-01-09 21:46:27 UTC</td>\n",
              "      <td>https://civicdb.org/links/evidence_items/21</td>\n",
              "      <td>https://civicdb.org/links/molecular_profiles/93</td>\n",
              "      <td>False</td>\n",
              "      <td>NRAS</td>\n",
              "      <td>G13D</td>\n",
              "      <td>True</td>\n",
              "    </tr>\n",
              "  </tbody>\n",
              "</table>\n",
              "<p>6 rows × 28 columns</p>\n",
              "</div>"
            ],
            "text/plain": [
              "   molecular_profile  molecular_profile_id                         disease  \\\n",
              "0         JAK2 V617F                    64               Lymphoid Leukemia   \n",
              "1       PDGFRA D842V                    99  Gastrointestinal Stromal Tumor   \n",
              "10      MAP2K1 P124S                    82                        Melanoma   \n",
              "11       MAP2K1 Q56P                    83                        Melanoma   \n",
              "15        ARAF S214C                    10   Lung Non-small Cell Carcinoma   \n",
              "19         NRAS G13D                    93                        Melanoma   \n",
              "\n",
              "      doid phenotypes     therapies therapy_interaction_type evidence_type  \\\n",
              "0   1037.0        NaN           NaN                      NaN    Diagnostic   \n",
              "1   9253.0        NaN           NaN                      NaN    Diagnostic   \n",
              "10  1909.0        NaN   Selumetinib                      NaN    Predictive   \n",
              "11  1909.0        NaN   Selumetinib                      NaN    Predictive   \n",
              "15  3908.0        NaN     Sorafenib                      NaN    Predictive   \n",
              "19  1909.0        NaN  Tanespimycin                      NaN    Predictive   \n",
              "\n",
              "   evidence_direction evidence_level  ... evidence_status evidence_id  \\\n",
              "0            Supports              B  ...        accepted           1   \n",
              "1            Supports              B  ...        accepted           2   \n",
              "10           Supports              D  ...        accepted          12   \n",
              "11           Supports              D  ...        accepted          13   \n",
              "15           Supports              C  ...        accepted          17   \n",
              "19           Supports              C  ...        accepted          21   \n",
              "\n",
              "   variant_origin         last_review_date  \\\n",
              "0         Somatic  2023-01-09 21:46:26 UTC   \n",
              "1         Somatic  2023-01-09 21:46:27 UTC   \n",
              "10        Somatic  2023-01-09 21:46:27 UTC   \n",
              "11        Somatic  2023-01-09 21:46:27 UTC   \n",
              "15        Somatic  2023-01-09 21:46:24 UTC   \n",
              "19        Somatic  2023-01-09 21:46:27 UTC   \n",
              "\n",
              "                             evidence_civic_url  \\\n",
              "0    https://civicdb.org/links/evidence_items/1   \n",
              "1    https://civicdb.org/links/evidence_items/2   \n",
              "10  https://civicdb.org/links/evidence_items/12   \n",
              "11  https://civicdb.org/links/evidence_items/13   \n",
              "15  https://civicdb.org/links/evidence_items/17   \n",
              "19  https://civicdb.org/links/evidence_items/21   \n",
              "\n",
              "                        molecular_profile_civic_url is_flagged    gene  \\\n",
              "0   https://civicdb.org/links/molecular_profiles/64      False    JAK2   \n",
              "1   https://civicdb.org/links/molecular_profiles/99      False  PDGFRA   \n",
              "10  https://civicdb.org/links/molecular_profiles/82      False  MAP2K1   \n",
              "11  https://civicdb.org/links/molecular_profiles/83      False  MAP2K1   \n",
              "15  https://civicdb.org/links/molecular_profiles/10      False    ARAF   \n",
              "19  https://civicdb.org/links/molecular_profiles/93      False    NRAS   \n",
              "\n",
              "   mutation  is_ssm  \n",
              "0     V617F    True  \n",
              "1     D842V    True  \n",
              "10    P124S    True  \n",
              "11     Q56P    True  \n",
              "15    S214C    True  \n",
              "19     G13D    True  \n",
              "\n",
              "[6 rows x 28 columns]"
            ]
          },
          "execution_count": 30,
          "metadata": {},
          "output_type": "execute_result"
        }
      ],
      "source": [
        "data_for_eval.head(n=6)"
      ]
    },
    {
      "cell_type": "code",
      "execution_count": 31,
      "metadata": {},
      "outputs": [],
      "source": [
        "data_exclude_fusions = data_for_eval[~data_for_eval.molecular_profile.str.contains('Fusion') &\n",
        "                                     ~data_for_eval.molecular_profile.str.contains(':') &\n",
        "                                     ~data_for_eval.molecular_profile.str.contains('/')\n",
        "                                     ]"
      ]
    },
    {
      "cell_type": "code",
      "execution_count": 32,
      "metadata": {},
      "outputs": [
        {
          "data": {
            "text/plain": [
              "(699, 28)"
            ]
          },
          "execution_count": 32,
          "metadata": {},
          "output_type": "execute_result"
        }
      ],
      "source": [
        "data_exclude_fusions.shape"
      ]
    },
    {
      "cell_type": "code",
      "execution_count": 33,
      "metadata": {},
      "outputs": [
        {
          "data": {
            "text/plain": [
              "109"
            ]
          },
          "execution_count": 33,
          "metadata": {},
          "output_type": "execute_result"
        }
      ],
      "source": [
        "len(data_exclude_fusions['gene'].unique())"
      ]
    },
    {
      "cell_type": "code",
      "execution_count": 34,
      "metadata": {},
      "outputs": [
        {
          "data": {
            "text/plain": [
              "Index(['molecular_profile', 'molecular_profile_id', 'disease', 'doid',\n",
              "       'phenotypes', 'therapies', 'therapy_interaction_type', 'evidence_type',\n",
              "       'evidence_direction', 'evidence_level', 'significance',\n",
              "       'evidence_statement', 'citation_id', 'source_type', 'asco_abstract_id',\n",
              "       'citation', 'nct_ids', 'rating', 'evidence_status', 'evidence_id',\n",
              "       'variant_origin', 'last_review_date', 'evidence_civic_url',\n",
              "       'molecular_profile_civic_url', 'is_flagged', 'gene', 'mutation',\n",
              "       'is_ssm'],\n",
              "      dtype='object')"
            ]
          },
          "execution_count": 34,
          "metadata": {},
          "output_type": "execute_result"
        }
      ],
      "source": [
        "data_exclude_fusions.columns"
      ]
    },
    {
      "cell_type": "code",
      "execution_count": 35,
      "metadata": {},
      "outputs": [],
      "source": [
        "new_mapping = {\n",
        "    'gene': 'gene_x',\n",
        "    'mutation': 'mutation_x'\n",
        "}\n",
        "new_colnames = [ new_mapping[col] if col in new_mapping  else col for col in data_exclude_fusions.columns ]"
      ]
    },
    {
      "cell_type": "code",
      "execution_count": 36,
      "metadata": {},
      "outputs": [
        {
          "data": {
            "text/plain": [
              "['molecular_profile_civic_url', 'is_flagged', 'gene_x', 'mutation_x']"
            ]
          },
          "execution_count": 36,
          "metadata": {},
          "output_type": "execute_result"
        }
      ],
      "source": [
        "new_colnames[-5:-1]"
      ]
    },
    {
      "cell_type": "code",
      "execution_count": 37,
      "metadata": {},
      "outputs": [],
      "source": [
        "data_exclude_fusions.columns = new_colnames"
      ]
    },
    {
      "cell_type": "markdown",
      "metadata": {},
      "source": [
        "# Define templates for question variety for llm evals"
      ]
    },
    {
      "cell_type": "code",
      "execution_count": 38,
      "metadata": {
        "id": "0O-gNtfw6Zj_"
      },
      "outputs": [],
      "source": [
        "# generate synthetic data for different types of questions\n",
        "# note these are for single mutations\n",
        "# for combination mutations, lets on hand-curated examples from civic and literature\n",
        "\n",
        "template_questions = [\n",
        "    'What percentage of cancers have simple somatic mutations and copy number variants in [gene_x] in the genomic data commons for [disease]?',\n",
        "    'How often is the [gene_x] [mutation_x] found in [disease] in the genomic data commons?',\n",
        "    'What is the occurrence rate of [gene_x] [mutation_x] in [disease] in the genomic data commons ?',\n",
        "    'What is the frequency of simple somatic mutations and copy number variants in [gene_x] in [disease] in the genomic data commons?',\n",
        "    'What is the incidence of simple somatic mutations and copy number variants in [gene_x] in the genomic data commons for [disease] ?',\n",
        "    'What is the frequency of [gene_x] [mutation_x] in [disease] in the genomic data commons?',\n",
        "    'How common are simple somatic mutations and copy number variants in [gene_x] in [disease] in the genomic data commons?',\n",
        "    'What fraction of cases have simple somatic mutations and copy number variants in [gene_x] in [disease] in the genomic data commons?',\n",
        "    'What is the rate of occurrence of [gene_x] [mutation_x] mutation in [disease] in the genomic data commons?',\n",
        "    'How frequently are [gene_x] [mutation_x] mutations detected in [disease] in the genomic data commons?',\n",
        "    'What proportion of cancer patients exhibit simple somatic mutations and copy number variants in [gene_x] in [disease] in the genomic data commons?',\n",
        "    'What is the frequency of somatic [gene_x] heterozygous deletion in [disease] in the genomic data commons?',\n",
        "    'What is the incidence of somatic [gene_x] homozygous deletion in [disease] in the genomic data commons?',\n",
        "    'Can you provide the frequency of [gene_x] gain in [disease] in the genomic data commons?',\n",
        "    'In [disease] data from the genomic data commons, what is the frequency of [gene_x] amplification?',\n",
        "    'What is the frequency of microsatellite instability in [disease] in the genomic data commons?',\n",
        "    'How common is microsatellite instability in [disease] cases in the genomic data commons?',\n",
        "    'Can you provide the prevalence of microsatellite instability in [disease] in the genomic data commons?',\n",
        "    'What percentage of [disease] patients have microsatellite instability in the genomic data commons?',\n",
        "    'How often is microsatellite instability observed in [disease] in the genomic data commons?',\n",
        "    'In [disease], what is the occurrence rate of microsatellite instability in the genomic data commons?',\n",
        "    'What is the incidence of microsatellite instability in [disease] in the genomic data commons?',\n",
        "]\n",
        "template_questions_without_mutations = [\n",
        "    query\n",
        "    for query in template_questions\n",
        "    if 'mutation_x' not in query\n",
        "]\n"
      ]
    },
    {
      "cell_type": "code",
      "execution_count": 39,
      "metadata": {},
      "outputs": [
        {
          "data": {
            "text/plain": [
              "22"
            ]
          },
          "execution_count": 39,
          "metadata": {},
          "output_type": "execute_result"
        }
      ],
      "source": [
        "len(template_questions)"
      ]
    },
    {
      "cell_type": "code",
      "execution_count": 40,
      "metadata": {},
      "outputs": [
        {
          "data": {
            "text/plain": [
              "17"
            ]
          },
          "execution_count": 40,
          "metadata": {},
          "output_type": "execute_result"
        }
      ],
      "source": [
        "len(template_questions_without_mutations)"
      ]
    },
    {
      "cell_type": "markdown",
      "metadata": {
        "id": "kvha0Xp8a7cV"
      },
      "source": [
        "**Synthetic question answer generation**"
      ]
    },
    {
      "cell_type": "markdown",
      "metadata": {
        "id": "RU50LbiHbRPg"
      },
      "source": [
        "**Dataset 1**"
      ]
    },
    {
      "cell_type": "markdown",
      "metadata": {
        "id": "KJ7z39vOa3XL"
      },
      "source": [
        "Generate a simpler and smaller df for first NER test\n",
        " - Remove = or * from mutation nomenclature\n",
        " - Remove gene/mutation duplicates\n"
      ]
    },
    {
      "cell_type": "code",
      "execution_count": 41,
      "metadata": {},
      "outputs": [],
      "source": [
        "dataset1 = data_exclude_fusions[['gene_x', 'mutation_x', 'disease', 'molecular_profile']]"
      ]
    },
    {
      "cell_type": "code",
      "execution_count": 42,
      "metadata": {},
      "outputs": [
        {
          "data": {
            "text/html": [
              "<div>\n",
              "<style scoped>\n",
              "    .dataframe tbody tr th:only-of-type {\n",
              "        vertical-align: middle;\n",
              "    }\n",
              "\n",
              "    .dataframe tbody tr th {\n",
              "        vertical-align: top;\n",
              "    }\n",
              "\n",
              "    .dataframe thead th {\n",
              "        text-align: right;\n",
              "    }\n",
              "</style>\n",
              "<table border=\"1\" class=\"dataframe\">\n",
              "  <thead>\n",
              "    <tr style=\"text-align: right;\">\n",
              "      <th></th>\n",
              "      <th>gene_x</th>\n",
              "      <th>mutation_x</th>\n",
              "      <th>disease</th>\n",
              "      <th>molecular_profile</th>\n",
              "    </tr>\n",
              "  </thead>\n",
              "  <tbody>\n",
              "    <tr>\n",
              "      <th>0</th>\n",
              "      <td>JAK2</td>\n",
              "      <td>V617F</td>\n",
              "      <td>Lymphoid Leukemia</td>\n",
              "      <td>JAK2 V617F</td>\n",
              "    </tr>\n",
              "    <tr>\n",
              "      <th>1</th>\n",
              "      <td>PDGFRA</td>\n",
              "      <td>D842V</td>\n",
              "      <td>Gastrointestinal Stromal Tumor</td>\n",
              "      <td>PDGFRA D842V</td>\n",
              "    </tr>\n",
              "    <tr>\n",
              "      <th>10</th>\n",
              "      <td>MAP2K1</td>\n",
              "      <td>P124S</td>\n",
              "      <td>Melanoma</td>\n",
              "      <td>MAP2K1 P124S</td>\n",
              "    </tr>\n",
              "    <tr>\n",
              "      <th>11</th>\n",
              "      <td>MAP2K1</td>\n",
              "      <td>Q56P</td>\n",
              "      <td>Melanoma</td>\n",
              "      <td>MAP2K1 Q56P</td>\n",
              "    </tr>\n",
              "    <tr>\n",
              "      <th>15</th>\n",
              "      <td>ARAF</td>\n",
              "      <td>S214C</td>\n",
              "      <td>Lung Non-small Cell Carcinoma</td>\n",
              "      <td>ARAF S214C</td>\n",
              "    </tr>\n",
              "    <tr>\n",
              "      <th>19</th>\n",
              "      <td>NRAS</td>\n",
              "      <td>G13D</td>\n",
              "      <td>Melanoma</td>\n",
              "      <td>NRAS G13D</td>\n",
              "    </tr>\n",
              "  </tbody>\n",
              "</table>\n",
              "</div>"
            ],
            "text/plain": [
              "    gene_x mutation_x                         disease molecular_profile\n",
              "0     JAK2      V617F               Lymphoid Leukemia        JAK2 V617F\n",
              "1   PDGFRA      D842V  Gastrointestinal Stromal Tumor      PDGFRA D842V\n",
              "10  MAP2K1      P124S                        Melanoma      MAP2K1 P124S\n",
              "11  MAP2K1       Q56P                        Melanoma       MAP2K1 Q56P\n",
              "15    ARAF      S214C   Lung Non-small Cell Carcinoma        ARAF S214C\n",
              "19    NRAS       G13D                        Melanoma         NRAS G13D"
            ]
          },
          "execution_count": 42,
          "metadata": {},
          "output_type": "execute_result"
        }
      ],
      "source": [
        "dataset1.head(n=6)"
      ]
    },
    {
      "cell_type": "code",
      "execution_count": 43,
      "metadata": {},
      "outputs": [
        {
          "data": {
            "text/plain": [
              "(699, 4)"
            ]
          },
          "execution_count": 43,
          "metadata": {},
          "output_type": "execute_result"
        }
      ],
      "source": [
        "dataset1.shape"
      ]
    },
    {
      "cell_type": "code",
      "execution_count": 44,
      "metadata": {},
      "outputs": [],
      "source": [
        "dataset1.to_csv('../csvs/civic_evidence_data.csv')"
      ]
    },
    {
      "cell_type": "code",
      "execution_count": 45,
      "metadata": {},
      "outputs": [],
      "source": [
        "def generate_q(row):\n",
        "  # generate question\n",
        "  mutation_x = row['mutation_x']\n",
        "  gene_x = row['gene_x']\n",
        "  disease = row['disease']\n",
        "  \n",
        "  if not isinstance(disease, str):\n",
        "    # fix a generic term if disease not defined\n",
        "    disease = 'cancer'\n",
        "\n",
        "  # randomly choose 5 questions from list\n",
        "  question_list = np.random.choice(template_questions, size = 5, replace=False)\n",
        "  mod_question_list = []\n",
        "  for question in question_list:\n",
        "    try:\n",
        "      question = question.replace(\"[mutation_x]\", mutation_x).replace(\"[gene_x]\", gene_x).replace(\"[disease]\", disease)\n",
        "      mod_question_list.append(question)\n",
        "    except Exception as e:\n",
        "      # retry with generic cancer disease\n",
        "      print('unable to generate question')\n",
        "\n",
        "  return mod_question_list\n",
        "\n"
      ]
    },
    {
      "cell_type": "code",
      "execution_count": 46,
      "metadata": {},
      "outputs": [],
      "source": [
        "dataset1_copy = dataset1.copy()\n",
        "dataset1_copy['questions'] = dataset1_copy.apply(lambda row: generate_q(row),axis=1)"
      ]
    },
    {
      "cell_type": "code",
      "execution_count": 47,
      "metadata": {},
      "outputs": [],
      "source": [
        "dataset1_exploded = dataset1_copy.explode('questions', ignore_index=True)"
      ]
    },
    {
      "cell_type": "code",
      "execution_count": 48,
      "metadata": {},
      "outputs": [
        {
          "data": {
            "text/plain": [
              "(3495, 5)"
            ]
          },
          "execution_count": 48,
          "metadata": {},
          "output_type": "execute_result"
        }
      ],
      "source": [
        "dataset1_exploded.shape"
      ]
    },
    {
      "cell_type": "code",
      "execution_count": 49,
      "metadata": {},
      "outputs": [
        {
          "data": {
            "text/plain": [
              "1822"
            ]
          },
          "execution_count": 49,
          "metadata": {},
          "output_type": "execute_result"
        }
      ],
      "source": [
        "# remove duplicates, retain only unique questions\n",
        "dataset1_exploded['questions'].nunique()\n"
      ]
    },
    {
      "cell_type": "code",
      "execution_count": 50,
      "metadata": {},
      "outputs": [
        {
          "data": {
            "text/html": [
              "<div>\n",
              "<style scoped>\n",
              "    .dataframe tbody tr th:only-of-type {\n",
              "        vertical-align: middle;\n",
              "    }\n",
              "\n",
              "    .dataframe tbody tr th {\n",
              "        vertical-align: top;\n",
              "    }\n",
              "\n",
              "    .dataframe thead th {\n",
              "        text-align: right;\n",
              "    }\n",
              "</style>\n",
              "<table border=\"1\" class=\"dataframe\">\n",
              "  <thead>\n",
              "    <tr style=\"text-align: right;\">\n",
              "      <th></th>\n",
              "      <th>gene_x</th>\n",
              "      <th>mutation_x</th>\n",
              "      <th>disease</th>\n",
              "      <th>molecular_profile</th>\n",
              "      <th>questions</th>\n",
              "    </tr>\n",
              "  </thead>\n",
              "  <tbody>\n",
              "    <tr>\n",
              "      <th>0</th>\n",
              "      <td>JAK2</td>\n",
              "      <td>V617F</td>\n",
              "      <td>Lymphoid Leukemia</td>\n",
              "      <td>JAK2 V617F</td>\n",
              "      <td>What is the incidence of microsatellite instab...</td>\n",
              "    </tr>\n",
              "    <tr>\n",
              "      <th>1</th>\n",
              "      <td>JAK2</td>\n",
              "      <td>V617F</td>\n",
              "      <td>Lymphoid Leukemia</td>\n",
              "      <td>JAK2 V617F</td>\n",
              "      <td>What is the frequency of somatic JAK2 heterozy...</td>\n",
              "    </tr>\n",
              "    <tr>\n",
              "      <th>2</th>\n",
              "      <td>JAK2</td>\n",
              "      <td>V617F</td>\n",
              "      <td>Lymphoid Leukemia</td>\n",
              "      <td>JAK2 V617F</td>\n",
              "      <td>What proportion of cancer patients exhibit sim...</td>\n",
              "    </tr>\n",
              "    <tr>\n",
              "      <th>3</th>\n",
              "      <td>JAK2</td>\n",
              "      <td>V617F</td>\n",
              "      <td>Lymphoid Leukemia</td>\n",
              "      <td>JAK2 V617F</td>\n",
              "      <td>How frequently are JAK2 V617F mutations detect...</td>\n",
              "    </tr>\n",
              "    <tr>\n",
              "      <th>4</th>\n",
              "      <td>JAK2</td>\n",
              "      <td>V617F</td>\n",
              "      <td>Lymphoid Leukemia</td>\n",
              "      <td>JAK2 V617F</td>\n",
              "      <td>What is the frequency of microsatellite instab...</td>\n",
              "    </tr>\n",
              "  </tbody>\n",
              "</table>\n",
              "</div>"
            ],
            "text/plain": [
              "  gene_x mutation_x            disease molecular_profile  \\\n",
              "0   JAK2      V617F  Lymphoid Leukemia        JAK2 V617F   \n",
              "1   JAK2      V617F  Lymphoid Leukemia        JAK2 V617F   \n",
              "2   JAK2      V617F  Lymphoid Leukemia        JAK2 V617F   \n",
              "3   JAK2      V617F  Lymphoid Leukemia        JAK2 V617F   \n",
              "4   JAK2      V617F  Lymphoid Leukemia        JAK2 V617F   \n",
              "\n",
              "                                           questions  \n",
              "0  What is the incidence of microsatellite instab...  \n",
              "1  What is the frequency of somatic JAK2 heterozy...  \n",
              "2  What proportion of cancer patients exhibit sim...  \n",
              "3  How frequently are JAK2 V617F mutations detect...  \n",
              "4  What is the frequency of microsatellite instab...  "
            ]
          },
          "execution_count": 50,
          "metadata": {},
          "output_type": "execute_result"
        }
      ],
      "source": [
        "dataset1_exploded.head()"
      ]
    },
    {
      "cell_type": "code",
      "execution_count": 52,
      "metadata": {},
      "outputs": [],
      "source": [
        "dataset1_exploded_unique = dataset1_exploded.drop_duplicates(subset=['questions'])"
      ]
    },
    {
      "cell_type": "code",
      "execution_count": 53,
      "metadata": {},
      "outputs": [
        {
          "data": {
            "text/plain": [
              "(1822, 5)"
            ]
          },
          "execution_count": 53,
          "metadata": {},
          "output_type": "execute_result"
        }
      ],
      "source": [
        "dataset1_exploded_unique.shape"
      ]
    },
    {
      "cell_type": "code",
      "execution_count": 54,
      "metadata": {},
      "outputs": [],
      "source": [
        "dataset1_exploded_unique.to_csv('../csvs/dataset1.simple_eval.csv')"
      ]
    },
    {
      "cell_type": "markdown",
      "metadata": {},
      "source": [
        "### for combination mutations:\n",
        "- Use full TSV from civic evidence\n",
        "- filter for \"AND\"\n",
        "- exclude fusions"
      ]
    },
    {
      "cell_type": "code",
      "execution_count": 55,
      "metadata": {},
      "outputs": [],
      "source": [
        "combination_mutation_data = ssms_df_copy[(ssms_df_copy.molecular_profile.str.contains('AND')) & \\\n",
        "                                                (ssms_df_copy.molecular_profile.str.contains('Fusion') == False)\n",
        "                                                ]"
      ]
    },
    {
      "cell_type": "code",
      "execution_count": 56,
      "metadata": {},
      "outputs": [
        {
          "data": {
            "text/plain": [
              "(14, 28)"
            ]
          },
          "execution_count": 56,
          "metadata": {},
          "output_type": "execute_result"
        }
      ],
      "source": [
        "combination_mutation_data.shape"
      ]
    },
    {
      "cell_type": "code",
      "execution_count": 57,
      "metadata": {},
      "outputs": [
        {
          "data": {
            "text/html": [
              "<div>\n",
              "<style scoped>\n",
              "    .dataframe tbody tr th:only-of-type {\n",
              "        vertical-align: middle;\n",
              "    }\n",
              "\n",
              "    .dataframe tbody tr th {\n",
              "        vertical-align: top;\n",
              "    }\n",
              "\n",
              "    .dataframe thead th {\n",
              "        text-align: right;\n",
              "    }\n",
              "</style>\n",
              "<table border=\"1\" class=\"dataframe\">\n",
              "  <thead>\n",
              "    <tr style=\"text-align: right;\">\n",
              "      <th></th>\n",
              "      <th>molecular_profile</th>\n",
              "      <th>molecular_profile_id</th>\n",
              "      <th>disease</th>\n",
              "      <th>doid</th>\n",
              "      <th>phenotypes</th>\n",
              "      <th>therapies</th>\n",
              "      <th>therapy_interaction_type</th>\n",
              "      <th>evidence_type</th>\n",
              "      <th>evidence_direction</th>\n",
              "      <th>evidence_level</th>\n",
              "      <th>...</th>\n",
              "      <th>evidence_status</th>\n",
              "      <th>evidence_id</th>\n",
              "      <th>variant_origin</th>\n",
              "      <th>last_review_date</th>\n",
              "      <th>evidence_civic_url</th>\n",
              "      <th>molecular_profile_civic_url</th>\n",
              "      <th>is_flagged</th>\n",
              "      <th>gene</th>\n",
              "      <th>mutation</th>\n",
              "      <th>is_ssm</th>\n",
              "    </tr>\n",
              "  </thead>\n",
              "  <tbody>\n",
              "    <tr>\n",
              "      <th>64</th>\n",
              "      <td>BRAF V600E AND BRAF V600M</td>\n",
              "      <td>4170</td>\n",
              "      <td>Melanoma</td>\n",
              "      <td>1909.0</td>\n",
              "      <td>NaN</td>\n",
              "      <td>Dabrafenib</td>\n",
              "      <td>NaN</td>\n",
              "      <td>Predictive</td>\n",
              "      <td>Supports</td>\n",
              "      <td>C</td>\n",
              "      <td>...</td>\n",
              "      <td>accepted</td>\n",
              "      <td>73</td>\n",
              "      <td>Somatic</td>\n",
              "      <td>2023-01-11 17:59:40 UTC</td>\n",
              "      <td>https://civicdb.org/links/evidence_items/73</td>\n",
              "      <td>https://civicdb.org/links/molecular_profiles/4170</td>\n",
              "      <td>False</td>\n",
              "      <td>BRAF</td>\n",
              "      <td>V600E</td>\n",
              "      <td>True</td>\n",
              "    </tr>\n",
              "    <tr>\n",
              "      <th>78</th>\n",
              "      <td>BRAF V600E AND NF1 Loss</td>\n",
              "      <td>5379</td>\n",
              "      <td>Melanoma</td>\n",
              "      <td>1909.0</td>\n",
              "      <td>NaN</td>\n",
              "      <td>Vemurafenib</td>\n",
              "      <td>NaN</td>\n",
              "      <td>Predictive</td>\n",
              "      <td>Supports</td>\n",
              "      <td>D</td>\n",
              "      <td>...</td>\n",
              "      <td>accepted</td>\n",
              "      <td>90</td>\n",
              "      <td>Somatic</td>\n",
              "      <td>2025-02-25 23:34:09 UTC</td>\n",
              "      <td>https://civicdb.org/links/evidence_items/90</td>\n",
              "      <td>https://civicdb.org/links/molecular_profiles/5379</td>\n",
              "      <td>False</td>\n",
              "      <td>BRAF</td>\n",
              "      <td>V600E</td>\n",
              "      <td>True</td>\n",
              "    </tr>\n",
              "    <tr>\n",
              "      <th>80</th>\n",
              "      <td>BRAF V600E AND BRAF Amplification</td>\n",
              "      <td>4173</td>\n",
              "      <td>Colorectal Cancer</td>\n",
              "      <td>9256.0</td>\n",
              "      <td>NaN</td>\n",
              "      <td>Selumetinib</td>\n",
              "      <td>NaN</td>\n",
              "      <td>Predictive</td>\n",
              "      <td>Supports</td>\n",
              "      <td>E</td>\n",
              "      <td>...</td>\n",
              "      <td>accepted</td>\n",
              "      <td>92</td>\n",
              "      <td>Somatic</td>\n",
              "      <td>2023-01-12 04:51:38 UTC</td>\n",
              "      <td>https://civicdb.org/links/evidence_items/92</td>\n",
              "      <td>https://civicdb.org/links/molecular_profiles/4173</td>\n",
              "      <td>False</td>\n",
              "      <td>BRAF</td>\n",
              "      <td>V600E</td>\n",
              "      <td>True</td>\n",
              "    </tr>\n",
              "    <tr>\n",
              "      <th>216</th>\n",
              "      <td>FLT3 ITD AND FLT3 D835Y</td>\n",
              "      <td>4616</td>\n",
              "      <td>Acute Myeloid Leukemia</td>\n",
              "      <td>9119.0</td>\n",
              "      <td>NaN</td>\n",
              "      <td>Sorafenib</td>\n",
              "      <td>NaN</td>\n",
              "      <td>Predictive</td>\n",
              "      <td>Supports</td>\n",
              "      <td>C</td>\n",
              "      <td>...</td>\n",
              "      <td>accepted</td>\n",
              "      <td>247</td>\n",
              "      <td>Somatic</td>\n",
              "      <td>2023-10-17 15:51:35 UTC</td>\n",
              "      <td>https://civicdb.org/links/evidence_items/247</td>\n",
              "      <td>https://civicdb.org/links/molecular_profiles/4616</td>\n",
              "      <td>False</td>\n",
              "      <td>FLT3</td>\n",
              "      <td>ITD</td>\n",
              "      <td>False</td>\n",
              "    </tr>\n",
              "    <tr>\n",
              "      <th>518</th>\n",
              "      <td>TYMS 5' TANDEM REPEAT</td>\n",
              "      <td>261</td>\n",
              "      <td>Colorectal Cancer</td>\n",
              "      <td>9256.0</td>\n",
              "      <td>NaN</td>\n",
              "      <td>Irinotecan,Fluorouracil</td>\n",
              "      <td>Combination</td>\n",
              "      <td>Predictive</td>\n",
              "      <td>Supports</td>\n",
              "      <td>B</td>\n",
              "      <td>...</td>\n",
              "      <td>accepted</td>\n",
              "      <td>678</td>\n",
              "      <td>Rare Germline</td>\n",
              "      <td>2023-01-09 21:46:30 UTC</td>\n",
              "      <td>https://civicdb.org/links/evidence_items/678</td>\n",
              "      <td>https://civicdb.org/links/molecular_profiles/261</td>\n",
              "      <td>False</td>\n",
              "      <td>TYMS</td>\n",
              "      <td>5'</td>\n",
              "      <td>False</td>\n",
              "    </tr>\n",
              "    <tr>\n",
              "      <th>610</th>\n",
              "      <td>EGFR Amplification AND EGFR EGFRVIII</td>\n",
              "      <td>4245</td>\n",
              "      <td>Glioblastoma</td>\n",
              "      <td>3068.0</td>\n",
              "      <td>NaN</td>\n",
              "      <td>Afatinib</td>\n",
              "      <td>NaN</td>\n",
              "      <td>Predictive</td>\n",
              "      <td>Supports</td>\n",
              "      <td>C</td>\n",
              "      <td>...</td>\n",
              "      <td>accepted</td>\n",
              "      <td>773</td>\n",
              "      <td>Somatic</td>\n",
              "      <td>2023-08-25 16:47:08 UTC</td>\n",
              "      <td>https://civicdb.org/links/evidence_items/773</td>\n",
              "      <td>https://civicdb.org/links/molecular_profiles/4245</td>\n",
              "      <td>False</td>\n",
              "      <td>EGFR</td>\n",
              "      <td>Amplification</td>\n",
              "      <td>False</td>\n",
              "    </tr>\n",
              "    <tr>\n",
              "      <th>921</th>\n",
              "      <td>MET Amplification AND MET Splice Site (c.3028G&gt;A)</td>\n",
              "      <td>4366</td>\n",
              "      <td>Lung Non-small Cell Carcinoma</td>\n",
              "      <td>3908.0</td>\n",
              "      <td>NaN</td>\n",
              "      <td>Crizotinib</td>\n",
              "      <td>NaN</td>\n",
              "      <td>Predictive</td>\n",
              "      <td>Supports</td>\n",
              "      <td>C</td>\n",
              "      <td>...</td>\n",
              "      <td>accepted</td>\n",
              "      <td>1095</td>\n",
              "      <td>Somatic</td>\n",
              "      <td>2023-03-27 21:58:17 UTC</td>\n",
              "      <td>https://civicdb.org/links/evidence_items/1095</td>\n",
              "      <td>https://civicdb.org/links/molecular_profiles/4366</td>\n",
              "      <td>False</td>\n",
              "      <td>MET</td>\n",
              "      <td>Amplification</td>\n",
              "      <td>False</td>\n",
              "    </tr>\n",
              "    <tr>\n",
              "      <th>1254</th>\n",
              "      <td>MTOR E2014K AND MTOR E2419K</td>\n",
              "      <td>4368</td>\n",
              "      <td>Transitional Cell Carcinoma</td>\n",
              "      <td>2671.0</td>\n",
              "      <td>NaN</td>\n",
              "      <td>Pazopanib,Everolimus</td>\n",
              "      <td>Combination</td>\n",
              "      <td>Predictive</td>\n",
              "      <td>Supports</td>\n",
              "      <td>C</td>\n",
              "      <td>...</td>\n",
              "      <td>accepted</td>\n",
              "      <td>1438</td>\n",
              "      <td>Somatic</td>\n",
              "      <td>2023-03-27 22:28:49 UTC</td>\n",
              "      <td>https://civicdb.org/links/evidence_items/1438</td>\n",
              "      <td>https://civicdb.org/links/molecular_profiles/4368</td>\n",
              "      <td>False</td>\n",
              "      <td>MTOR</td>\n",
              "      <td>E2014K</td>\n",
              "      <td>True</td>\n",
              "    </tr>\n",
              "    <tr>\n",
              "      <th>2734</th>\n",
              "      <td>PIK3CA Exon 21 Mutation AND PIK3CA Exon 10 Mut...</td>\n",
              "      <td>5317</td>\n",
              "      <td>Colorectal Cancer</td>\n",
              "      <td>9256.0</td>\n",
              "      <td>NaN</td>\n",
              "      <td>NaN</td>\n",
              "      <td>NaN</td>\n",
              "      <td>Prognostic</td>\n",
              "      <td>Supports</td>\n",
              "      <td>B</td>\n",
              "      <td>...</td>\n",
              "      <td>accepted</td>\n",
              "      <td>5350</td>\n",
              "      <td>Somatic</td>\n",
              "      <td>2024-12-05 21:39:24 UTC</td>\n",
              "      <td>https://civicdb.org/links/evidence_items/5350</td>\n",
              "      <td>https://civicdb.org/links/molecular_profiles/5317</td>\n",
              "      <td>False</td>\n",
              "      <td>PIK3CA</td>\n",
              "      <td>Exon</td>\n",
              "      <td>False</td>\n",
              "    </tr>\n",
              "    <tr>\n",
              "      <th>3160</th>\n",
              "      <td>BRAF Amplification AND ( BRAF V600E OR BRAF V6...</td>\n",
              "      <td>4174</td>\n",
              "      <td>Melanoma</td>\n",
              "      <td>1909.0</td>\n",
              "      <td>NaN</td>\n",
              "      <td>Vemurafenib,Dabrafenib</td>\n",
              "      <td>Substitutes</td>\n",
              "      <td>Predictive</td>\n",
              "      <td>Supports</td>\n",
              "      <td>B</td>\n",
              "      <td>...</td>\n",
              "      <td>accepted</td>\n",
              "      <td>6262</td>\n",
              "      <td>Somatic</td>\n",
              "      <td>2023-01-12 04:52:45 UTC</td>\n",
              "      <td>https://civicdb.org/links/evidence_items/6262</td>\n",
              "      <td>https://civicdb.org/links/molecular_profiles/4174</td>\n",
              "      <td>False</td>\n",
              "      <td>BRAF</td>\n",
              "      <td>Amplification</td>\n",
              "      <td>False</td>\n",
              "    </tr>\n",
              "    <tr>\n",
              "      <th>3353</th>\n",
              "      <td>BRAF V600E AND EZH2 Y646F</td>\n",
              "      <td>4241</td>\n",
              "      <td>Skin Melanoma</td>\n",
              "      <td>8923.0</td>\n",
              "      <td>NaN</td>\n",
              "      <td>JQEZ5</td>\n",
              "      <td>NaN</td>\n",
              "      <td>Predictive</td>\n",
              "      <td>Supports</td>\n",
              "      <td>D</td>\n",
              "      <td>...</td>\n",
              "      <td>accepted</td>\n",
              "      <td>6952</td>\n",
              "      <td>Somatic</td>\n",
              "      <td>2023-10-06 21:25:19 UTC</td>\n",
              "      <td>https://civicdb.org/links/evidence_items/6952</td>\n",
              "      <td>https://civicdb.org/links/molecular_profiles/4241</td>\n",
              "      <td>False</td>\n",
              "      <td>BRAF</td>\n",
              "      <td>V600E</td>\n",
              "      <td>True</td>\n",
              "    </tr>\n",
              "    <tr>\n",
              "      <th>3591</th>\n",
              "      <td>BRAF V600 AND BRAF Amplification</td>\n",
              "      <td>5411</td>\n",
              "      <td>Melanoma</td>\n",
              "      <td>1909.0</td>\n",
              "      <td>NaN</td>\n",
              "      <td>Trametinib,Dabrafenib</td>\n",
              "      <td>Combination</td>\n",
              "      <td>Predictive</td>\n",
              "      <td>Supports</td>\n",
              "      <td>C</td>\n",
              "      <td>...</td>\n",
              "      <td>accepted</td>\n",
              "      <td>7677</td>\n",
              "      <td>Somatic</td>\n",
              "      <td>2025-03-18 00:41:22 UTC</td>\n",
              "      <td>https://civicdb.org/links/evidence_items/7677</td>\n",
              "      <td>https://civicdb.org/links/molecular_profiles/5411</td>\n",
              "      <td>False</td>\n",
              "      <td>BRAF</td>\n",
              "      <td>V600</td>\n",
              "      <td>False</td>\n",
              "    </tr>\n",
              "    <tr>\n",
              "      <th>3981</th>\n",
              "      <td>NTRK1 G595R AND NTRK1 G667S</td>\n",
              "      <td>4177</td>\n",
              "      <td>Lung Non-small Cell Carcinoma</td>\n",
              "      <td>3908.0</td>\n",
              "      <td>NaN</td>\n",
              "      <td>Larotrectinib</td>\n",
              "      <td>NaN</td>\n",
              "      <td>Predictive</td>\n",
              "      <td>Supports</td>\n",
              "      <td>C</td>\n",
              "      <td>...</td>\n",
              "      <td>accepted</td>\n",
              "      <td>9593</td>\n",
              "      <td>Somatic</td>\n",
              "      <td>2023-09-22 16:22:53 UTC</td>\n",
              "      <td>https://civicdb.org/links/evidence_items/9593</td>\n",
              "      <td>https://civicdb.org/links/molecular_profiles/4177</td>\n",
              "      <td>False</td>\n",
              "      <td>NTRK1</td>\n",
              "      <td>G595R</td>\n",
              "      <td>True</td>\n",
              "    </tr>\n",
              "    <tr>\n",
              "      <th>4324</th>\n",
              "      <td>RB1 Wildtype AND ( CDKN2A Loss OR CDKN2A Mutat...</td>\n",
              "      <td>4750</td>\n",
              "      <td>Lung Non-small Cell Carcinoma</td>\n",
              "      <td>3908.0</td>\n",
              "      <td>NaN</td>\n",
              "      <td>Palbociclib</td>\n",
              "      <td>NaN</td>\n",
              "      <td>Predictive</td>\n",
              "      <td>Supports</td>\n",
              "      <td>B</td>\n",
              "      <td>...</td>\n",
              "      <td>accepted</td>\n",
              "      <td>11665</td>\n",
              "      <td>Somatic</td>\n",
              "      <td>2024-02-02 01:23:42 UTC</td>\n",
              "      <td>https://civicdb.org/links/evidence_items/11665</td>\n",
              "      <td>https://civicdb.org/links/molecular_profiles/4750</td>\n",
              "      <td>False</td>\n",
              "      <td>RB1</td>\n",
              "      <td>Wildtype</td>\n",
              "      <td>False</td>\n",
              "    </tr>\n",
              "  </tbody>\n",
              "</table>\n",
              "<p>14 rows × 28 columns</p>\n",
              "</div>"
            ],
            "text/plain": [
              "                                      molecular_profile  molecular_profile_id  \\\n",
              "64                            BRAF V600E AND BRAF V600M                  4170   \n",
              "78                              BRAF V600E AND NF1 Loss                  5379   \n",
              "80                    BRAF V600E AND BRAF Amplification                  4173   \n",
              "216                             FLT3 ITD AND FLT3 D835Y                  4616   \n",
              "518                               TYMS 5' TANDEM REPEAT                   261   \n",
              "610                EGFR Amplification AND EGFR EGFRVIII                  4245   \n",
              "921   MET Amplification AND MET Splice Site (c.3028G>A)                  4366   \n",
              "1254                        MTOR E2014K AND MTOR E2419K                  4368   \n",
              "2734  PIK3CA Exon 21 Mutation AND PIK3CA Exon 10 Mut...                  5317   \n",
              "3160  BRAF Amplification AND ( BRAF V600E OR BRAF V6...                  4174   \n",
              "3353                          BRAF V600E AND EZH2 Y646F                  4241   \n",
              "3591                   BRAF V600 AND BRAF Amplification                  5411   \n",
              "3981                        NTRK1 G595R AND NTRK1 G667S                  4177   \n",
              "4324  RB1 Wildtype AND ( CDKN2A Loss OR CDKN2A Mutat...                  4750   \n",
              "\n",
              "                            disease    doid phenotypes  \\\n",
              "64                         Melanoma  1909.0        NaN   \n",
              "78                         Melanoma  1909.0        NaN   \n",
              "80                Colorectal Cancer  9256.0        NaN   \n",
              "216          Acute Myeloid Leukemia  9119.0        NaN   \n",
              "518               Colorectal Cancer  9256.0        NaN   \n",
              "610                    Glioblastoma  3068.0        NaN   \n",
              "921   Lung Non-small Cell Carcinoma  3908.0        NaN   \n",
              "1254    Transitional Cell Carcinoma  2671.0        NaN   \n",
              "2734              Colorectal Cancer  9256.0        NaN   \n",
              "3160                       Melanoma  1909.0        NaN   \n",
              "3353                  Skin Melanoma  8923.0        NaN   \n",
              "3591                       Melanoma  1909.0        NaN   \n",
              "3981  Lung Non-small Cell Carcinoma  3908.0        NaN   \n",
              "4324  Lung Non-small Cell Carcinoma  3908.0        NaN   \n",
              "\n",
              "                    therapies therapy_interaction_type evidence_type  \\\n",
              "64                 Dabrafenib                      NaN    Predictive   \n",
              "78                Vemurafenib                      NaN    Predictive   \n",
              "80                Selumetinib                      NaN    Predictive   \n",
              "216                 Sorafenib                      NaN    Predictive   \n",
              "518   Irinotecan,Fluorouracil              Combination    Predictive   \n",
              "610                  Afatinib                      NaN    Predictive   \n",
              "921                Crizotinib                      NaN    Predictive   \n",
              "1254     Pazopanib,Everolimus              Combination    Predictive   \n",
              "2734                      NaN                      NaN    Prognostic   \n",
              "3160   Vemurafenib,Dabrafenib              Substitutes    Predictive   \n",
              "3353                    JQEZ5                      NaN    Predictive   \n",
              "3591    Trametinib,Dabrafenib              Combination    Predictive   \n",
              "3981            Larotrectinib                      NaN    Predictive   \n",
              "4324              Palbociclib                      NaN    Predictive   \n",
              "\n",
              "     evidence_direction evidence_level  ... evidence_status evidence_id  \\\n",
              "64             Supports              C  ...        accepted          73   \n",
              "78             Supports              D  ...        accepted          90   \n",
              "80             Supports              E  ...        accepted          92   \n",
              "216            Supports              C  ...        accepted         247   \n",
              "518            Supports              B  ...        accepted         678   \n",
              "610            Supports              C  ...        accepted         773   \n",
              "921            Supports              C  ...        accepted        1095   \n",
              "1254           Supports              C  ...        accepted        1438   \n",
              "2734           Supports              B  ...        accepted        5350   \n",
              "3160           Supports              B  ...        accepted        6262   \n",
              "3353           Supports              D  ...        accepted        6952   \n",
              "3591           Supports              C  ...        accepted        7677   \n",
              "3981           Supports              C  ...        accepted        9593   \n",
              "4324           Supports              B  ...        accepted       11665   \n",
              "\n",
              "     variant_origin         last_review_date  \\\n",
              "64          Somatic  2023-01-11 17:59:40 UTC   \n",
              "78          Somatic  2025-02-25 23:34:09 UTC   \n",
              "80          Somatic  2023-01-12 04:51:38 UTC   \n",
              "216         Somatic  2023-10-17 15:51:35 UTC   \n",
              "518   Rare Germline  2023-01-09 21:46:30 UTC   \n",
              "610         Somatic  2023-08-25 16:47:08 UTC   \n",
              "921         Somatic  2023-03-27 21:58:17 UTC   \n",
              "1254        Somatic  2023-03-27 22:28:49 UTC   \n",
              "2734        Somatic  2024-12-05 21:39:24 UTC   \n",
              "3160        Somatic  2023-01-12 04:52:45 UTC   \n",
              "3353        Somatic  2023-10-06 21:25:19 UTC   \n",
              "3591        Somatic  2025-03-18 00:41:22 UTC   \n",
              "3981        Somatic  2023-09-22 16:22:53 UTC   \n",
              "4324        Somatic  2024-02-02 01:23:42 UTC   \n",
              "\n",
              "                                  evidence_civic_url  \\\n",
              "64       https://civicdb.org/links/evidence_items/73   \n",
              "78       https://civicdb.org/links/evidence_items/90   \n",
              "80       https://civicdb.org/links/evidence_items/92   \n",
              "216     https://civicdb.org/links/evidence_items/247   \n",
              "518     https://civicdb.org/links/evidence_items/678   \n",
              "610     https://civicdb.org/links/evidence_items/773   \n",
              "921    https://civicdb.org/links/evidence_items/1095   \n",
              "1254   https://civicdb.org/links/evidence_items/1438   \n",
              "2734   https://civicdb.org/links/evidence_items/5350   \n",
              "3160   https://civicdb.org/links/evidence_items/6262   \n",
              "3353   https://civicdb.org/links/evidence_items/6952   \n",
              "3591   https://civicdb.org/links/evidence_items/7677   \n",
              "3981   https://civicdb.org/links/evidence_items/9593   \n",
              "4324  https://civicdb.org/links/evidence_items/11665   \n",
              "\n",
              "                            molecular_profile_civic_url is_flagged    gene  \\\n",
              "64    https://civicdb.org/links/molecular_profiles/4170      False    BRAF   \n",
              "78    https://civicdb.org/links/molecular_profiles/5379      False    BRAF   \n",
              "80    https://civicdb.org/links/molecular_profiles/4173      False    BRAF   \n",
              "216   https://civicdb.org/links/molecular_profiles/4616      False    FLT3   \n",
              "518    https://civicdb.org/links/molecular_profiles/261      False    TYMS   \n",
              "610   https://civicdb.org/links/molecular_profiles/4245      False    EGFR   \n",
              "921   https://civicdb.org/links/molecular_profiles/4366      False     MET   \n",
              "1254  https://civicdb.org/links/molecular_profiles/4368      False    MTOR   \n",
              "2734  https://civicdb.org/links/molecular_profiles/5317      False  PIK3CA   \n",
              "3160  https://civicdb.org/links/molecular_profiles/4174      False    BRAF   \n",
              "3353  https://civicdb.org/links/molecular_profiles/4241      False    BRAF   \n",
              "3591  https://civicdb.org/links/molecular_profiles/5411      False    BRAF   \n",
              "3981  https://civicdb.org/links/molecular_profiles/4177      False   NTRK1   \n",
              "4324  https://civicdb.org/links/molecular_profiles/4750      False     RB1   \n",
              "\n",
              "           mutation  is_ssm  \n",
              "64            V600E    True  \n",
              "78            V600E    True  \n",
              "80            V600E    True  \n",
              "216             ITD   False  \n",
              "518              5'   False  \n",
              "610   Amplification   False  \n",
              "921   Amplification   False  \n",
              "1254         E2014K    True  \n",
              "2734           Exon   False  \n",
              "3160  Amplification   False  \n",
              "3353          V600E    True  \n",
              "3591           V600   False  \n",
              "3981          G595R    True  \n",
              "4324       Wildtype   False  \n",
              "\n",
              "[14 rows x 28 columns]"
            ]
          },
          "execution_count": 57,
          "metadata": {},
          "output_type": "execute_result"
        }
      ],
      "source": [
        "combination_mutation_data"
      ]
    },
    {
      "cell_type": "code",
      "execution_count": 58,
      "metadata": {},
      "outputs": [],
      "source": [
        "combination_mutation_data.to_csv('../csvs/combination_mutation_data.csv')"
      ]
    },
    {
      "cell_type": "code",
      "execution_count": 59,
      "metadata": {
        "colab": {
          "base_uri": "https://localhost:8080/",
          "height": 533
        },
        "id": "X1C93VBmTlf2",
        "outputId": "73668f0f-0f2e-49ca-e577-777c6edf2e32"
      },
      "outputs": [
        {
          "data": {
            "text/html": [
              "<div>\n",
              "<style scoped>\n",
              "    .dataframe tbody tr th:only-of-type {\n",
              "        vertical-align: middle;\n",
              "    }\n",
              "\n",
              "    .dataframe tbody tr th {\n",
              "        vertical-align: top;\n",
              "    }\n",
              "\n",
              "    .dataframe thead th {\n",
              "        text-align: right;\n",
              "    }\n",
              "</style>\n",
              "<table border=\"1\" class=\"dataframe\">\n",
              "  <thead>\n",
              "    <tr style=\"text-align: right;\">\n",
              "      <th></th>\n",
              "      <th>gene_x</th>\n",
              "      <th>mutation_x</th>\n",
              "      <th>disease</th>\n",
              "      <th>molecular_profile</th>\n",
              "      <th>questions</th>\n",
              "    </tr>\n",
              "  </thead>\n",
              "  <tbody>\n",
              "    <tr>\n",
              "      <th>0</th>\n",
              "      <td>JAK2</td>\n",
              "      <td>V617F</td>\n",
              "      <td>Lymphoid Leukemia</td>\n",
              "      <td>JAK2 V617F</td>\n",
              "      <td>What is the incidence of microsatellite instab...</td>\n",
              "    </tr>\n",
              "    <tr>\n",
              "      <th>1</th>\n",
              "      <td>JAK2</td>\n",
              "      <td>V617F</td>\n",
              "      <td>Lymphoid Leukemia</td>\n",
              "      <td>JAK2 V617F</td>\n",
              "      <td>What is the frequency of somatic JAK2 heterozy...</td>\n",
              "    </tr>\n",
              "    <tr>\n",
              "      <th>2</th>\n",
              "      <td>JAK2</td>\n",
              "      <td>V617F</td>\n",
              "      <td>Lymphoid Leukemia</td>\n",
              "      <td>JAK2 V617F</td>\n",
              "      <td>What proportion of cancer patients exhibit sim...</td>\n",
              "    </tr>\n",
              "    <tr>\n",
              "      <th>3</th>\n",
              "      <td>JAK2</td>\n",
              "      <td>V617F</td>\n",
              "      <td>Lymphoid Leukemia</td>\n",
              "      <td>JAK2 V617F</td>\n",
              "      <td>How frequently are JAK2 V617F mutations detect...</td>\n",
              "    </tr>\n",
              "    <tr>\n",
              "      <th>4</th>\n",
              "      <td>JAK2</td>\n",
              "      <td>V617F</td>\n",
              "      <td>Lymphoid Leukemia</td>\n",
              "      <td>JAK2 V617F</td>\n",
              "      <td>What is the frequency of microsatellite instab...</td>\n",
              "    </tr>\n",
              "    <tr>\n",
              "      <th>5</th>\n",
              "      <td>PDGFRA</td>\n",
              "      <td>D842V</td>\n",
              "      <td>Gastrointestinal Stromal Tumor</td>\n",
              "      <td>PDGFRA D842V</td>\n",
              "      <td>Can you provide the prevalence of microsatelli...</td>\n",
              "    </tr>\n",
              "  </tbody>\n",
              "</table>\n",
              "</div>"
            ],
            "text/plain": [
              "   gene_x mutation_x                         disease molecular_profile  \\\n",
              "0    JAK2      V617F               Lymphoid Leukemia        JAK2 V617F   \n",
              "1    JAK2      V617F               Lymphoid Leukemia        JAK2 V617F   \n",
              "2    JAK2      V617F               Lymphoid Leukemia        JAK2 V617F   \n",
              "3    JAK2      V617F               Lymphoid Leukemia        JAK2 V617F   \n",
              "4    JAK2      V617F               Lymphoid Leukemia        JAK2 V617F   \n",
              "5  PDGFRA      D842V  Gastrointestinal Stromal Tumor      PDGFRA D842V   \n",
              "\n",
              "                                           questions  \n",
              "0  What is the incidence of microsatellite instab...  \n",
              "1  What is the frequency of somatic JAK2 heterozy...  \n",
              "2  What proportion of cancer patients exhibit sim...  \n",
              "3  How frequently are JAK2 V617F mutations detect...  \n",
              "4  What is the frequency of microsatellite instab...  \n",
              "5  Can you provide the prevalence of microsatelli...  "
            ]
          },
          "execution_count": 59,
          "metadata": {},
          "output_type": "execute_result"
        }
      ],
      "source": [
        "dataset1_exploded_unique.head(n=6)"
      ]
    }
  ],
  "metadata": {
    "colab": {
      "machine_shape": "hm",
      "provenance": []
    },
    "kernelspec": {
      "display_name": "Python 3",
      "name": "python3"
    },
    "language_info": {
      "codemirror_mode": {
        "name": "ipython",
        "version": 3
      },
      "file_extension": ".py",
      "mimetype": "text/x-python",
      "name": "python",
      "nbconvert_exporter": "python",
      "pygments_lexer": "ipython3",
      "version": "3.9.2"
    }
  },
  "nbformat": 4,
  "nbformat_minor": 0
}
