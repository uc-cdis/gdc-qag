{
 "cells": [
  {
   "cell_type": "markdown",
   "metadata": {},
   "source": [
    "# Train BERT model to identify user inent"
   ]
  },
  {
   "cell_type": "markdown",
   "metadata": {},
   "source": [
    "### Install libraries"
   ]
  },
  {
   "cell_type": "code",
   "execution_count": null,
   "metadata": {},
   "outputs": [],
   "source": [
    "%pip install requests\n",
    "%pip install pandas\n",
    "%pip install numpy"
   ]
  },
  {
   "cell_type": "code",
   "execution_count": null,
   "metadata": {
    "id": "kLikjieAJtEt"
   },
   "outputs": [],
   "source": [
    "import json\n",
    "import os\n",
    "import requests\n",
    "import pandas as pd\n",
    "import numpy as np\n",
    "import random"
   ]
  },
  {
   "cell_type": "markdown",
   "metadata": {},
   "source": [
    "### Collate some gene, mutation and disease data combo from DC\n",
    "- Using just top 1k from API"
   ]
  },
  {
   "cell_type": "code",
   "execution_count": null,
   "metadata": {
    "id": "Ti1KcnEyJvE6"
   },
   "outputs": [],
   "source": [
    "# get data for random genes and dump to file\n",
    "curl_cmd = \"https://api.gdc.cancer.gov/ssms?expand=occurrence.case.project&size=1000&pretty=true\""
   ]
  },
  {
   "cell_type": "code",
   "execution_count": null,
   "metadata": {
    "id": "Xn0uUu5KJ-zI"
   },
   "outputs": [],
   "source": [
    "response = requests.get(curl_cmd)"
   ]
  },
  {
   "cell_type": "code",
   "execution_count": null,
   "metadata": {
    "colab": {
     "base_uri": "https://localhost:8080/"
    },
    "id": "TV4qY2bR3BTz",
    "outputId": "dde13db0-f359-4e72-9a9a-91908df53435"
   },
   "outputs": [],
   "source": [
    "response"
   ]
  },
  {
   "cell_type": "code",
   "execution_count": null,
   "metadata": {
    "id": "scXfG0Iu27vJ"
   },
   "outputs": [],
   "source": [
    "result = response.json()"
   ]
  },
  {
   "cell_type": "code",
   "execution_count": null,
   "metadata": {
    "colab": {
     "base_uri": "https://localhost:8080/"
    },
    "id": "ORS3C7zE3Kr6",
    "outputId": "29575650-5f3c-4af6-bb2f-1b22992002fa"
   },
   "outputs": [],
   "source": [
    "result['data']['hits'][:1]"
   ]
  },
  {
   "cell_type": "code",
   "execution_count": null,
   "metadata": {
    "colab": {
     "base_uri": "https://localhost:8080/"
    },
    "id": "uF7txvroMmXd",
    "outputId": "b1476aab-5292-4aa0-feae-d22ecbbbe12d"
   },
   "outputs": [],
   "source": [
    "print(len(result['data']['hits']))"
   ]
  },
  {
   "cell_type": "markdown",
   "metadata": {},
   "source": [
    "### Dataset1\n",
    "- Dump cosmic_id, gene, mutation and cancer information from results to a file"
   ]
  },
  {
   "cell_type": "code",
   "execution_count": null,
   "metadata": {},
   "outputs": [],
   "source": [
    "# note: this is just looking at first 1000 mutations/genes/cancers and expanding on that info\n",
    "\n",
    "def write_genes_mutations_cancers_output(result):\n",
    "  with open('../csvs/genes_mutations_cancers.tsv', 'w') as out_file:\n",
    "    out_file.write('cosmic_id\\tgene\\tmutation\\tcancer\\n')\n",
    "    for info in result['data']['hits']:\n",
    "      try:\n",
    "        cosmic_ids = info['cosmic_id']\n",
    "        aa_changes = info['gene_aa_change']\n",
    "        for occurrence in info['occurrence']:\n",
    "          projects = occurrence['case']['project']['name']\n",
    "          for c_id in cosmic_ids:\n",
    "            for mut in aa_changes:\n",
    "              gene, m = mut.split(' ')\n",
    "              out_file.write('{}\\t{}\\t{}\\t{}\\n'.format(c_id, gene, m, projects ))\n",
    "      except:\n",
    "        pass"
   ]
  },
  {
   "cell_type": "code",
   "execution_count": null,
   "metadata": {},
   "outputs": [],
   "source": [
    "write_genes_mutations_cancers_output(result)"
   ]
  },
  {
   "cell_type": "markdown",
   "metadata": {},
   "source": [
    "### Dataset2 \n",
    "- Dump driver genes, mutation and cancer info from a paper to a file\n",
    "- driver gene info is taken from supp data table 1 from the following paper (full driver gene list in cancer_driver_genes.txt)\n",
    "- https://pmc.ncbi.nlm.nih.gov/articles/PMC10406856/#MOESM2\n",
    "- short version is fig 2g data, in cancer_driver_genes_short.txt file"
   ]
  },
  {
   "cell_type": "code",
   "execution_count": null,
   "metadata": {},
   "outputs": [],
   "source": [
    "# driver gene info is taken from supp data table 1 from the following paper (full driver gene list in cancer_driver_genes.txt)\n",
    "# https://pmc.ncbi.nlm.nih.gov/articles/PMC10406856/#MOESM2\n",
    "# short version is fig 2g data, in cancer_driver_genes_short.txt file\n",
    "with open('/opt/gpudata/aartiv/rag_rig/cancer_driver_genes_short.txt') as gene_drivers:\n",
    "    driver_gene_list = gene_drivers.read().splitlines()"
   ]
  },
  {
   "cell_type": "code",
   "execution_count": null,
   "metadata": {},
   "outputs": [],
   "source": [
    "def get_driver_gene_mutation_data(driver_gene_list):\n",
    "  with open('../csvs/genes_mutations_cancers_driver_genes.tsv', 'w') as out_file:\n",
    "    out_file.write('cosmic_id\\tgene\\tmutation\\tcancer\\n')\n",
    "    for gene in driver_gene_list:\n",
    "        endpoint = 'https://api.gdc.cancer.gov/ssms'\n",
    "\n",
    "        expand = [\"occurrence.case.project\"]\n",
    "\n",
    "        filters = {\n",
    "            \"op\": \"=\",\n",
    "            \"content\": {\n",
    "                \"field\": \"consequence.transcript.gene.symbol\",\n",
    "                \"value\": gene\n",
    "            }\n",
    "        }\n",
    "        params = {\n",
    "            \"filters\": json.dumps(filters),\n",
    "            \"expand\": expand,\n",
    "            \"size\": 10000\n",
    "        }\n",
    "        response = requests.get(endpoint, params=params)\n",
    "        result = response.json()\n",
    "        for info in result['data']['hits']:\n",
    "            try:\n",
    "                cosmic_ids = info['cosmic_id']\n",
    "                aa_changes = info['gene_aa_change']\n",
    "                for occurrence in info['occurrence']:\n",
    "                    projects = occurrence['case']['project']['name']\n",
    "                    for c_id in cosmic_ids:\n",
    "                        for mut in aa_changes:\n",
    "                            gene, m = mut.split(' ')\n",
    "                            out_file.write('{}\\t{}\\t{}\\t{}\\n'.format(c_id, gene, m, projects ))\n",
    "            except:\n",
    "                pass"
   ]
  },
  {
   "cell_type": "code",
   "execution_count": null,
   "metadata": {},
   "outputs": [],
   "source": [
    "get_driver_gene_mutation_data(driver_gene_list)"
   ]
  },
  {
   "cell_type": "markdown",
   "metadata": {},
   "source": [
    "## Define templates for question variety and BERT model training"
   ]
  },
  {
   "cell_type": "code",
   "execution_count": null,
   "metadata": {
    "id": "0O-gNtfw6Zj_"
   },
   "outputs": [],
   "source": [
    "# generate synthetic data\n",
    "\n",
    "# asked phoenix AI to produce 25 different questions for each of the\n",
    "# templates below\n",
    "\n",
    "# template 1 = 'what is the frequency of mutation x in cancer y?\n",
    "# template 2 = 'what is the prevalence of MSI High in cancer x?'\n",
    "# template 3 = 'which gene is most frequently mutated in prostate cancer?'\n",
    "# template 4 = 'what is the frequency of aneuploidy in breast cancers'?\n",
    "\n",
    "# cnv question\n",
    "# template 5 =  'what is the frequency of 1p19q loss in GBM'?\n",
    "# template 6 = 'what are the top 15 mutated genes in breast cancer'?\n",
    "\n",
    "template1_questions = [\n",
    "    'What percentage of [cancer] cases have the [gene_x] [mutation_x] mutation?',\n",
    "    'How widespread are [gene_x] [mutation_x] mutations in [cancer]?',\n",
    "    'How often is the [gene_x] [mutation_x] found in [cancer]?',\n",
    "    'What is the occurrence rate of [gene_x] [mutation_x] in [cancer] patients?',\n",
    "    'How prevalent is the [gene_x] [mutation_x] mutation in cases of [cancer]?',\n",
    "    'What is the incidence of the [gene_x] [mutation_x] mutation in [cancer]?',\n",
    "    'What is the frequency of [gene_x] [mutation_x] mutation in [cancer]?',\n",
    "    'How common is the [gene_x] [mutation_x] mutation in [cancer]?',\n",
    "    'What fraction of [cancer] patients have the [gene_x] [mutation_x] mutation?',\n",
    "    'How widespread is the [gene_x] [mutation_x] mutation in [cancer]?',\n",
    "    'What is the rate of occurrence of the [gene_x] [mutation_x] mutation in [cancer]?',\n",
    "    'How frequently is the [gene_x] [mutation_x] mutation detected in [cancer]?',\n",
    "    'what percentage of cases have mutations in both [gene_x] [mutation_x] and [gene_y] [mutation_y] mutations in [cancer]?',\n",
    "    'what proportion of [cancer] patients have mutations in both [gene_x] [mutation_x] and [gene_y] [mutation_y]?',\n",
    "    'What proportion of [cancer] patients exhibit the [gene_x] [mutation_x] mutation?',\n",
    "    'Can you tell me the rate of [gene_x] [mutation_x] mutation in [cancer]?',\n",
    "    'What is the percentage of [cancer] tumors with the [gene_x] [mutation_x] mutation?',\n",
    "    'What is the prevalence rate of [gene_x] [mutation_x] mutation in [cancer]?',\n",
    "    'How many [cancer] cases have the [gene_x] [mutation_x] mutation?',\n",
    "    'What is the prevalence rate of the [gene_x] [mutation_x] mutation in [cancer]?',\n",
    "    'What is the distribution of the [gene_x] [mutation_x] mutation in [cancer]?',\n",
    "    'How high is the prevalence of the [gene_x] [mutation_x] mutation in [cancer]?',\n",
    "    'What is the presence rate of the [gene_x] [mutation_x] mutation in [cancer]?',\n",
    "    'How pervasively is the [gene_x] [mutation_x] mutation present in [cancer]?',\n",
    "    'What is the occurrence of [gene_x] [mutation_x] mutation in [cancer]?',\n",
    "    'What is the [gene_x] [mutation_x] mutation rate in [cancer]?',\n",
    "    'How frequent is the [gene_x] [mutation_x] mutation in [cancer] cases?'\n",
    "]\n",
    "template1_answers = ['ssm_frequency'] * len(template1_questions)\n"
   ]
  },
  {
   "cell_type": "code",
   "execution_count": null,
   "metadata": {
    "id": "nTPP_nGZUbPM"
   },
   "outputs": [],
   "source": [
    "# template 2 = 'what is the prevalence of MSI High in cancer x?'\n",
    "template2_questions = [\n",
    "  'What is the frequency of microsatellite instability-high in [cancer]?',\n",
    "  'How common is MSI-H in [cancer] cases?',\n",
    "  'Can you provide the prevalence of microsatellite instability-high in [cancer] patients?',\n",
    "  'What percentage of [cancer] patients have MSI-H?',\n",
    "  'How often is microsatellite instability-high observed in [cancer]?',\n",
    "  'In [cancer], what is the occurrence rate of MSI-H?',\n",
    "  'What is the incidence of MSI-H in [cancer]?',\n",
    "  'How prevalent is microsatellite instability-high in [cancer]?',\n",
    "  'What proportion of [cancer] cases exhibit MSI-H?',\n",
    "  'How frequently is MSI High found in [cancer]?',\n",
    "  'What is the distribution rate of microsatellite instability-high among [cancer] patients?',\n",
    "  'How widespread is microsatellite instability-high in [cancer]?',\n",
    "  'Can you tell me how prevalent MSI High is in [cancer]?',\n",
    "  'What percentage of [cancer] cases are characterized by microsatellite instability-high (MSI-H)?',\n",
    "  'How common is MSI High status in cases of [cancer]?',\n",
    "  'What is the rate of microsatellite instability-high in [cancer] diagnoses?',\n",
    "  'Among [cancer] patients, what is the frequency of msi-h?',\n",
    "  'How often does msi-h occur in [cancer] patients?',\n",
    "  'What is the detection rate of msi-h in [cancer]?',\n",
    "  'How many [cancer] patients exhibit microsatellite instability-high?',\n",
    "  'What is the percentage occurrence of MSI High in [cancer]?',\n",
    "  'How frequently do [cancer] patients present with microsatellite instability-high?',\n",
    "  'What is the proportion of MSI High tumors in [cancer]?',\n",
    "  'Can you share the incidence rate of msi-high in [cancer]?',\n",
    "  'What fraction of [cancer] cases involve msi-high?'\n",
    "]\n",
    "template2_answers = ['msi_h_frequency'] * len(template2_questions)\n"
   ]
  },
  {
   "cell_type": "code",
   "execution_count": null,
   "metadata": {
    "id": "HJe1eHB5ZAsP"
   },
   "outputs": [],
   "source": [
    "\"\"\"Below not in V1\n",
    "\n",
    "# template 3 = 'which gene is most frequently mutated in prostate cancer?'\n",
    "template3_questions = [\n",
    "    'What is the most frequently mutated gene in [cancer]?',\n",
    "    'Can you tell me the gene that is most often mutated in [cancer]?',\n",
    "    'Which gene is mutated most frequently in [cancer] cases?',\n",
    "    'What is the predominant gene mutation in [cancer]?',\n",
    "    'In [cancer], which gene shows the highest mutation frequency?',\n",
    "    'What gene is most commonly altered in [cancer]?',\n",
    "    'Which gene has the highest mutation rate in [cancer]?',\n",
    "    'Can you provide the most frequently mutated gene in [cancer]?',\n",
    "    'Which gene is mutated the most in [cancer] patients?',\n",
    "    'What is the top mutated gene in [cancer]?',\n",
    "    'Which gene experiences the most frequent mutations in [cancer]?',\n",
    "    'What gene is most frequently changed in [cancer]?',\n",
    "    'Can you tell me which gene is most frequently mutated in [cancer]?',\n",
    "    'Which specific gene is most frequently mutated in [cancer]?',\n",
    "    'What is the gene most often altered in [cancer] patients?',\n",
    "    'What is the gene with the highest mutation occurrence in [cancer]?',\n",
    "    'Can you identify the gene most frequently mutated in [cancer]?',\n",
    "    'In [cancer], which gene has the highest incidence of mutation?',\n",
    "    'What is the most commonly mutated gene in [cancer]?'\n",
    "]\n",
    "template3_answers = ['most_frequently_mutated_gene'] * len(template3_questions)\n",
    "\"\"\"\n"
   ]
  },
  {
   "cell_type": "code",
   "execution_count": null,
   "metadata": {
    "id": "p7JF9xU-so2O"
   },
   "outputs": [],
   "source": [
    "# template 3 what is the freq of 1p19q or gene loss in GBM?\n",
    "template3_questions = [\n",
    "    'What is the incidence of [gene_x] loss in [cancer]?',\n",
    "    'What is the frequency of somatic [gene_x] heterozygous deletion in [cancer]?',\n",
    "    'What is the frequency of somatic [gene_x] homozygous deletion in [cancer]?',\n",
    "    'How common is [gene_x] and [gene_y] codeletion in [cancer] cases?',\n",
    "    'What percentage of [cancer] patients have somatic [gene_x] LOH?',\n",
    "    'How often is [gene_x] LOH observed in [cancer]?',\n",
    "    'In [cancer], what is the occurrence rate of [gene_x] loss?',\n",
    "    'What is the prevalence of [gene_x] and [gene_y] loss of heterozygosity in [cancer]?',\n",
    "    'How prevalent is [gene_x] gain in [cancer] patients?',\n",
    "    'How prevalent is somatic [gene_x] amplification in [cancer] patients?',\n",
    "    'What proportion of [cancer] cases exhibit [gene_x] and [gene_y] codeletion?',\n",
    "    'What is the joint frequency of somatic [gene_x] and [gene_y] homozygous deletions in [cancer]?',\n",
    "    'What is the frequency of somatic [gene_x] and [gene_y] heterozygous co-deletion in [cancer]?',\n",
    "    'How frequently is [gene_x] LOH found in [cancer]?',\n",
    "    'What is the distribution rate of [gene_x] and [gene_y] gain among [cancer] patients?',\n",
    "    'How widespread is [gene_x] LOH in [cancer]?',\n",
    "    'Can you tell me how prevalent [gene_x] and [gene_y] loss is in [cancer]?',\n",
    "    'What percentage of [cancer] are characterized by codeletion of [gene_x] and [gene_y]?',\n",
    "    'How common is [gene_y] LOH in [cancer] cases?',\n",
    "    'What is the rate of [gene_x] LOH in [cancer] diagnoses?',\n",
    "    'Among [cancer] patients, what is the frequency of [gene_y] gain?',\n",
    "    'How often does [gene_x] loss occur in [cancer] patients?',\n",
    "    'What is the detection rate of [gene_x] LOH in [cancer]?',\n",
    "    'How many [cancer] patients exhibit cogains in [gene_x] and [gene_y]?',\n",
    "    'What is the percentage occurrence of [gene_y] loss of heterozygosity in [cancer]?',\n",
    "    'How frequently do [cancer] patients present with [gene_y] loss of heterozygosity?',\n",
    "    'What is the proportion of [gene_y] and [gene_x] codeletion in [cancer]?',\n",
    "    'Can you share the incidence rate of [gene_x] loss in [cancer]?',\n",
    "    'What fraction of [cancer] cases involve [gene_x] loss?'\n",
    "]\n",
    "template3_answers = ['freq_cnv_loss_or_gain'] * len(template3_questions)\n"
   ]
  },
  {
   "cell_type": "code",
   "execution_count": null,
   "metadata": {
    "id": "vEvYTRYgwrzd"
   },
   "outputs": [],
   "source": [
    "\"\"\"Not for V1\n",
    "\n",
    "# template 5 = 'what are the top 15 mutated genes in breast cancer'?\n",
    "template5_questions = [\n",
    "    'What are the most commonly mutated 15 genes in [cancer]?',\n",
    "    'Can you list the top 10 mutated genes in [cancer]?',\n",
    "    'Which 5 genes are most frequently mutated in [cancer]?',\n",
    "    'Which 7 genes have the highest mutation rates in [cancer]?'\n",
    "    'Can you provide the 8 most frequently mutated genes in [cancer]?',\n",
    "    'What 3 genes are most often mutated in [cancer] patients?',\n",
    "    'What are the top 4 genes with mutations in [cancer]?',\n",
    "    'Which 17 genes are most commonly altered in [cancer]?',\n",
    "    'Can you identify the top 18 mutated genes in [cancer]?',\n",
    "    'Which 9 genes exhibit the highest mutation frequency in [cancer]?',\n",
    "    'What are the primary 3 genes mutated in [cancer] cases?',\n",
    "    'Can you tell me the top 8 mutated genes in [cancer]?',\n",
    "    'What are the major 7 gene mutations in [cancer]?',\n",
    "    'Which 6 genes are most frequently altered in [cancer]?',\n",
    "    'What are the top 12 genes with the highest mutation rates in [cancer]?',\n",
    "    'What 14 genes are most frequently mutated in cases of [cancer]?',\n",
    "    'Which 19 genes are most often found to be mutated in [cancer]?'\n",
    "]\n",
    "template5_answers = ['top_mutated_genes_by_project'] * len(template5_questions)\n",
    "\"\"\""
   ]
  },
  {
   "cell_type": "code",
   "execution_count": null,
   "metadata": {
    "id": "B6a9S4s7c2hJ"
   },
   "outputs": [],
   "source": [
    "\"\"\"Not for V1\n",
    "\n",
    "# template 6 = /analysis/mutated_cases_count_by_project\n",
    "# template 6 = 'Can you list the counts for the number of cases that have associated simple somatic mutation data in each cancer genome atlas project?'\n",
    "\n",
    "template6_questions = [\n",
    "    'Could you provide the counts of cases with simple somatic mutation data for each Cancer Genome Atlas project?',\n",
    "    'What are the numbers of cases with associated simple somatic mutation data in each TCGA project?',\n",
    "    'Can you list the number of cases that include simple somatic mutation data across all Cancer Genome Atlas projects?',\n",
    "    'Please enumerate the case counts having simple somatic mutation data within each TCGA project.',\n",
    "    'Could you detail the counts of cases that contain simple somatic mutation data for each project in the Cancer Genome Atlas?',\n",
    "    'What is the number of cases with simple somatic mutation data in each of the TCGA projects?',\n",
    "    'Can you provide the number of cases with simple somatic mutation data for each project in the Cancer Genome Atlas?',\n",
    "    'Could you list how many cases involve simple somatic mutation data in each TCGA project?',\n",
    "    'Please provide the counts of cases featuring simple somatic mutation data in each TCGA project.',\n",
    "    'Can you give the counts of cases that have simple somatic mutation data within the Cancer Genome Atlas projects?',\n",
    "    'What are the counts of cases with simple somatic mutation data in each of the Cancer Genome Atlas projects?',\n",
    "    'Could you share the counts of cases having simple somatic mutation data across the various TCGA projects?',\n",
    "    'Can you tell me how many cases with simple somatic mutation data exist in each TCGA project?',\n",
    "    'Could you list the number of cases featuring simple somatic mutation data for each Cancer Genome Atlas project?',\n",
    "    'What are the numbers of cases with simple somatic mutation data in different TCGA projects?',\n",
    "    'Could you describe the case counts with simple somatic mutation data for each of the Cancer Genome Atlas projects?',\n",
    "    'Can you list the counts of cases having simple somatic mutation data in each project under the TCGA?',\n",
    "    'Could you enumerate how many cases include simple somatic mutation data in the various TCGA projects?',\n",
    "    'What counts of cases with simple somatic mutation data are there for each TCGA project?',\n",
    "    'Could you provide the tally of cases that contain simple somatic mutation data in each Cancer Genome Atlas project?'\n",
    "]\n",
    "template6_answers = ['mutated_cases_count_by_project'] * len(template6_questions)\n",
    "\"\"\"\n",
    "\n"
   ]
  },
  {
   "cell_type": "code",
   "execution_count": null,
   "metadata": {
    "id": "ZfwVxeo3s2Ir"
   },
   "outputs": [],
   "source": [
    "# template4 /analysis/top_cases_counts_by_genes used for cohort comparisons/survival analysis\n",
    "# number of cases w/ mutations in a gene or genes, and number of cases w/o mutations in genes\n",
    "# this template refers to any mutation in the gene, no specific ssm\n",
    "\n",
    "template4_questions = [\n",
    "    'What is the incidence of [gene_x] or [gene_y] mutations in cases of [cancer] in the genomic data commons?',\n",
    "    'How frequently are [gene_x] or [gene_y] mutations observed in [cancer]?',\n",
    "    'What percentage of [cancer] cases exhibit mutations in [gene_x] genes?',\n",
    "    'What proportion of [cancer] cases have mutated [gene_x] or [gene_y]?',\n",
    "    'How many patients with [cancer] carry mutations in either [gene_x] or [gene_y]?',\n",
    "    'What is the prevalence of mutations in [gene_x] or [gene_y] among [cancer] cases?',\n",
    "    'In cases of [cancer], how many exhibit [gene_x] mutations in the genomic data commons?',\n",
    "    'Are [gene_x] or [gene_y] mutations present in many [cancer] cases?',\n",
    "    'What is the rate of [gene_x] mutations in [cancer] tumors?',\n",
    "    'What is the number of [cancer] cases without [gene_x] and [gene_y] mutations?',\n",
    "    'How many [cancer] patients lack mutations in [gene_y] in the genomic data commons?',\n",
    "    'What proportion of [cancer] do not exhibit mutations in [gene_x] and [gene_y]?',\n",
    "    'How frequently are [cancer] without [gene_x] mutations observed?',\n",
    "    'What percentage of [cancer] cases do not have [gene_y] mutations?',\n",
    "    'How rare is it to find [cancer] without mutations in [gene_x] and [gene_y]?',\n",
    "    'How many [cancer] cases lack [gene_x] and [gene_y] gene mutations?',\n",
    "    'What fraction of [cancer] cases do not possess mutations in [gene_x] and [gene_y]?',\n",
    "    'Do a substantial number of [cancer] not have [gene_x] and [gene_y] mutations?',\n",
    "    'What share of [cancer] cases is without [gene_x] and [gene_y] mutations?'\n",
    "]\n",
    "template4_answers = ['top_cases_counts_by_genes'] * len(template4_questions)\n"
   ]
  },
  {
   "cell_type": "code",
   "execution_count": null,
   "metadata": {
    "id": "hOXB_b_kwHEq"
   },
   "outputs": [],
   "source": [
    "\"\"\"Not for V1\n",
    "\n",
    "# template8 questions: Can you give me the project summary for TCGA-BRCA project\n",
    "template8_questions = [\n",
    "    'Could you provide a brief overview of the [cancer] project?',\n",
    "    'Can you summarize the data in the [cancer] project for me?',\n",
    "    'Can you summarize the data in the [cancer] project for me, including data categories and experimental strategies?',\n",
    "    'What is the project summary for [cancer]?',\n",
    "    'Can you give me a summary of the [cancer] project, including data and experimental categories?',\n",
    "    'What are the key summary details of the [cancer] project?',\n",
    "    'Can you provide a high-level summary of the [cancer] project, in terms of number of files for each experiment and types of data collected?',\n",
    "    'Can you offer a brief description of the [cancer] project?',\n",
    "    'Could you give an overview of what the [cancer] project entails?',\n",
    "    'Can you share a concise summary of the [cancer] project, including file counts and types of data?',\n",
    "    'Can you break down the [cancer] project for me, in terms of types of data and experiments?',\n",
    "    'Can you provide the number of cases and files in [cancer] project for different data categories and experiments?',\n",
    "    'Can you provide the number of cases for biospecimens, clinical data, copy number variation, DNA Methylation in [cancer] project?',\n",
    "    'Can you detail the number of cases for proteome profiling, sequencing reads, simple nucleotide variation, somatic structural variation, structural variation and transcriptome profiling for [cancer] project?',\n",
    "    'Can you list the number of files for proteome profiling, sequencing reads, simple nucleotide variation, somatic structural variation, structural variation and transcriptome profiling for [cancer] project?',\n",
    "    'Can you list cases and file counts by data category for [cancer] project?',\n",
    "    'Can you provide a breakdown of number of cases for various experimental strategies such as ATAC-Seq, genotyping and methylation in [cancer] project?',\n",
    "    'Can you provide a breakdown of number of cases for various experimental strategies such as miRNA, reverse phase protein array, RNA-Seq, WGS and WXS in [cancer] project?',\n",
    "    'Can you give me a summary of number of cases for various experimental strategies such as miRNA, reverse phase protein array, transcriptomics, whole genome and whole exome sequencing in [cancer] project?',\n",
    "    'How many cases and files are available for diagnostic and tissue slides in [cancer] project?'\n",
    "]\n",
    "template8_answers = ['project_summary'] * len(template8_questions)\n",
    "\"\"\"\n"
   ]
  },
  {
   "cell_type": "code",
   "execution_count": null,
   "metadata": {},
   "outputs": [],
   "source": [
    "# cnv and ssm combination\n",
    "template5_questions = [\n",
    "    'what is the frequency of cases with somatic mutations in [gene_x] and amplifications in [gene_y] in [cancer] in the genomic data commons?',\n",
    "    'what is the frequency of cases with amplifications in [gene_x] and mutations in [gene_y] in [cancer] in the genomic data commons?',\n",
    "    'How often do cases of [cancer] exhibit mutations in [gene_x] and homozyous deletions in [gene_y]?',\n",
    "    'What is the prevalence of [gene_x] somatic mutations and [gene_y] heterozygous deletions in [cancer] cases?',\n",
    "    'Can you tell me the frequency of [gene_x] mutations co-occurring with [gene_y] amplifications in [cancer]?',\n",
    "    'How common are mutations in [gene_x] and amplifications in [gene_y] among patients with [cancer]?',\n",
    "    'What percentage of [cancer] cases present with mutations in [gene_x] and somatic homozygous deletions in [gene_y]?',\n",
    "    'To what extent do [cancer] cases show somatic mutations in [gene_x] along with somatic amplifications in [gene_y]?',\n",
    "    'How frequently are [gene_x] somatic mutations and somatic [gene_y] amplifications found in [cancer] patients?',\n",
    "    'What is the incidence rate of mutations in [gene_x] paired with somatic heterozygous deletions in [gene_y] in [cancer]?',\n",
    "    'What portion of [cancer] cases have both [gene_x] mutations and [gene_y] gains?',\n",
    "    'How prevalent are simultaneous mutations in [gene_x] and gains in [gene_y] in [cancer]?',\n",
    "    'Could you provide the rate of [gene_x] mutations and [gene_y] deletions among [cancer] cases?',\n",
    "    'What is the occurrence of [gene_x] mutations alongside [gene_y] amplifications in [cancer]?',\n",
    "    'How often are concurrent somatic mutations in [gene_x] and deletions in [gene_y] observed in [cancer]?',\n",
    "    'What is the proportion of [cancer] cases with both [gene_x] mutations and [gene_y] amplifications?',\n",
    "    'In cases of [cancer], how common are mutations in [gene_x] and amplifications in [gene_y]?',\n",
    "    'What is the rate at which [gene_x] somatic mutations and somatic [gene_y] homozygous deletions coincide in [cancer]?',\n",
    "    'How frequently do [gene_x] mutations and [gene_y] amplifications occur together in [cancer] cases?',\n",
    "    'What share of [cancer] cases display both somatic [gene_x] mutations and somatic [gene_y] losses?',\n",
    "    'What is the joint frequency of somatic [gene_x] mutations and [gene_y] losses in [cancer]?',\n",
    "    'How prevalent is the co-occurrence of [gene_x] mutations and [gene_y] amplifications in [cancer]?',\n",
    "    'What is the frequency of mutations in [gene_x] coupled with gains in [gene_y] in [cancer]?'\n",
    "    'How often do mutations in [gene_x] and amplifications in [gene_y] happen in [cancer]?',\n",
    "    'What is the incidence of [gene_x] mutations along with [gene_y] losses in [cancer]?',\n",
    "    'How common are both [gene_x] mutations and [gene_y] amplifications within [cancer] cases?',\n",
    "    'Can you specify the frequency at which [gene_x] mutations and [gene_y] gains are seen in [cancer]?'\n",
    "]\n",
    "template5_answers = ['cnv_and_ssm'] * len(template5_questions)\n",
    "\n"
   ]
  },
  {
   "cell_type": "code",
   "execution_count": null,
   "metadata": {
    "id": "7U3XUtjjyPFW"
   },
   "outputs": [],
   "source": [
    "all_template_questions = template1_questions + template2_questions + template3_questions + template4_questions + template5_questions\n",
    "all_template_answers = template1_answers + template2_answers + template3_answers + template4_answers + template5_answers"
   ]
  },
  {
   "cell_type": "code",
   "execution_count": null,
   "metadata": {},
   "outputs": [],
   "source": [
    "len(all_template_questions), len(all_template_answers)"
   ]
  },
  {
   "cell_type": "markdown",
   "metadata": {},
   "source": [
    "# Process different types of data for query and intent"
   ]
  },
  {
   "cell_type": "code",
   "execution_count": null,
   "metadata": {
    "id": "e8J1utzu8mZU"
   },
   "outputs": [],
   "source": [
    "# Dataset1\n",
    "gdc_data = pd.read_csv('../csvs/genes_mutations_cancers.tsv', sep='\\t')\n",
    "\n",
    "# Dataset2\n",
    "# driver genes -- you could pare this down further perhaps to top 100?\n",
    "# gdc_data = pd.read_csv('genes_mutations_cancers_driver_genes.tsv', sep='\\t')\n"
   ]
  },
  {
   "cell_type": "code",
   "execution_count": null,
   "metadata": {
    "colab": {
     "base_uri": "https://localhost:8080/",
     "height": 224
    },
    "id": "RBnYmCLL86xa",
    "outputId": "2d7746e5-1111-4684-ef56-4fb7aa86f486"
   },
   "outputs": [],
   "source": [
    "gdc_data.shape"
   ]
  },
  {
   "cell_type": "code",
   "execution_count": null,
   "metadata": {
    "colab": {
     "base_uri": "https://localhost:8080/"
    },
    "id": "r3PfI5ZITItA",
    "outputId": "5c689b5e-db5c-484d-e230-626f686ffb85"
   },
   "outputs": [],
   "source": [
    "len(template1_questions), len(template2_questions), len(template3_questions), len(template4_questions), len(template5_questions)"
   ]
  },
  {
   "cell_type": "code",
   "execution_count": null,
   "metadata": {
    "colab": {
     "base_uri": "https://localhost:8080/"
    },
    "id": "sRQViCfdU3C9",
    "outputId": "0ee60877-61b9-446a-f60d-a3766c1b2062"
   },
   "outputs": [],
   "source": [
    "len(all_template_questions)"
   ]
  },
  {
   "cell_type": "markdown",
   "metadata": {
    "id": "kvha0Xp8a7cV"
   },
   "source": [
    "**Synthetic question answer generation**"
   ]
  },
  {
   "cell_type": "markdown",
   "metadata": {
    "id": "RU50LbiHbRPg"
   },
   "source": [
    "**Dataset 1**"
   ]
  },
  {
   "cell_type": "markdown",
   "metadata": {
    "id": "KJ7z39vOa3XL"
   },
   "source": [
    "Generate a simpler and smaller df for first NER test\n",
    " - Remove = or * from mutation nomenclature\n",
    " - Remove gene/mutation duplicates\n"
   ]
  },
  {
   "cell_type": "code",
   "execution_count": null,
   "metadata": {
    "id": "YqhJSmnn8zo9"
   },
   "outputs": [],
   "source": [
    "gdc_data['simple_mutation'] = gdc_data['mutation'].apply(lambda x: x.isalnum())"
   ]
  },
  {
   "cell_type": "code",
   "execution_count": null,
   "metadata": {
    "id": "cMFxYLJUIUUD"
   },
   "outputs": [],
   "source": [
    "dataset1 = gdc_data[gdc_data['simple_mutation']].copy()"
   ]
  },
  {
   "cell_type": "code",
   "execution_count": null,
   "metadata": {
    "id": "rMvQqEt0KZjv"
   },
   "outputs": [],
   "source": [
    "dataset1.drop_duplicates(['gene', 'mutation'], inplace=True)"
   ]
  },
  {
   "cell_type": "code",
   "execution_count": null,
   "metadata": {},
   "outputs": [],
   "source": [
    "dataset1.head()"
   ]
  },
  {
   "cell_type": "code",
   "execution_count": null,
   "metadata": {
    "colab": {
     "base_uri": "https://localhost:8080/"
    },
    "id": "lk11-xOOIdGK",
    "outputId": "d1eab7e0-ddd7-4d1c-d052-dccbc9aa3a7b"
   },
   "outputs": [],
   "source": [
    "dataset1.shape"
   ]
  },
  {
   "cell_type": "code",
   "execution_count": null,
   "metadata": {},
   "outputs": [],
   "source": [
    "# total number of question/intent pairs\n",
    "len(all_template_questions)*dataset1.shape[0]"
   ]
  },
  {
   "cell_type": "code",
   "execution_count": null,
   "metadata": {
    "id": "ZLojxgRNfHCK"
   },
   "outputs": [],
   "source": [
    "def generate_q_a(row, gene_list, mutation_list, template_index):\n",
    "  # generate question\n",
    "  gene_y = random.choice(gene_list)\n",
    "  mutation_y = random.choice(mutation_list)\n",
    "\n",
    "  try:\n",
    "    question = all_template_questions[template_index]\\\n",
    "      .replace(\"[mutation_x]\", row['mutation'])\\\n",
    "      .replace(\"[cancer]\", row['cancer']) \\\n",
    "      .replace(\"[gene_x]\", row['gene']) \\\n",
    "      .replace(\"[gene_y]\", gene_y)\\\n",
    "      .replace(\"[mutation_y]\", mutation_y)\n",
    "    intent = all_template_answers[template_index]\n",
    "\n",
    "  except Exception as e:\n",
    "    print('unable to generate question {}'.format(str(e)))\n",
    "\n",
    "  return question, intent\n"
   ]
  },
  {
   "cell_type": "code",
   "execution_count": null,
   "metadata": {
    "id": "-gAiyoJY2dVS"
   },
   "outputs": [],
   "source": [
    "# for double gene/mutation questions, get the list to randomly sample second one from\n",
    "gene_list = list(dataset1['gene'])\n",
    "mutation_list = list(dataset1['mutation'])\n"
   ]
  },
  {
   "cell_type": "code",
   "execution_count": null,
   "metadata": {
    "colab": {
     "base_uri": "https://localhost:8080/"
    },
    "id": "YkpEznhUlGHu",
    "outputId": "42a762f4-c331-4a90-f401-977a431b2736"
   },
   "outputs": [],
   "source": [
    "dataset1.shape"
   ]
  },
  {
   "cell_type": "code",
   "execution_count": null,
   "metadata": {
    "id": "jVe78Z2xlnfJ"
   },
   "outputs": [],
   "source": [
    "questions_intent_df = pd.DataFrame(columns=['gene', 'mutation', \n",
    "                                            'cancer', 'questions', \n",
    "                                            'intent'])"
   ]
  },
  {
   "cell_type": "code",
   "execution_count": null,
   "metadata": {
    "colab": {
     "base_uri": "https://localhost:8080/"
    },
    "id": "OVfPQUnsd-fg",
    "outputId": "0ed7ab2a-4a92-45cb-b5f7-6e42bab96708"
   },
   "outputs": [],
   "source": [
    "# generate a question for every row in dataset1\n",
    "dataset1_copy = dataset1.copy()\n",
    "\n",
    "for template_index in range(len(all_template_questions)):\n",
    "  dataset1_copy[['questions', 'intent']] = dataset1_copy.apply(\n",
    "    lambda row: generate_q_a(row, gene_list, mutation_list, template_index),\n",
    "    axis=1,result_type='expand'\n",
    "    )\n",
    "  questions_intent_df = pd.concat(\n",
    "    [questions_intent_df, \n",
    "     dataset1_copy[['gene', 'mutation', 'cancer', 'questions', 'intent']]\n",
    "    ]\n",
    "  )"
   ]
  },
  {
   "cell_type": "code",
   "execution_count": null,
   "metadata": {
    "colab": {
     "base_uri": "https://localhost:8080/"
    },
    "id": "WCis49GoaNDN",
    "outputId": "e395ac59-7395-489e-a58e-3a8f8d86ee67"
   },
   "outputs": [],
   "source": [
    "questions_intent_df.shape"
   ]
  },
  {
   "cell_type": "code",
   "execution_count": null,
   "metadata": {
    "colab": {
     "base_uri": "https://localhost:8080/",
     "height": 533
    },
    "id": "X1C93VBmTlf2",
    "outputId": "73668f0f-0f2e-49ca-e577-777c6edf2e32"
   },
   "outputs": [],
   "source": [
    "questions_intent_df.head(n=6)"
   ]
  },
  {
   "cell_type": "markdown",
   "metadata": {},
   "source": [
    "### `questions_intent_df` used to train BERT model"
   ]
  },
  {
   "cell_type": "code",
   "execution_count": null,
   "metadata": {
    "id": "E7a8mEsLaVgE"
   },
   "outputs": [],
   "source": [
    "questions_intent_df.to_csv('../csvs/dataset1.query.intent.gdc.csv', sep=',', header=True)"
   ]
  },
  {
   "cell_type": "markdown",
   "metadata": {
    "id": "SgnbI20Hpo8y"
   },
   "source": [
    "**Train BERT model to identify intent from query**\n"
   ]
  },
  {
   "cell_type": "code",
   "execution_count": null,
   "metadata": {
    "id": "Kq6nHXB0pwm4"
   },
   "outputs": [],
   "source": [
    "from transformers import BertTokenizer, BertForSequenceClassification, Trainer, TrainingArguments\n",
    "import torch"
   ]
  },
  {
   "cell_type": "code",
   "execution_count": null,
   "metadata": {
    "id": "OMLDFVE7tIDQ"
   },
   "outputs": [],
   "source": [
    "# map intent to labels\n",
    "intent_labels = { intent:float(idx) for idx, intent in enumerate(questions_intent_df['intent'].unique())}"
   ]
  },
  {
   "cell_type": "code",
   "execution_count": null,
   "metadata": {
    "colab": {
     "base_uri": "https://localhost:8080/"
    },
    "id": "IHLG48L5teax",
    "outputId": "c48ef409-a6d7-4f45-b808-4e31328a229c"
   },
   "outputs": [],
   "source": [
    "intent_labels"
   ]
  },
  {
   "cell_type": "code",
   "execution_count": null,
   "metadata": {
    "id": "ps_NU6BYtiiU"
   },
   "outputs": [],
   "source": [
    "questions_intent_df['label'] = questions_intent_df['intent'].map(intent_labels)"
   ]
  },
  {
   "cell_type": "code",
   "execution_count": null,
   "metadata": {
    "colab": {
     "base_uri": "https://localhost:8080/"
    },
    "id": "FMKbxjTPrxZ7",
    "outputId": "9162aafa-e4bc-4cbc-863b-453b8c0ed497"
   },
   "outputs": [],
   "source": [
    "len(questions_intent_df['label'])"
   ]
  },
  {
   "cell_type": "code",
   "execution_count": null,
   "metadata": {
    "colab": {
     "base_uri": "https://localhost:8080/",
     "height": 639
    },
    "id": "SvQ1aoCTto66",
    "outputId": "d1a6f36d-baf5-4654-a781-2a497ad79a97"
   },
   "outputs": [],
   "source": [
    "questions_intent_df.head(n=6)"
   ]
  },
  {
   "cell_type": "markdown",
   "metadata": {
    "id": "uGCjrdom0fd6"
   },
   "source": [
    "**split into training and validation sets**"
   ]
  },
  {
   "cell_type": "code",
   "execution_count": null,
   "metadata": {
    "id": "0gUMw38o0ddR"
   },
   "outputs": [],
   "source": [
    "from sklearn.model_selection import train_test_split\n"
   ]
  },
  {
   "cell_type": "code",
   "execution_count": null,
   "metadata": {
    "id": "NwBxCo920e7s"
   },
   "outputs": [],
   "source": [
    "# if you want to train on more rows, you need to move to\n",
    "# our GPU cluster. It takes half a day or so to train on 50k rows in colab notebook\n",
    "train_df, val_df = train_test_split(questions_intent_df, train_size=0.7, random_state=42)\n"
   ]
  },
  {
   "cell_type": "code",
   "execution_count": null,
   "metadata": {},
   "outputs": [],
   "source": [
    "train_df.shape, val_df.shape"
   ]
  },
  {
   "cell_type": "code",
   "execution_count": null,
   "metadata": {
    "id": "r_fO2vCh0qeW"
   },
   "outputs": [],
   "source": [
    "train_df.to_csv('../csvs/train.csv', sep=',', header=True)\n",
    "val_df.to_csv('../csvs/val.csv', sep=',', header=True)"
   ]
  },
  {
   "cell_type": "code",
   "execution_count": null,
   "metadata": {
    "id": "PbY0Hte70yca"
   },
   "outputs": [],
   "source": [
    "train_texts = train_df['questions'].tolist()\n",
    "train_labels = train_df['label'].tolist()\n",
    "val_texts = val_df['questions'].tolist()\n",
    "val_labels = val_df['label'].tolist()\n",
    "\n"
   ]
  },
  {
   "cell_type": "code",
   "execution_count": null,
   "metadata": {
    "colab": {
     "base_uri": "https://localhost:8080/"
    },
    "id": "JPxmYO2MuFT1",
    "outputId": "8590c74c-8c8c-485b-989e-b82ac8d12ddf"
   },
   "outputs": [],
   "source": [
    "print('train_texts {}'.format(len(train_texts)))\n",
    "print('train_labels {}'.format(len(train_labels)))\n",
    "print('val_texts {}'.format(len(val_texts)))\n",
    "print('val_labels {}'.format(len(val_labels)))\n",
    "\n",
    "tokenizer = BertTokenizer.from_pretrained('bert-base-uncased')\n"
   ]
  },
  {
   "cell_type": "code",
   "execution_count": null,
   "metadata": {
    "id": "2SlvdYK8uBt8"
   },
   "outputs": [],
   "source": [
    "def convert_labels(labels):\n",
    "  # convert labels to one-hot encoded labels\n",
    "  one_hot_labels = torch.zeros(len(labels), len(np.unique(labels)))\n",
    "  one_hot_labels = one_hot_labels.scatter_(1, torch.tensor(np.array(labels), dtype=torch.int64).unsqueeze(1), 1)\n",
    "\n",
    "  return one_hot_labels"
   ]
  },
  {
   "cell_type": "code",
   "execution_count": null,
   "metadata": {
    "id": "dHD02ZPMuc-I"
   },
   "outputs": [],
   "source": [
    "train_labels = convert_labels(train_labels)\n",
    "val_labels = convert_labels(val_labels)"
   ]
  },
  {
   "cell_type": "code",
   "execution_count": null,
   "metadata": {
    "colab": {
     "base_uri": "https://localhost:8080/"
    },
    "id": "dzB7rmiWunkx",
    "outputId": "8f53b472-a12e-499c-a900-84347757deb4"
   },
   "outputs": [],
   "source": [
    "train_labels"
   ]
  },
  {
   "cell_type": "code",
   "execution_count": null,
   "metadata": {
    "id": "oOGEVqUPuXAI"
   },
   "outputs": [],
   "source": [
    "# Tokenize the data\n",
    "train_encodings = tokenizer(train_texts, truncation=True, padding=True)\n",
    "val_encodings = tokenizer(val_texts, truncation=True, padding=True)\n"
   ]
  },
  {
   "cell_type": "code",
   "execution_count": null,
   "metadata": {
    "colab": {
     "base_uri": "https://localhost:8080/"
    },
    "id": "wBDmRuEbzzfK",
    "outputId": "f5b1a580-4436-4857-ebd5-e86ebe994a35"
   },
   "outputs": [],
   "source": [
    "train_encodings.keys()"
   ]
  },
  {
   "cell_type": "code",
   "execution_count": null,
   "metadata": {
    "colab": {
     "base_uri": "https://localhost:8080/"
    },
    "id": "pwYEr6Q2z47c",
    "outputId": "45e86ca3-62f2-4691-b099-886005280660"
   },
   "outputs": [],
   "source": [
    "len(train_encodings['input_ids'])"
   ]
  },
  {
   "cell_type": "code",
   "execution_count": null,
   "metadata": {
    "id": "chXlbP2Vu4LE"
   },
   "outputs": [],
   "source": [
    "class IntentDataset(torch.utils.data.Dataset):\n",
    "    def __init__(self, encodings, labels):\n",
    "        self.encodings = encodings\n",
    "        self.labels = labels\n",
    "\n",
    "    def __getitem__(self, idx):\n",
    "        item = {key: torch.tensor(val[idx]) for key, val in self.encodings.items()}\n",
    "        # item['labels'] = torch.tensor(self.labels[idx])\n",
    "        item['labels'] = self.labels[idx].clone().detach()\n",
    "\n",
    "        return item\n",
    "\n",
    "    def __len__(self):\n",
    "        return len(self.labels)"
   ]
  },
  {
   "cell_type": "code",
   "execution_count": null,
   "metadata": {
    "id": "rckFXkNnu_rR"
   },
   "outputs": [],
   "source": [
    "train_dataset = IntentDataset(train_encodings, train_labels)\n"
   ]
  },
  {
   "cell_type": "code",
   "execution_count": null,
   "metadata": {
    "colab": {
     "base_uri": "https://localhost:8080/"
    },
    "id": "NdqMpZop0QfH",
    "outputId": "e6da6b9c-215a-4439-8d9b-8d044275d525"
   },
   "outputs": [],
   "source": [
    "train_dataset.__getitem__(1)"
   ]
  },
  {
   "cell_type": "code",
   "execution_count": null,
   "metadata": {
    "colab": {
     "base_uri": "https://localhost:8080/"
    },
    "id": "rAthfQTRzRk2",
    "outputId": "674ef971-e5dd-4018-e21e-3117e59d6e45"
   },
   "outputs": [],
   "source": [
    "train_dataset.__len__()"
   ]
  },
  {
   "cell_type": "code",
   "execution_count": null,
   "metadata": {
    "id": "Qg-tMOU0vGJU"
   },
   "outputs": [],
   "source": [
    "val_dataset = IntentDataset(val_encodings, val_labels)\n"
   ]
  },
  {
   "cell_type": "markdown",
   "metadata": {
    "id": "ZsWzMDop0ptS"
   },
   "source": [
    "**BertSequenceClassification Model**\n"
   ]
  },
  {
   "cell_type": "code",
   "execution_count": null,
   "metadata": {
    "colab": {
     "base_uri": "https://localhost:8080/"
    },
    "id": "OAJ3wM6H0v1e",
    "outputId": "d93a55aa-073d-4bed-bd94-c836ab64b2f5"
   },
   "outputs": [],
   "source": [
    "model = BertForSequenceClassification.from_pretrained(\"bert-base-uncased\", num_labels=len(intent_labels))"
   ]
  },
  {
   "cell_type": "code",
   "execution_count": null,
   "metadata": {
    "colab": {
     "base_uri": "https://localhost:8080/"
    },
    "id": "Rrf_ngrT0-Zw",
    "outputId": "d6400716-8332-40c4-98c5-628e5f6c12fb"
   },
   "outputs": [],
   "source": [
    "training_args = TrainingArguments(\n",
    "    output_dir='./results',\n",
    "    evaluation_strategy=\"epoch\",\n",
    "    per_device_train_batch_size=4,\n",
    "    per_device_eval_batch_size=4,\n",
    "    num_train_epochs=2,\n",
    "    weight_decay=0.01,\n",
    "    logging_dir='./logs',\n",
    "    report_to=['none']\n",
    ")\n"
   ]
  },
  {
   "cell_type": "code",
   "execution_count": null,
   "metadata": {
    "id": "44fyNDeP1Emp"
   },
   "outputs": [],
   "source": [
    "trainer = Trainer(\n",
    "    model=model,\n",
    "    args=training_args,\n",
    "    train_dataset=train_dataset,\n",
    "    eval_dataset=val_dataset,\n",
    ")\n"
   ]
  },
  {
   "cell_type": "code",
   "execution_count": null,
   "metadata": {
    "colab": {
     "base_uri": "https://localhost:8080/",
     "height": 540
    },
    "id": "abfyVjFy1IQG",
    "outputId": "c5f0b8a2-e01c-4bf1-a477-dd0a493ebcd0"
   },
   "outputs": [],
   "source": [
    "trainer.train()\n"
   ]
  },
  {
   "cell_type": "code",
   "execution_count": null,
   "metadata": {
    "colab": {
     "base_uri": "https://localhost:8080/",
     "height": 179
    },
    "id": "7XBRaoTUqgEe",
    "outputId": "cad28ccc-7c69-4d5b-b25c-717369167e38"
   },
   "outputs": [],
   "source": [
    "trainer.evaluate()"
   ]
  },
  {
   "cell_type": "markdown",
   "metadata": {
    "id": "MOLEG2NNsS0U"
   },
   "source": [
    "**Save the model and tokenizer**"
   ]
  },
  {
   "cell_type": "code",
   "execution_count": null,
   "metadata": {
    "id": "x9BFfQ_5sRx7"
   },
   "outputs": [],
   "source": [
    "torch.save(model, 'query_intent_model.pt')\n"
   ]
  },
  {
   "cell_type": "markdown",
   "metadata": {
    "id": "X3zxZUprqzti"
   },
   "source": [
    "**Load and test the model**"
   ]
  },
  {
   "cell_type": "code",
   "execution_count": null,
   "metadata": {
    "colab": {
     "base_uri": "https://localhost:8080/"
    },
    "id": "8x7WQIJytAKx",
    "outputId": "098e6534-9541-4510-8e63-413dd5976a9a"
   },
   "outputs": [],
   "source": [
    "model_load = torch.load('query_intent_model.pt')"
   ]
  },
  {
   "cell_type": "code",
   "execution_count": null,
   "metadata": {
    "id": "_YqqIW4Nqypr"
   },
   "outputs": [],
   "source": [
    "test_query_list = [\n",
    "    'How frequently are JAK2 V617F mutations detected in Lymphoid Leukemia in the genomic data commons?',\n",
    "    'What is the incidence of simple somatic mutations in JAK2 in the genomic data commons for Lymphoid Leukemia ?',\n",
    "    'How frequently are MAP2K1 P124S mutations detected in Melanoma in the genomic data commons?',\n",
    "    \"what is the frequency of BRAF V600E in breast cancers?\",\n",
    "    \"what is the prevalence of MSI H in colorectal cancers?\",\n",
    "    'what is the frequency of BRCA1 LOH in TCGA-BRCA project?',\n",
    "    'how many low grade gliomas have mutations in IDH1 or IDH2?',\n",
    "    'How many low grade gliomas have a mutation in IDH1 or IDH2 in the genomic data commons?',\n",
    "    'how widespread are KRAS G12D mutations in pancreatic cancer?',\n",
    "    'what percentage of cases have mutations in both KRAS G12D and BRAF V600E mutations in the TCGA-BRCA project?',\n",
    "    'what is the frequency of cases with mutations in ATRX and EGFR amplification in the TCGA-LGG project?',\n",
    "    'Could you provide the rate of BRCA1 mutations and BRCA2 deletions among breast cancer cases?',\n",
    "    'what is the frequency of cases with somatic mutations in TNS1 and amplifications in STK19 in [cancer] in the genomic data commons?'\n",
    "]"
   ]
  },
  {
   "cell_type": "markdown",
   "metadata": {
    "id": "5-y43DeTSlwW"
   },
   "source": [
    "**predict labels for text**\n"
   ]
  },
  {
   "cell_type": "code",
   "execution_count": null,
   "metadata": {
    "colab": {
     "base_uri": "https://localhost:8080/"
    },
    "id": "o_-r_g20rK70",
    "outputId": "e9072890-8253-4d75-be4f-d0c5b020acf1"
   },
   "outputs": [],
   "source": [
    "for test_query in test_query_list:\n",
    "  # set device and load both model and query on the same device\n",
    "  device = torch.device(\"cuda\" if torch.cuda.is_available() else \"cpu\")\n",
    "  model.to(device)\n",
    "  print('testing query: {}'.format(test_query))\n",
    "  inputs = tokenizer(test_query, return_tensors=\"pt\", truncation=True, padding=True)\n",
    "  inputs = {k:v.to(device) for k, v in inputs.items()}\n",
    "  # pass tokenized input through the model\n",
    "  outputs = model(**inputs)\n",
    "  print('output logits {}'.format(outputs))\n",
    "  #outputs are logits, need to apply softmax to convert to probs\n",
    "  probs = torch.nn.functional.softmax(outputs.logits, dim=1)\n",
    "  print('probs: {}'.format(probs))\n",
    "  predicted_label = torch.argmax(probs, dim=1).item()\n",
    "  for k,v in intent_labels.items():\n",
    "    if v == predicted_label:\n",
    "      print('predicted label: {}\\n'.format(k))"
   ]
  }
 ],
 "metadata": {
  "colab": {
   "machine_shape": "hm",
   "provenance": []
  },
  "kernelspec": {
   "display_name": "Python 3",
   "name": "python3"
  },
  "language_info": {
   "codemirror_mode": {
    "name": "ipython",
    "version": 3
   },
   "file_extension": ".py",
   "mimetype": "text/x-python",
   "name": "python",
   "nbconvert_exporter": "python",
   "pygments_lexer": "ipython3",
   "version": "3.9.2"
  }
 },
 "nbformat": 4,
 "nbformat_minor": 0
}
