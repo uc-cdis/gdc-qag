{
 "cells": [
  {
   "cell_type": "code",
   "execution_count": 1,
   "id": "73ffffe0",
   "metadata": {},
   "outputs": [],
   "source": [
    "import os\n",
    "os.environ[\"CUDA_VISIBLE_DEVICES\"] = \"0\""
   ]
  },
  {
   "cell_type": "code",
   "execution_count": 2,
   "id": "5cc749f2",
   "metadata": {},
   "outputs": [],
   "source": [
    "import sys\n",
    "from pathlib import Path\n",
    "\n",
    "# this notebook is in notebooks — define project root\n",
    "project_root = Path().resolve().parent\n",
    "sys.path.append(str(project_root))"
   ]
  },
  {
   "cell_type": "code",
   "execution_count": 3,
   "id": "80cc87de",
   "metadata": {},
   "outputs": [],
   "source": [
    "import gradio as gr\n",
    "import pandas as pd\n",
    "from gdc_pipeline import execute_pipeline\n",
    "from gdc_pipeline import setup_args"
   ]
  },
  {
   "cell_type": "code",
   "execution_count": 4,
   "id": "2a6023ff",
   "metadata": {},
   "outputs": [],
   "source": [
    "# init a dummy list\n",
    "sys.argv = ['prog', '--question', 'dummy']\n",
    "args = setup_args()"
   ]
  },
  {
   "cell_type": "code",
   "execution_count": 5,
   "id": "96bb6671",
   "metadata": {},
   "outputs": [
    {
     "data": {
      "text/plain": [
       "Namespace(input_file=None, question='dummy', intent_model_path='/opt/gpudata/aartiv/qag/query_intent_model.pt', path_to_gdc_genes_mutations_file='/opt/gpudata/aartiv/qag/gdc_genes_mutations.json')"
      ]
     },
     "execution_count": 5,
     "metadata": {},
     "output_type": "execute_result"
    }
   ],
   "source": [
    "args"
   ]
  },
  {
   "cell_type": "code",
   "execution_count": 6,
   "id": "1e18fe15",
   "metadata": {},
   "outputs": [],
   "source": [
    "def wrapped_execute_pipeline(question: str):\n",
    "    df = pd.DataFrame({'questions' : [question]})\n",
    "    print(f'Question received: {question}')\n",
    "    return execute_pipeline(\n",
    "        df=df,\n",
    "        intent_model_path=args.intent_model_path,\n",
    "        path_to_gdc_genes_mutations=args.path_to_gdc_genes_mutations_file,\n",
    "        output_file_prefix=None\n",
    "    )"
   ]
  },
  {
   "cell_type": "code",
   "execution_count": 7,
   "id": "891791da",
   "metadata": {},
   "outputs": [],
   "source": [
    "question = 'What is the frequency of KRAS G12D mutation in the colon adenocarcinoma project TCGA-COAD in the genomic data commons?'"
   ]
  },
  {
   "cell_type": "code",
   "execution_count": 8,
   "id": "48e40daf",
   "metadata": {},
   "outputs": [
    {
     "name": "stdout",
     "output_type": "stream",
     "text": [
      "Question received: What is the frequency of KRAS G12D mutation in the colon adenocarcinoma project TCGA-COAD in the genomic data commons?\n",
      "starting pipeline\n",
      "loading HF token\n",
      "getting gdc project information\n",
      "loading gdc genes and mutations\n"
     ]
    },
    {
     "name": "stdout",
     "output_type": "stream",
     "text": [
      "loading llama model\n"
     ]
    },
    {
     "data": {
      "application/vnd.jupyter.widget-view+json": {
       "model_id": "0f696aeb06e04445adf6d7be8de5d2ab",
       "version_major": 2,
       "version_minor": 0
      },
      "text/plain": [
       "Loading checkpoint shards:   0%|          | 0/2 [00:00<?, ?it/s]"
      ]
     },
     "metadata": {},
     "output_type": "display_data"
    },
    {
     "name": "stdout",
     "output_type": "stream",
     "text": [
      "running test on input                                            questions\n",
      "0  What is the frequency of KRAS G12D mutation in...\n"
     ]
    },
    {
     "name": "stderr",
     "output_type": "stream",
     "text": [
      "  0%|          | 0/1 [00:00<?, ?it/s]gpustat is not installed, run `pip install gpustat` to collect GPU stats.\n"
     ]
    },
    {
     "data": {
      "application/vnd.jupyter.widget-view+json": {
       "model_id": "0dc1176b24244fe2ac3f910df32aaeb4",
       "version_major": 2,
       "version_minor": 0
      },
      "text/plain": [
       "StitchWidget(initial_height='auto', initial_width='100%', srcdoc='<!doctype html>\\n<html lang=\"en\">\\n<head>\\n …"
      ]
     },
     "metadata": {},
     "output_type": "display_data"
    },
    {
     "name": "stdout",
     "output_type": "stream",
     "text": [
      "query:\n",
      "What is the frequency of KRAS G12D mutation in the colon adenocarcinoma project TCGA-COAD in the genomic data commons?\n",
      "\n"
     ]
    },
    {
     "name": "stderr",
     "output_type": "stream",
     "text": [
      "/home/aartiv/.cache/pypoetry/virtualenvs/gdc-qag-3gr8ijm6-py3.10/lib/python3.10/site-packages/spacy/language.py:2195: FutureWarning: Possible set union at position 6328\n",
      "  deserializers[\"tokenizer\"] = lambda p: self.tokenizer.from_disk(  # type: ignore[union-attr]\n"
     ]
    },
    {
     "name": "stdout",
     "output_type": "stream",
     "text": [
      "gene entities ['KRAS']\n",
      "mutation entities ['G12D']\n",
      "cancer entities ['TCGA-COAD']\n"
     ]
    },
    {
     "name": "stderr",
     "output_type": "stream",
     "text": [
      "/home/aartiv/gdc-qag/methods/utilities.py:49: FutureWarning: You are using `torch.load` with `weights_only=False` (the current default value), which uses the default pickle module implicitly. It is possible to construct malicious pickle data which will execute arbitrary code during unpickling (See https://github.com/pytorch/pytorch/blob/main/SECURITY.md#untrusted-models for more details). In a future release, the default value for `weights_only` will be flipped to `True`. This limits the functions that could be executed during unpickling. Arbitrary objects will no longer be allowed to be loaded via this mode unless they are explicitly allowlisted by the user via `torch.serialization.add_safe_globals`. We recommend you start setting `weights_only=True` for any use case where you don't have full control of the loaded file. Please open an issue on GitHub for any issues related to this experimental feature.\n",
      "  model = torch.load(intent_model_path)\n"
     ]
    },
    {
     "name": "stdout",
     "output_type": "stream",
     "text": [
      "user intent:\n",
      "ssm_frequency\n",
      "\n"
     ]
    },
    {
     "name": "stderr",
     "output_type": "stream",
     "text": [
      "100%|██████████| 1/1 [00:32<00:00, 32.62s/it]\n"
     ]
    },
    {
     "name": "stdout",
     "output_type": "stream",
     "text": [
      "api_call_result ['The frequency of KRAS_G12D in TCGA-COAD is 12.62%']\n"
     ]
    },
    {
     "name": "stderr",
     "output_type": "stream",
     "text": [
      "100%|██████████| 1/1 [00:03<00:00,  3.11s/it]\n"
     ]
    },
    {
     "name": "stdout",
     "output_type": "stream",
     "text": [
      "postprocessing response\n"
     ]
    },
    {
     "name": "stderr",
     "output_type": "stream",
     "text": [
      "100%|██████████| 1/1 [00:00<00:00, 524.55it/s]\n"
     ]
    },
    {
     "name": "stdout",
     "output_type": "stream",
     "text": [
      "                                                                   0\n",
      "questions          What is the frequency of KRAS G12D mutation in...\n",
      "llama_base_output                          The final answer is: 1.8%\n",
      "helper_output      The frequency of KRAS_G12D in TCGA-COAD is 12.62%\n",
      "cancer_entities                                            TCGA-COAD\n",
      "gene_entities                                                 [KRAS]\n",
      "mutation_entities                                             [G12D]\n",
      "modified_prompt    What is the frequency of KRAS G12D mutation in...\n",
      "ground_truth_stat                                              12.62\n",
      "llama_base_stat                                                  1.8\n",
      "delta_llama                                                   -10.82\n",
      "final_response                           The final answer is: 12.62%\n",
      "completed\n"
     ]
    }
   ],
   "source": [
    "wrapped_execute_pipeline(question)"
   ]
  }
 ],
 "metadata": {
  "kernelspec": {
   "display_name": "Python Poetry venv-3.10.13",
   "language": "python",
   "name": "venv-3.10.13"
  },
  "language_info": {
   "codemirror_mode": {
    "name": "ipython",
    "version": 3
   },
   "file_extension": ".py",
   "mimetype": "text/x-python",
   "name": "python",
   "nbconvert_exporter": "python",
   "pygments_lexer": "ipython3",
   "version": "3.10.13"
  }
 },
 "nbformat": 4,
 "nbformat_minor": 5
}
