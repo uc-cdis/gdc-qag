{
 "cells": [
  {
   "cell_type": "code",
   "execution_count": 17,
   "id": "73ffffe0",
   "metadata": {},
   "outputs": [],
   "source": [
    "import os\n",
    "os.environ[\"CUDA_VISIBLE_DEVICES\"] = \"0\""
   ]
  },
  {
   "cell_type": "code",
   "execution_count": 18,
   "id": "5cc749f2",
   "metadata": {},
   "outputs": [],
   "source": [
    "import sys\n",
    "from pathlib import Path\n",
    "\n",
    "# this notebook is in notebooks — define project root\n",
    "project_root = Path().resolve().parent\n",
    "sys.path.append(str(project_root))"
   ]
  },
  {
   "cell_type": "code",
   "execution_count": 19,
   "id": "80cc87de",
   "metadata": {},
   "outputs": [],
   "source": [
    "import gradio as gr\n",
    "import pandas as pd\n",
    "from gdc_pipeline import execute_pipeline\n",
    "from gdc_pipeline import setup_args"
   ]
  },
  {
   "cell_type": "code",
   "execution_count": 20,
   "id": "2a6023ff",
   "metadata": {},
   "outputs": [],
   "source": [
    "# init a dummy list\n",
    "sys.argv = ['prog', '--question', 'dummy']\n",
    "args = setup_args()"
   ]
  },
  {
   "cell_type": "code",
   "execution_count": 21,
   "id": "96bb6671",
   "metadata": {},
   "outputs": [
    {
     "data": {
      "text/plain": [
       "Namespace(input_file=None, question='dummy', intent_model_path='/opt/gpudata/aartiv/qag/query_intent_model.pt', path_to_gdc_genes_mutations_file='/opt/gpudata/aartiv/qag/gdc_genes_mutations.json')"
      ]
     },
     "execution_count": 21,
     "metadata": {},
     "output_type": "execute_result"
    }
   ],
   "source": [
    "args"
   ]
  },
  {
   "cell_type": "code",
   "execution_count": 26,
   "id": "1e18fe15",
   "metadata": {},
   "outputs": [],
   "source": [
    "def wrapped_execute_pipeline(question: str):\n",
    "    df = pd.DataFrame({'questions' : [question]})\n",
    "    print(f'Question received: {question}')\n",
    "    try:\n",
    "        return execute_pipeline(\n",
    "            df=df,\n",
    "            intent_model_path=args.intent_model_path,\n",
    "            path_to_gdc_genes_mutations=args.path_to_gdc_genes_mutations_file,\n",
    "            output_file_prefix=None\n",
    "        )\n",
    "    except Exception as e:\n",
    "        print('Unable to execute GDC API, can you please retry? {}'.format(str(e)))"
   ]
  },
  {
   "cell_type": "code",
   "execution_count": 27,
   "id": "891791da",
   "metadata": {},
   "outputs": [],
   "source": [
    "question = 'What is the co-occurence frequency of somatic homozygous deletions in CDKN2A and CDKN2B in the mesothelioma project TCGA-MESO in the genomic data commons?'"
   ]
  },
  {
   "cell_type": "code",
   "execution_count": 28,
   "id": "48e40daf",
   "metadata": {},
   "outputs": [
    {
     "name": "stdout",
     "output_type": "stream",
     "text": [
      "Question received: What is the co-occurence frequency of somatic homozygous deletions in CDKN2A and CDKN2B in the mesothelioma project TCGA-MESO in the genomic data commons?\n",
      "starting pipeline\n",
      "loading HF token\n",
      "getting gdc project information\n",
      "loading gdc genes and mutations\n",
      "loading llama model\n"
     ]
    },
    {
     "data": {
      "application/vnd.jupyter.widget-view+json": {
       "model_id": "3df2493d435642448a1db9bffcf23fc9",
       "version_major": 2,
       "version_minor": 0
      },
      "text/plain": [
       "Loading checkpoint shards:   0%|          | 0/2 [00:00<?, ?it/s]"
      ]
     },
     "metadata": {},
     "output_type": "display_data"
    },
    {
     "name": "stdout",
     "output_type": "stream",
     "text": [
      "running test on input                                            questions\n",
      "0  What is the co-occurence frequency of somatic ...\n"
     ]
    },
    {
     "name": "stderr",
     "output_type": "stream",
     "text": [
      "  0%|          | 0/1 [00:00<?, ?it/s]"
     ]
    },
    {
     "data": {
      "application/vnd.jupyter.widget-view+json": {
       "model_id": "94657181e3e74d95b610e9bc6fc19bfc",
       "version_major": 2,
       "version_minor": 0
      },
      "text/plain": [
       "StitchWidget(initial_height='auto', initial_width='100%', srcdoc='<!doctype html>\\n<html lang=\"en\">\\n<head>\\n …"
      ]
     },
     "metadata": {},
     "output_type": "display_data"
    },
    {
     "name": "stdout",
     "output_type": "stream",
     "text": [
      "query:\n",
      "What is the co-occurence frequency of somatic homozygous deletions in CDKN2A and CDKN2B in the mesothelioma project TCGA-MESO in the genomic data commons?\n",
      "\n",
      "gene entities ['CDKN2A', 'CDKN2B']\n",
      "mutation entities []\n",
      "cancer entities ['TCGA-MESO']\n"
     ]
    },
    {
     "name": "stderr",
     "output_type": "stream",
     "text": [
      "/home/aartiv/gdc-qag/methods/utilities.py:50: FutureWarning: You are using `torch.load` with `weights_only=False` (the current default value), which uses the default pickle module implicitly. It is possible to construct malicious pickle data which will execute arbitrary code during unpickling (See https://github.com/pytorch/pytorch/blob/main/SECURITY.md#untrusted-models for more details). In a future release, the default value for `weights_only` will be flipped to `True`. This limits the functions that could be executed during unpickling. Arbitrary objects will no longer be allowed to be loaded via this mode unless they are explicitly allowlisted by the user via `torch.serialization.add_safe_globals`. We recommend you start setting `weights_only=True` for any use case where you don't have full control of the loaded file. Please open an issue on GitHub for any issues related to this experimental feature.\n",
      "  model = torch.load(intent_model_path)\n"
     ]
    },
    {
     "name": "stdout",
     "output_type": "stream",
     "text": [
      "user intent:\n",
      "freq_cnv_loss_or_gain\n",
      "\n"
     ]
    },
    {
     "name": "stderr",
     "output_type": "stream",
     "text": [
      "100%|██████████| 1/1 [00:16<00:00, 16.80s/it]\n"
     ]
    },
    {
     "name": "stdout",
     "output_type": "stream",
     "text": [
      "execute_api_call took 1.0680 seconds\n",
      "api_call_result ['joint frequency in TCGA-MESO is 44.83%']\n",
      "construct_and_execute_api_call took 13.6820 seconds\n",
      "batch_test took 16.7976 seconds\n"
     ]
    },
    {
     "name": "stderr",
     "output_type": "stream",
     "text": [
      "100%|██████████| 1/1 [00:06<00:00,  6.24s/it]\n"
     ]
    },
    {
     "name": "stdout",
     "output_type": "stream",
     "text": [
      "get_prefinal_response took 6.2400 seconds\n",
      "postprocessing response\n"
     ]
    },
    {
     "name": "stderr",
     "output_type": "stream",
     "text": [
      "100%|██████████| 1/1 [00:00<00:00, 640.45it/s]"
     ]
    },
    {
     "name": "stdout",
     "output_type": "stream",
     "text": [
      "                                                                   0\n",
      "questions          What is the co-occurence frequency of somatic ...\n",
      "llama_base_output                          The final answer is: 0.0%\n",
      "helper_output                 joint frequency in TCGA-MESO is 44.83%\n",
      "cancer_entities                                            TCGA-MESO\n",
      "gene_entities                                       [CDKN2A, CDKN2B]\n",
      "mutation_entities                                                 []\n",
      "modified_prompt    What is the co-occurence frequency of somatic ...\n",
      "ground_truth_stat                                              44.83\n",
      "llama_base_stat                                                  0.0\n",
      "delta_llama                                                   -44.83\n",
      "final_response                           The final answer is: 44.83%\n",
      "completed\n"
     ]
    },
    {
     "name": "stderr",
     "output_type": "stream",
     "text": [
      "\n"
     ]
    },
    {
     "name": "stdout",
     "output_type": "stream",
     "text": [
      "execute_pipeline took 30.5813 seconds\n"
     ]
    }
   ],
   "source": [
    "wrapped_execute_pipeline(question)"
   ]
  }
 ],
 "metadata": {
  "kernelspec": {
   "display_name": "Python Poetry venv-3.10.13",
   "language": "python",
   "name": "venv-3.10.13"
  },
  "language_info": {
   "codemirror_mode": {
    "name": "ipython",
    "version": 3
   },
   "file_extension": ".py",
   "mimetype": "text/x-python",
   "name": "python",
   "nbconvert_exporter": "python",
   "pygments_lexer": "ipython3",
   "version": "3.10.13"
  }
 },
 "nbformat": 4,
 "nbformat_minor": 5
}
