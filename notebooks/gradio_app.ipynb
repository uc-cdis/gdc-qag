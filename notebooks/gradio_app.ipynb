{
 "cells": [
  {
   "cell_type": "code",
   "execution_count": null,
   "id": "0",
   "metadata": {},
   "outputs": [],
   "source": [
    "import os\n",
    "os.environ[\"CUDA_VISIBLE_DEVICES\"] = \"0\""
   ]
  },
  {
   "cell_type": "code",
   "execution_count": null,
   "id": "1",
   "metadata": {},
   "outputs": [],
   "source": [
    "import sys\n",
    "from pathlib import Path\n",
    "\n",
    "# this notebook is in notebooks — define project root\n",
    "project_root = Path().resolve().parent\n",
    "sys.path.append(str(project_root))"
   ]
  },
  {
   "cell_type": "code",
   "execution_count": null,
   "id": "2",
   "metadata": {},
   "outputs": [],
   "source": [
    "import gradio as gr\n",
    "import pandas as pd\n",
    "from gdc_pipeline import execute_pipeline\n",
    "from gdc_pipeline import setup_args"
   ]
  },
  {
   "cell_type": "code",
   "execution_count": null,
   "id": "3",
   "metadata": {},
   "outputs": [],
   "source": [
    "# init a dummy list\n",
    "sys.argv = ['prog', '--question', 'dummy']\n",
    "args = setup_args()"
   ]
  },
  {
   "cell_type": "code",
   "execution_count": null,
   "id": "4",
   "metadata": {},
   "outputs": [],
   "source": [
    "args"
   ]
  },
  {
   "cell_type": "code",
   "execution_count": null,
   "id": "5",
   "metadata": {},
   "outputs": [],
   "source": [
    "def wrapped_execute_pipeline(question: str):\n",
    "    df = pd.DataFrame({'questions' : [question]})\n",
    "    print(f'Question received: {question}')\n",
    "    try:\n",
    "#         return str(dfj)\n",
    "        return execute_pipeline(\n",
    "            df=df,\n",
    "            intent_model_path=args.intent_model_path,\n",
    "            path_to_gdc_genes_mutations=args.path_to_gdc_genes_mutations_file,\n",
    "            output_file_prefix=None\n",
    "        )\n",
    "    except Exception as e:\n",
    "        print('Unable to execute GDC API, can you please retry? {}'.format(str(e)))"
   ]
  },
  {
   "cell_type": "code",
   "execution_count": null,
   "id": "6",
   "metadata": {},
   "outputs": [],
   "source": [
    "question = 'What is the co-occurence frequency of somatic homozygous deletions in CDKN2A and CDKN2B in the mesothelioma project TCGA-MESO in the genomic data commons?'"
   ]
  },
  {
   "cell_type": "code",
   "execution_count": null,
   "id": "7",
   "metadata": {},
   "outputs": [],
   "source": [
    "def visible_component(input_text):\n",
    "    return gr.update(value=\"WHATEVER\")\n",
    "\n",
    "\n",
    "# Create Gradio interface\n",
    "with gr.Blocks(title=\"GDC QAG MCP server\") as demo:\n",
    "    gr.Markdown(\n",
    "        \"\"\"\n",
    "        # GDC QAG Service\n",
    "        \"\"\"\n",
    "    )\n",
    "\n",
    "    with gr.Row():\n",
    "        query_input = gr.Textbox(\n",
    "            lines = 3,\n",
    "            label=\"Search Query\",\n",
    "            placeholder='e.g. \"What is the co-occurence frequency of somatic homozygous deletions in CDKN2A and CDKN2B in the mesothelioma project TCGA-MESO in the genomic data commons?\"',\n",
    "            info=\"Required: Enter your search query\",\n",
    "        )\n",
    "\n",
    "    search_button = gr.Button(\"Search\", variant=\"primary\")\n",
    "\n",
    "    output = gr.Textbox(\n",
    "        label=\"Query Result\",\n",
    "        lines=10,\n",
    "        max_lines=25,\n",
    "        info=\"The Result of the Query will appear here\",\n",
    "    )\n",
    "\n",
    "    search_button.click(\n",
    "        fn=wrapped_execute_pipeline,\n",
    "        inputs=[query_input],\n",
    "        outputs=output,\n",
    "    )"
   ]
  },
  {
   "cell_type": "code",
   "execution_count": null,
   "id": "8",
   "metadata": {},
   "outputs": [],
   "source": [
    "demo.launch()"
   ]
  },
  {
   "cell_type": "code",
   "execution_count": null,
   "id": "9",
   "metadata": {},
   "outputs": [],
   "source": [
    "# wrapped_execute_pipeline(question)"
   ]
  },
  {
   "cell_type": "code",
   "execution_count": null,
   "id": "10",
   "metadata": {},
   "outputs": [],
   "source": []
  }
 ],
 "metadata": {
  "kernelspec": {
   "display_name": "Python 3 (ipykernel)",
   "language": "python",
   "name": "python3"
  },
  "language_info": {
   "codemirror_mode": {
    "name": "ipython",
    "version": 3
   },
   "file_extension": ".py",
   "mimetype": "text/x-python",
   "name": "python",
   "nbconvert_exporter": "python",
   "pygments_lexer": "ipython3",
   "version": "3.10.12"
  }
 },
 "nbformat": 4,
 "nbformat_minor": 5
}
