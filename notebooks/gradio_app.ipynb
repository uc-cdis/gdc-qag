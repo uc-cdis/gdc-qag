{
 "cells": [
  {
   "cell_type": "code",
   "execution_count": 1,
   "id": "0",
   "metadata": {},
   "outputs": [],
   "source": [
    "import os\n",
    "os.environ[\"CUDA_VISIBLE_DEVICES\"] = \"0\""
   ]
  },
  {
   "cell_type": "code",
   "execution_count": 2,
   "id": "1",
   "metadata": {},
   "outputs": [],
   "source": [
    "import sys\n",
    "from pathlib import Path\n",
    "\n",
    "# this notebook is in notebooks — define project root\n",
    "project_root = Path().resolve().parent\n",
    "sys.path.append(str(project_root))"
   ]
  },
  {
   "cell_type": "code",
   "execution_count": 3,
   "id": "2",
   "metadata": {},
   "outputs": [],
   "source": [
    "import gradio as gr\n",
    "import pandas as pd\n",
    "from gdc_pipeline import execute_pipeline\n",
    "from gdc_pipeline import setup_args\n",
    "from gdc_pipeline import setup_models_and_data"
   ]
  },
  {
   "cell_type": "code",
   "execution_count": 4,
   "id": "3",
   "metadata": {},
   "outputs": [],
   "source": [
    "# init a dummy list\n",
    "sys.argv = ['prog', '--question', 'dummy']\n",
    "args = setup_args()"
   ]
  },
  {
   "cell_type": "code",
   "execution_count": 5,
   "id": "4",
   "metadata": {},
   "outputs": [
    {
     "data": {
      "text/plain": [
       "Namespace(input_file=None, question='dummy')"
      ]
     },
     "execution_count": 5,
     "metadata": {},
     "output_type": "execute_result"
    }
   ],
   "source": [
    "args"
   ]
  },
  {
   "cell_type": "code",
   "execution_count": 6,
   "id": "387a9b7e",
   "metadata": {},
   "outputs": [
    {
     "name": "stdout",
     "output_type": "stream",
     "text": [
      "loading HF token\n",
      "getting gdc project information\n",
      "loading gdc genes and mutations\n",
      "loading llama-3B model\n"
     ]
    },
    {
     "data": {
      "application/vnd.jupyter.widget-view+json": {
       "model_id": "7f7ea2ce18424d0389c400b8b8b2cb6d",
       "version_major": 2,
       "version_minor": 0
      },
      "text/plain": [
       "Loading checkpoint shards:   0%|          | 0/2 [00:00<?, ?it/s]"
      ]
     },
     "metadata": {},
     "output_type": "display_data"
    },
    {
     "name": "stdout",
     "output_type": "stream",
     "text": [
      "loading intent model\n"
     ]
    }
   ],
   "source": [
    "# setup models and data\n",
    "qag_requirements = setup_models_and_data()"
   ]
  },
  {
   "cell_type": "code",
   "execution_count": 7,
   "id": "5",
   "metadata": {},
   "outputs": [],
   "source": [
    "def wrapped_execute_pipeline(question: str):\n",
    "    df = pd.DataFrame({'questions' : [question]})\n",
    "    print(f'Question received: {question}')\n",
    "    try:\n",
    "        result = execute_pipeline(\n",
    "            df,\n",
    "            qag_requirements.gdc_genes_mutations,\n",
    "            qag_requirements.model,\n",
    "            qag_requirements.tok,\n",
    "            qag_requirements.intent_model,\n",
    "            qag_requirements.intent_tok,\n",
    "            qag_requirements.project_mappings,\n",
    "            output_file_prefix=None\n",
    "        )\n",
    "    except Exception as e:\n",
    "        result = 'Unable to execute GDC API, can you please retry with a template question?'\n",
    "    return result"
   ]
  },
  {
   "cell_type": "code",
   "execution_count": 8,
   "id": "6",
   "metadata": {},
   "outputs": [],
   "source": [
    "question = 'What is the co-occurence frequency of somatic homozygous deletions in CDKN2A and CDKN2B in the mesothelioma project TCGA-MESO in the genomic data commons?'"
   ]
  },
  {
   "cell_type": "code",
   "execution_count": 9,
   "id": "7",
   "metadata": {},
   "outputs": [],
   "source": [
    "def visible_component(input_text):\n",
    "    return gr.update(value=\"WHATEVER\")\n",
    "\n",
    "\n",
    "# Create Gradio interface\n",
    "with gr.Blocks(title=\"GDC QAG MCP server\") as demo:\n",
    "    gr.Markdown(\n",
    "        \"\"\"\n",
    "        # GDC QAG Service\n",
    "        \"\"\"\n",
    "    )\n",
    "\n",
    "    with gr.Row():\n",
    "        query_input = gr.Textbox(\n",
    "            lines = 3,\n",
    "            label=\"Search Query\",\n",
    "            placeholder='e.g. \"What is the co-occurence frequency of somatic homozygous deletions in CDKN2A and CDKN2B in the mesothelioma project TCGA-MESO in the genomic data commons?\"',\n",
    "            info=\"Required: Enter your search query\",\n",
    "        )\n",
    "\n",
    "    search_button = gr.Button(\"Search\", variant=\"primary\")\n",
    "\n",
    "    output = gr.Textbox(\n",
    "        label=\"Query Result\",\n",
    "        lines=10,\n",
    "        max_lines=25,\n",
    "        info=\"The Result of the Query will appear here\",\n",
    "    )\n",
    "\n",
    "    search_button.click(\n",
    "        fn=wrapped_execute_pipeline,\n",
    "        inputs=[query_input],\n",
    "        outputs=output,\n",
    "    )"
   ]
  },
  {
   "cell_type": "code",
   "execution_count": 10,
   "id": "8",
   "metadata": {},
   "outputs": [
    {
     "name": "stdout",
     "output_type": "stream",
     "text": [
      "None\n",
      "* Running on local URL:  http://127.0.0.1:7862\n",
      "* To create a public link, set `share=True` in `launch()`.\n",
      "\n",
      "🔨 MCP server (using SSE) running at: http://127.0.0.1:7862/gradio_api/mcp/sse\n"
     ]
    },
    {
     "data": {
      "text/html": [
       "<div><iframe src=\"http://127.0.0.1:7862/\" width=\"100%\" height=\"500\" allow=\"autoplay; camera; microphone; clipboard-read; clipboard-write;\" frameborder=\"0\" allowfullscreen></iframe></div>"
      ],
      "text/plain": [
       "<IPython.core.display.HTML object>"
      ]
     },
     "metadata": {},
     "output_type": "display_data"
    },
    {
     "data": {
      "text/plain": []
     },
     "execution_count": 10,
     "metadata": {},
     "output_type": "execute_result"
    },
    {
     "name": "stdout",
     "output_type": "stream",
     "text": [
      "Question received: What is the co-occurence frequency of somatic homozygous deletions in CDKN2A and CDKN2B in the mesothelioma project TCGA-MESO in the genomic data commons?\n",
      "starting pipeline\n",
      "running test on input                                            questions\n",
      "0  What is the co-occurence frequency of somatic ...\n"
     ]
    },
    {
     "name": "stderr",
     "output_type": "stream",
     "text": [
      "  0%|          | 0/1 [00:00<?, ?it/s]gpustat is not installed, run `pip install gpustat` to collect GPU stats.\n"
     ]
    },
    {
     "data": {
      "application/vnd.jupyter.widget-view+json": {
       "model_id": "9800817b041845cc858470c4ddfd3418",
       "version_major": 2,
       "version_minor": 0
      },
      "text/plain": [
       "StitchWidget(initial_height='auto', initial_width='100%', srcdoc='<!doctype html>\\n<html lang=\"en\">\\n<head>\\n …"
      ]
     },
     "metadata": {},
     "output_type": "display_data"
    },
    {
     "name": "stdout",
     "output_type": "stream",
     "text": [
      "query:\n",
      "What is the co-occurence frequency of somatic homozygous deletions in CDKN2A and CDKN2B in the mesothelioma project TCGA-MESO in the genomic data commons?\n",
      "\n"
     ]
    },
    {
     "name": "stderr",
     "output_type": "stream",
     "text": [
      "/home/aartiv/.cache/pypoetry/virtualenvs/gdc-qag-3gr8ijm6-py3.10/lib/python3.10/site-packages/spacy/language.py:2195: FutureWarning: Possible set union at position 6328\n",
      "  deserializers[\"tokenizer\"] = lambda p: self.tokenizer.from_disk(  # type: ignore[union-attr]\n"
     ]
    },
    {
     "name": "stdout",
     "output_type": "stream",
     "text": [
      "gene entities ['CDKN2A', 'CDKN2B']\n",
      "mutation entities []\n",
      "cancer entities ['TCGA-MESO']\n",
      "user intent:\n",
      "freq_cnv_loss_or_gain\n",
      "\n"
     ]
    },
    {
     "name": "stderr",
     "output_type": "stream",
     "text": [
      "100%|██████████| 1/1 [00:17<00:00, 17.62s/it]\n"
     ]
    },
    {
     "name": "stdout",
     "output_type": "stream",
     "text": [
      "api_call_result ['joint frequency in TCGA-MESO is 44.83%']\n"
     ]
    },
    {
     "name": "stderr",
     "output_type": "stream",
     "text": [
      "100%|██████████| 1/1 [00:03<00:00,  3.96s/it]\n"
     ]
    },
    {
     "name": "stdout",
     "output_type": "stream",
     "text": [
      "postprocessing response\n"
     ]
    },
    {
     "name": "stderr",
     "output_type": "stream",
     "text": [
      "100%|██████████| 1/1 [00:00<00:00, 570.19it/s]\n"
     ]
    },
    {
     "name": "stdout",
     "output_type": "stream",
     "text": [
      "result                                                                    0\n",
      "questions          What is the co-occurence frequency of somatic ...\n",
      "intent                                         freq_cnv_loss_or_gain\n",
      "llama_base_output                          The final answer is: 0.0%\n",
      "helper_output                 joint frequency in TCGA-MESO is 44.83%\n",
      "cancer_entities                                            TCGA-MESO\n",
      "gene_entities                                       [CDKN2A, CDKN2B]\n",
      "mutation_entities                                                 []\n",
      "modified_prompt    What is the co-occurence frequency of somatic ...\n",
      "ground_truth_stat                                              44.83\n",
      "llama_base_stat                                                  0.0\n",
      "delta_llama                                                   -44.83\n",
      "final_response                           The final answer is: 44.83%\n",
      "completed\n",
      "execute_pipeline took 21.6316 seconds\n"
     ]
    }
   ],
   "source": [
    "demo.launch(server_port=7862, show_api=True, mcp_server=True)"
   ]
  }
 ],
 "metadata": {
  "kernelspec": {
   "display_name": "Python Poetry venv-3.10.13",
   "language": "python",
   "name": "venv-3.10.13"
  },
  "language_info": {
   "codemirror_mode": {
    "name": "ipython",
    "version": 3
   },
   "file_extension": ".py",
   "mimetype": "text/x-python",
   "name": "python",
   "nbconvert_exporter": "python",
   "pygments_lexer": "ipython3",
   "version": "3.10.13"
  }
 },
 "nbformat": 4,
 "nbformat_minor": 5
}
